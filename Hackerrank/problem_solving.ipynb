{
 "cells": [
  {
   "cell_type": "code",
   "execution_count": null,
   "metadata": {},
   "outputs": [],
   "source": [
    "# This is just for personal purpose."
   ]
  },
  {
   "cell_type": "code",
   "execution_count": 2,
   "metadata": {},
   "outputs": [
    {
     "name": "stdout",
     "output_type": "stream",
     "text": [
      "[75, 67, 40, 33]\n"
     ]
    }
   ],
   "source": [
    "# Student grade problem\n",
    "\n",
    "def gradingStudents(grades):\n",
    "    rounded_grades = []\n",
    "    for grade in grades:\n",
    "        if grade<=37:  # we don't round as it is fail\n",
    "            rounded_grades.append(grade)\n",
    "            continue\n",
    "        next_multiple_of_five = (grade - grade%5) + 5\n",
    "        if next_multiple_of_five - grade < 3:\n",
    "            rounded_grades.append(next_multiple_of_five)\n",
    "        else:\n",
    "            rounded_grades.append(grade)\n",
    "    return rounded_grades\n",
    "\n",
    "grades = [73,67,38,33]\n",
    "print(gradingStudents(grades))"
   ]
  },
  {
   "cell_type": "code",
   "execution_count": 34,
   "metadata": {},
   "outputs": [
    {
     "name": "stdout",
     "output_type": "stream",
     "text": [
      "['(']\n",
      "['(', '[']\n",
      "False\n"
     ]
    }
   ],
   "source": [
    "def validate_brackets(inputstring):\n",
    "    if len(inputstring)%2 != 0: #return false if there are odd numbers of bracket\n",
    "        return False\n",
    "    \n",
    "    bracket_dict = {')':'(', '}':'{', ']':'['}\n",
    "    \n",
    "    opened_bracket = []\n",
    "    \n",
    "    for bracket in inputstring:\n",
    "        if bracket in bracket_dict.values():\n",
    "            opened_bracket.append(bracket)\n",
    "        else:\n",
    "            if opened_bracket[-1] == bracket_dict[bracket]:\n",
    "                opened_bracket.pop(-1)\n",
    "            else:\n",
    "                return False #we closed the bracket we should not to\n",
    "        print(opened_bracket)\n",
    "\n",
    "    return True\n",
    "\n",
    "# driver code\n",
    "inputstring = '([)]'\n",
    "\n",
    "print(validate_brackets(inputstring))\n",
    "\n",
    "# for bracket in inputstring:\n",
    "#     if bracket in bracket_dict.values():\n",
    "#         opened_bracket.append(bracket)\n",
    "#     else:\n",
    "#         closed_bracket.append(bracket_dict[bracket])\n",
    "#     print(opened_bracket,closed_bracket[::-1])\n",
    "# return opened_bracket==closed_bracket[::-1]"
   ]
  },
  {
   "cell_type": "code",
   "execution_count": 44,
   "metadata": {},
   "outputs": [
    {
     "name": "stdout",
     "output_type": "stream",
     "text": [
      "1\n",
      "2\n"
     ]
    }
   ],
   "source": [
    "def countApplesAndOranges(s, t, a, b, apples, oranges):\n",
    "    apples_location = [a+apple for apple in apples]\n",
    "    orange_location = [b+orange for orange in oranges]\n",
    "#     print(apples_location,orange_location)\n",
    "\n",
    "    apples_in_house = list(filter(lambda x:s<=x<=t,apples_location))\n",
    "    oranges_in_house = list(filter(lambda x:s<=x<=t,orange_location))\n",
    "    \n",
    "    print(len(apples_in_house))\n",
    "    print(len(oranges_in_house))\n",
    "\n",
    "# Driver program\n",
    "s,t,a,b,apples,oranges = 7,10,4,12,[2,3,-4],[3,-2,-4]\n",
    "countApplesAndOranges(s, t, a, b, apples, oranges)"
   ]
  },
  {
   "cell_type": "code",
   "execution_count": 65,
   "metadata": {},
   "outputs": [
    {
     "name": "stdout",
     "output_type": "stream",
     "text": [
      "[6, 12, 18, 24]\n",
      "2\n"
     ]
    }
   ],
   "source": [
    "def getTotalX(a, b):\n",
    "    values_to_check = list(range(max(a),min(b)+1,max(a)))\n",
    "#     print(values_to_check\n",
    "    counter=0\n",
    "    for value in values_to_check:\n",
    "        if sum([value%x for x in a]) == 0 + sum([x%value for x in b]) == 0:\n",
    "            counter += 1\n",
    "    return(counter)\n",
    "    \n",
    "a = [2,6]\n",
    "b = [24,36]\n",
    "\n",
    "values_to_check = list(range(max(a),min(b)+1,max(a)))\n",
    "print(values_to_check)\n",
    "\n",
    "counter=0\n",
    "for value in values_to_check:\n",
    "    if sum([value%x for x in a]) == 0 + sum([x%value for x in b]) == 0:\n",
    "        counter += 1\n",
    "print(counter)"
   ]
  },
  {
   "cell_type": "code",
   "execution_count": 84,
   "metadata": {},
   "outputs": [
    {
     "name": "stdout",
     "output_type": "stream",
     "text": [
      "(2, 4)\n"
     ]
    }
   ],
   "source": [
    "def breakingRecords(scores):\n",
    "    highest_score = scores[0]\n",
    "    lowest_score = scores[0]\n",
    "\n",
    "    best_record_breaker = 0\n",
    "    worst_record_breaker = 0\n",
    "\n",
    "    for score in scores:\n",
    "    #     if score == highest_score == lowest_score:\n",
    "    #         continue\n",
    "    #     else:\n",
    "        if (score < lowest_score):\n",
    "    #         print('less',score,'|',lowest_score,highest_score)\n",
    "            lowest_score = score\n",
    "            worst_record_breaker += 1\n",
    "        elif (score > highest_score):\n",
    "    #         print('more',score,'|',lowest_score,highest_score)\n",
    "            highest_score = score\n",
    "            best_record_breaker += 1\n",
    "    #     print('loop',lowest_score,highest_score)\n",
    "\n",
    "    return(best_record_breaker,worst_record_breaker)\n",
    "\n",
    "#DRIVER PROGRAM\n",
    "# scores = [3, 4, 21, 36, 10, 28, 35, 5, 24, 42]\n",
    "scores = [10, 5, 20, 20, 4, 5, 2, 25, 1]\n",
    "print(breakingRecords(scores))\n"
   ]
  },
  {
   "cell_type": "code",
   "execution_count": 80,
   "metadata": {},
   "outputs": [
    {
     "data": {
      "text/plain": [
       "[3, 4, 21, 36, 10, 28, 35, 5, 24, 42]"
      ]
     },
     "execution_count": 80,
     "metadata": {},
     "output_type": "execute_result"
    }
   ],
   "source": [
    "list(map(int,'3 4 21 36 10 28 35 5 24 42'.split()))"
   ]
  },
  {
   "cell_type": "code",
   "execution_count": 1,
   "metadata": {},
   "outputs": [],
   "source": [
    "def printmat(mat):\n",
    "    for x in mat:\n",
    "        print(x)\n",
    "    print('-----')"
   ]
  },
  {
   "cell_type": "code",
   "execution_count": 2,
   "metadata": {},
   "outputs": [
    {
     "name": "stdout",
     "output_type": "stream",
     "text": [
      "[[4, 9, 2], [3, 5, 7], [8, 1, 6]]\n",
      "[[8, 3, 4], [1, 5, 9], [6, 7, 2]]\n",
      "[[6, 1, 8], [7, 5, 3], [2, 9, 4]]\n",
      "[[2, 7, 6], [9, 5, 1], [4, 3, 8]]\n",
      "[[8, 1, 6], [3, 5, 7], [4, 9, 2]]\n",
      "[[4, 3, 8], [9, 5, 1], [2, 7, 6]]\n",
      "[[2, 9, 4], [7, 5, 3], [6, 1, 8]]\n",
      "[[6, 7, 2], [1, 5, 9], [8, 3, 4]]\n",
      "-----\n"
     ]
    }
   ],
   "source": [
    "# rotate_mat(seed)\n",
    "def rotate_mat(s):\n",
    "    rot = [[0]*3 for _ in range(3)]\n",
    "    rot[1][1]=5\n",
    "    for i in range(3):\n",
    "        for j in range(3):\n",
    "            rot[i][j]=s[2-j][i]\n",
    "    return(rot)\n",
    "\n",
    "seed1 = [[4,9,2],[3,5,7],[8,1,6]]\n",
    "magic_matrix=[seed1]\n",
    "for _ in range(3):\n",
    "    magic_matrix.append(rotate_mat(magic_matrix[-1]))\n",
    "    \n",
    "seed2 = [seed1[-i] for i in range(1,4)]\n",
    "magic_matrix.append(seed2)\n",
    "for _ in range(3):\n",
    "    magic_matrix.append(rotate_mat(magic_matrix[-1]))\n",
    "    \n",
    "printmat(magic_matrix)"
   ]
  },
  {
   "cell_type": "code",
   "execution_count": 3,
   "metadata": {},
   "outputs": [
    {
     "name": "stdout",
     "output_type": "stream",
     "text": [
      "[4, 9, 2]\n",
      "[3, 5, 7]\n",
      "[8, 1, 6]\n",
      "-----\n",
      "[8, 3, 4]\n",
      "[1, 5, 9]\n",
      "[6, 7, 2]\n",
      "-----\n",
      "[6, 1, 8]\n",
      "[7, 5, 3]\n",
      "[2, 9, 4]\n",
      "-----\n",
      "[2, 7, 6]\n",
      "[9, 5, 1]\n",
      "[4, 3, 8]\n",
      "-----\n",
      "[8, 1, 6]\n",
      "[3, 5, 7]\n",
      "[4, 9, 2]\n",
      "-----\n",
      "[4, 3, 8]\n",
      "[9, 5, 1]\n",
      "[2, 7, 6]\n",
      "-----\n",
      "[2, 9, 4]\n",
      "[7, 5, 3]\n",
      "[6, 1, 8]\n",
      "-----\n",
      "[6, 7, 2]\n",
      "[1, 5, 9]\n",
      "[8, 3, 4]\n",
      "-----\n",
      "[4, 26, 36, 24, 30, 32, 14, 14]\n",
      "4\n"
     ]
    }
   ],
   "source": [
    "s = [[4, 8, 2],[4, 5, 7],[6, 1, 6]]\n",
    "costs = []\n",
    "for x in magic_matrix:\n",
    "    printmat(x)\n",
    "    cost = 0\n",
    "    for sr,ar in zip(s,x):\n",
    "        for e1,e2 in zip(sr,ar):\n",
    "            # print(e1,e2)\n",
    "            if not e1==e2:\n",
    "                cost += abs(e1-e2)\n",
    "    costs.append(cost)\n",
    "print(costs)\n",
    "print(min(costs))"
   ]
  },
  {
   "cell_type": "code",
   "execution_count": 34,
   "metadata": {},
   "outputs": [
    {
     "data": {
      "text/plain": [
       "[[4, 9, 2], [3, 5, 7], [8, 1, 6]]"
      ]
     },
     "execution_count": 34,
     "metadata": {},
     "output_type": "execute_result"
    }
   ],
   "source": [
    "seed1"
   ]
  },
  {
   "cell_type": "code",
   "execution_count": 38,
   "metadata": {},
   "outputs": [
    {
     "data": {
      "text/plain": [
       "[[8, 1, 6], [3, 5, 7], [4, 9, 2]]"
      ]
     },
     "execution_count": 38,
     "metadata": {},
     "output_type": "execute_result"
    }
   ],
   "source": [
    "a = {}.fromkeys()"
   ]
  },
  {
   "cell_type": "code",
   "execution_count": 4,
   "metadata": {},
   "outputs": [],
   "source": [
    "que = '''4 97 5 97 97 4 97 4 97 97 97 97 4 4 5 5 97 5 97 99 4 97 5 97 97 97 5 5 97 4 5 97 97 5 97 4 97 5 4 4 97 5 5 5 4 97 97 4 97 5 4 4 97 97 97 5 5 97 4 97 97 5 4 97 97 4 97 97 97 5 4 4 97 4 4 97 5 97 97 97 97 4 97 5 97 5 4 97 4 5 97 97 5 97 5 97 5 97 97 97'''\n",
    "\n",
    "n = 100\n",
    "\n",
    "a = list(map(int, que.rstrip().split()))"
   ]
  },
  {
   "cell_type": "code",
   "execution_count": 19,
   "metadata": {},
   "outputs": [
    {
     "name": "stdout",
     "output_type": "stream",
     "text": [
      "100\n",
      "{4: 24, 5: 25, 97: 50, 99: 1}\n",
      "50\n"
     ]
    }
   ],
   "source": [
    "a_unique = sorted(list(set(a)))\n",
    "\n",
    "if len(a_unique)==1:\n",
    "    print(len(a))\n",
    "print(len(a))\n",
    "dictcount = {}\n",
    "for x in a_unique:\n",
    "    dictcount[x] = a.count(x)\n",
    "print(dictcount)\n",
    "\n",
    "max_num = 1\n",
    "for i in a_unique:\n",
    "    try:\n",
    "        temp = dictcount[i]+dictcount.get(i-1)\n",
    "    except:\n",
    "        temp = dictcount[i]\n",
    "    if temp > max_num:\n",
    "        max_num = temp\n",
    "print(max_num)\n",
    "# return max_num"
   ]
  },
  {
   "cell_type": "code",
   "execution_count": 23,
   "metadata": {},
   "outputs": [],
   "source": [
    "a = [1,2,3,4]"
   ]
  },
  {
   "cell_type": "code",
   "execution_count": 26,
   "metadata": {},
   "outputs": [
    {
     "name": "stdout",
     "output_type": "stream",
     "text": [
      "4\n",
      "3\n",
      "2\n",
      "1\n"
     ]
    }
   ],
   "source": [
    "for x in a[::-1]:\n",
    "    print(x)\n",
    "a."
   ]
  },
  {
   "cell_type": "code",
   "execution_count": 13,
   "metadata": {
    "collapsed": true
   },
   "outputs": [
    {
     "name": "stdout",
     "output_type": "stream",
     "text": [
      "4 24 3 0\n",
      "97 50 96 0\n",
      "5 25 4 24\n",
      "97 50 96 0\n",
      "97 50 96 0\n",
      "4 24 3 0\n",
      "97 50 96 0\n",
      "4 24 3 0\n",
      "97 50 96 0\n",
      "97 50 96 0\n",
      "97 50 96 0\n",
      "97 50 96 0\n",
      "4 24 3 0\n",
      "4 24 3 0\n",
      "5 25 4 24\n",
      "5 25 4 24\n",
      "97 50 96 0\n",
      "5 25 4 24\n",
      "97 50 96 0\n",
      "99 1 98 0\n",
      "4 24 3 0\n",
      "97 50 96 0\n",
      "5 25 4 24\n",
      "97 50 96 0\n",
      "97 50 96 0\n",
      "97 50 96 0\n",
      "5 25 4 24\n",
      "5 25 4 24\n",
      "97 50 96 0\n",
      "4 24 3 0\n",
      "5 25 4 24\n",
      "97 50 96 0\n",
      "97 50 96 0\n",
      "5 25 4 24\n",
      "97 50 96 0\n",
      "4 24 3 0\n",
      "97 50 96 0\n",
      "5 25 4 24\n",
      "4 24 3 0\n",
      "4 24 3 0\n",
      "97 50 96 0\n",
      "5 25 4 24\n",
      "5 25 4 24\n",
      "5 25 4 24\n",
      "4 24 3 0\n",
      "97 50 96 0\n",
      "97 50 96 0\n",
      "4 24 3 0\n",
      "97 50 96 0\n",
      "5 25 4 24\n",
      "4 24 3 0\n",
      "4 24 3 0\n",
      "97 50 96 0\n",
      "97 50 96 0\n",
      "97 50 96 0\n",
      "5 25 4 24\n",
      "5 25 4 24\n",
      "97 50 96 0\n",
      "4 24 3 0\n",
      "97 50 96 0\n",
      "97 50 96 0\n",
      "5 25 4 24\n",
      "4 24 3 0\n",
      "97 50 96 0\n",
      "97 50 96 0\n",
      "4 24 3 0\n",
      "97 50 96 0\n",
      "97 50 96 0\n",
      "97 50 96 0\n",
      "5 25 4 24\n",
      "4 24 3 0\n",
      "4 24 3 0\n",
      "97 50 96 0\n",
      "4 24 3 0\n",
      "4 24 3 0\n",
      "97 50 96 0\n",
      "5 25 4 24\n",
      "97 50 96 0\n",
      "97 50 96 0\n",
      "97 50 96 0\n",
      "97 50 96 0\n",
      "4 24 3 0\n",
      "97 50 96 0\n",
      "5 25 4 24\n",
      "97 50 96 0\n",
      "5 25 4 24\n",
      "4 24 3 0\n",
      "97 50 96 0\n",
      "4 24 3 0\n",
      "5 25 4 24\n",
      "97 50 96 0\n",
      "97 50 96 0\n",
      "5 25 4 24\n",
      "97 50 96 0\n",
      "5 25 4 24\n",
      "97 50 96 0\n",
      "5 25 4 24\n",
      "97 50 96 0\n",
      "97 50 96 0\n",
      "97 50 96 0\n",
      "50\n"
     ]
    }
   ],
   "source": [
    "l = a\n",
    "maximum=0\n",
    "for i in l:\n",
    "    c=l.count(i)\n",
    "    d=l.count(i-1)\n",
    "    print(i,c,i-1,d)\n",
    "    c=c+d\n",
    "    if c > maximum:\n",
    "        maximum=c\n",
    "print(maximum)"
   ]
  }
 ],
 "metadata": {
  "kernelspec": {
   "display_name": "Python 3",
   "language": "python",
   "name": "python3"
  },
  "language_info": {
   "codemirror_mode": {
    "name": "ipython",
    "version": 3
   },
   "file_extension": ".py",
   "mimetype": "text/x-python",
   "name": "python",
   "nbconvert_exporter": "python",
   "pygments_lexer": "ipython3",
   "version": "3.8.5"
  }
 },
 "nbformat": 4,
 "nbformat_minor": 4
}
