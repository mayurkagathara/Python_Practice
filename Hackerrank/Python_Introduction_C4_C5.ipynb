{
 "cells": [
  {
   "cell_type": "code",
   "execution_count": 122,
   "metadata": {
    "id": "WUoJ8goyA6fo"
   },
   "outputs": [],
   "source": [
    "list_numbers = list(range(1,35))\n",
    "for i in range(len(list_numbers)):\n",
    "#     print( list_numbers[i])\n",
    "    if list_numbers[i]%15 == 0:\n",
    "        list_numbers[i] = 'FizzBuzz'\n",
    "        continue\n",
    "    if list_numbers[i]%5 == 0:\n",
    "        list_numbers[i] = 'Buzz'\n",
    "        continue\n",
    "    if list_numbers[i]%3 == 0:\n",
    "        list_numbers[i] = 'Fizz'\n",
    "        continue\n",
    "    list_numbers[i] = str(i+1)"
   ]
  },
  {
   "cell_type": "code",
   "execution_count": 33,
   "metadata": {},
   "outputs": [
    {
     "data": {
      "text/plain": [
       "['1',\n",
       " '2',\n",
       " 'Fizz',\n",
       " '4',\n",
       " 'Buzz',\n",
       " 'Fizz',\n",
       " '7',\n",
       " '8',\n",
       " 'Fizz',\n",
       " 'Buzz',\n",
       " '11',\n",
       " 'Fizz',\n",
       " '13',\n",
       " '14',\n",
       " 'FizzBuzz',\n",
       " '16',\n",
       " '17',\n",
       " 'Fizz',\n",
       " '19',\n",
       " 'Buzz',\n",
       " 'Fizz',\n",
       " '22',\n",
       " '23',\n",
       " 'Fizz',\n",
       " 'Buzz',\n",
       " '26',\n",
       " 'Fizz',\n",
       " '28',\n",
       " '29',\n",
       " 'FizzBuzz',\n",
       " '31',\n",
       " '32',\n",
       " 'Fizz',\n",
       " '34']"
      ]
     },
     "execution_count": 33,
     "metadata": {},
     "output_type": "execute_result"
    }
   ],
   "source": [
    "list_numbers"
   ]
  },
  {
   "cell_type": "markdown",
   "metadata": {},
   "source": [
    "### Find Fibo of given number n"
   ]
  },
  {
   "cell_type": "code",
   "execution_count": 34,
   "metadata": {},
   "outputs": [],
   "source": [
    "from functools import reduce\n",
    "# n = int(input())\n",
    "n = 10\n",
    "\n",
    "if n<=1:\n",
    "    print(n)\n",
    "\n",
    "start = 0\n",
    "second = 1\n",
    "    \n",
    "for _ in range(n-1):\n",
    "    fibo = start+second\n",
    "    start = second\n",
    "    second = fibo\n",
    "fibo"
   ]
  },
  {
   "cell_type": "markdown",
   "metadata": {},
   "source": [
    "### Find fibo of all numbers given in list"
   ]
  },
  {
   "cell_type": "code",
   "execution_count": 1,
   "metadata": {},
   "outputs": [
    {
     "name": "stdout",
     "output_type": "stream",
     "text": [
      "165580141\n",
      "21\n",
      "17711\n"
     ]
    }
   ],
   "source": [
    "# code to find fibo of all numbers given in list\n",
    "\n",
    "inputarray = [41,8,22]\n",
    "max_number = max(inputarray)\n",
    "\n",
    "dict_fibo_log = {}.fromkeys(inputarray,0)\n",
    "start = 0\n",
    "second = 1\n",
    "\n",
    "if 0 in dict_fibo_log.keys():\n",
    "        dict_fibo_log[0] = 0\n",
    "if 1 in dict_fibo_log.keys():\n",
    "        dict_fibo_log[1] = 1\n",
    "        \n",
    "for xth in range(max_number-1):\n",
    "    fibo = start+second\n",
    "    start = second\n",
    "    second = fibo\n",
    "    if (xth+2) in dict_fibo_log.keys():\n",
    "        dict_fibo_log[xth+2] = fibo\n",
    "\n",
    "answer = [str(dict_fibo_log[x]) for x in inputarray]\n",
    "print('\\n'.join(answer))"
   ]
  },
  {
   "cell_type": "markdown",
   "metadata": {},
   "source": [
    "### To find only uncoupled number"
   ]
  },
  {
   "cell_type": "code",
   "execution_count": 4,
   "metadata": {},
   "outputs": [
    {
     "data": {
      "text/plain": [
       "99"
      ]
     },
     "execution_count": 4,
     "metadata": {},
     "output_type": "execute_result"
    }
   ],
   "source": [
    "from functools import reduce\n",
    "inputnumbers = [1,2,3,99,1,2,3]\n",
    "reduce(lambda x,y:x^y,inputnumbers)"
   ]
  },
  {
   "cell_type": "code",
   "execution_count": 133,
   "metadata": {},
   "outputs": [
    {
     "name": "stdout",
     "output_type": "stream",
     "text": [
      "2\n"
     ]
    }
   ],
   "source": [
    "from functools import reduce\n",
    "\n",
    "# n = int(input())\n",
    "n=2\n",
    "\n",
    "def factorial(n):\n",
    "    if n==0:\n",
    "        return 1 \n",
    "    numbers = list(range(1,n+1))\n",
    "    return(reduce(lambda x,y:x*y,numbers))\n",
    "\n",
    "\n",
    "print(factorial(n))"
   ]
  },
  {
   "cell_type": "markdown",
   "metadata": {},
   "source": [
    "## to find number of combinations to make value from available coins\n",
    "example: make 10 from coins of 1 2 5 "
   ]
  },
  {
   "cell_type": "code",
   "execution_count": 162,
   "metadata": {},
   "outputs": [
    {
     "name": "stdout",
     "output_type": "stream",
     "text": [
      "5334\n"
     ]
    }
   ],
   "source": [
    "# very very lengthy and time consuming program\n",
    "# Brute force technique\n",
    "\n",
    "import itertools\n",
    "combs = []\n",
    "\n",
    "n=20       # value\n",
    "c=[1,2,3]  # coins\n",
    "\n",
    "for x in range(1,n+1):\n",
    "    combs.extend(list(itertools.combinations_with_replacement(c,x)))\n",
    "\n",
    "truecomb = filter(lambda x:x==n,[sum(comb) for comb in combs])\n",
    "print(len(list(truecomb)))"
   ]
  },
  {
   "cell_type": "code",
   "execution_count": 200,
   "metadata": {},
   "outputs": [
    {
     "name": "stdout",
     "output_type": "stream",
     "text": [
      "[0, 1, 2, 3, 4, 5, 6]  collection table\n",
      "[1, 0, 0, 0, 0, 0, 0]  ways \n",
      "[1, 0, 0, 0, 0, 0, 0] comparing 0\n",
      "[1, 0, 0, 0, 0, 0, 0] comparing 1\n",
      "[1, 1, 0, 0, 0, 0, 0] comparing 2\n",
      "[1, 1, 1, 0, 0, 0, 0] comparing 3\n",
      "[1, 1, 1, 1, 0, 0, 0] comparing 4\n",
      "[1, 1, 1, 1, 1, 0, 0] comparing 5\n",
      "[1, 1, 1, 1, 1, 1, 0] comparing 6\n",
      "[1, 1, 1, 1, 1, 1, 1]  coin 1\n",
      "[1, 1, 1, 1, 1, 1, 1] comparing 0\n",
      "[1, 1, 1, 1, 1, 1, 1] comparing 1\n",
      "[1, 1, 1, 1, 1, 1, 1] comparing 2\n",
      "[1, 1, 2, 1, 1, 1, 1] comparing 3\n",
      "[1, 1, 2, 2, 1, 1, 1] comparing 4\n",
      "[1, 1, 2, 2, 3, 1, 1] comparing 5\n",
      "[1, 1, 2, 2, 3, 3, 1] comparing 6\n",
      "[1, 1, 2, 2, 3, 3, 4]  coin 2\n",
      "[1, 1, 2, 2, 3, 3, 4] comparing 0\n",
      "[1, 1, 2, 2, 3, 3, 4] comparing 1\n",
      "[1, 1, 2, 2, 3, 3, 4] comparing 2\n",
      "[1, 1, 2, 2, 3, 3, 4] comparing 3\n",
      "[1, 1, 2, 3, 3, 3, 4] comparing 4\n",
      "[1, 1, 2, 3, 4, 3, 4] comparing 5\n",
      "[1, 1, 2, 3, 4, 5, 4] comparing 6\n",
      "[1, 1, 2, 3, 4, 5, 7]  coin 3\n",
      "7\n"
     ]
    }
   ],
   "source": [
    "# Dynamic programming to solve the same problem\n",
    "\n",
    "n=6\n",
    "c=[1,2,3]\n",
    "\n",
    "collection_table = list(range(n+1))\n",
    "ways = [0]*(n+1)\n",
    "ways[0] = 1\n",
    "\n",
    "print(collection_table,' collection table')\n",
    "print(ways, ' ways ')\n",
    "\n",
    "def countways(n,c):\n",
    "    for i in c:\n",
    "        for j in range(len(collection_table)): # j is index as well as final m value as well\n",
    "            print(ways,'comparing',j)\n",
    "            if collection_table[j] >= i:\n",
    "                ways[j] += ways[j-i]\n",
    "#             print(ways,'comparing',j)\n",
    "        print(ways,' coin',i)\n",
    "    return ways[-1]\n",
    "\n",
    "print(countways(n,c))"
   ]
  }
 ],
 "metadata": {
  "colab": {
   "authorship_tag": "ABX9TyOW/lV6AMWXosnYoJvMbGjH",
   "collapsed_sections": [],
   "include_colab_link": true,
   "name": "Python_Introduction_C4_C5.ipynb",
   "provenance": []
  },
  "kernelspec": {
   "display_name": "Python 3",
   "language": "python",
   "name": "python3"
  },
  "language_info": {
   "codemirror_mode": {
    "name": "ipython",
    "version": 3
   },
   "file_extension": ".py",
   "mimetype": "text/x-python",
   "name": "python",
   "nbconvert_exporter": "python",
   "pygments_lexer": "ipython3",
   "version": "3.8.5"
  }
 },
 "nbformat": 4,
 "nbformat_minor": 1
}
