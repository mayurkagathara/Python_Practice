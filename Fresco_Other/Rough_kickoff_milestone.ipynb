{
 "cells": [
  {
   "cell_type": "code",
   "execution_count": 69,
   "metadata": {},
   "outputs": [],
   "source": [
    "import pandas as pd"
   ]
  },
  {
   "cell_type": "code",
   "execution_count": 67,
   "metadata": {},
   "outputs": [],
   "source": [
    "def appreciation(initial_chocolates, last_day, n):\n",
    "    # Write your code here\n",
    "    chocolateDist = []\n",
    "    total = 0\n",
    "    for day in range(1,last_day+1):\n",
    "        temp = initial_chocolates*2**(day-1)\n",
    "        total += temp\n",
    "        chocolateDist.append((day,temp))\n",
    "        \n",
    "    print(chocolateDist)\n",
    "    print(f'total {total}')\n",
    "    totalChoc = 0\n",
    "    ansday = 1\n",
    "    findChoc = int(round(total/n,0))\n",
    "    print(f'findChoc {findChoc}')\n",
    "    \n",
    "    if findChoc < chocolateDist[0][1]:\n",
    "        print('point 1')\n",
    "        return ansday\n",
    "    \n",
    "    for x in chocolateDist:\n",
    "        totalChoc += x[1]\n",
    "        print(f'totalChoc {totalChoc} x {x}')\n",
    "        if totalChoc > findChoc:\n",
    "            ansday = x[0]\n",
    "            return ansday"
   ]
  },
  {
   "cell_type": "code",
   "execution_count": 68,
   "metadata": {},
   "outputs": [
    {
     "name": "stdout",
     "output_type": "stream",
     "text": [
      "[(1, 9), (2, 18), (3, 36), (4, 72), (5, 144), (6, 288), (7, 576), (8, 1152), (9, 2304), (10, 4608), (11, 9216), (12, 18432), (13, 36864), (14, 73728), (15, 147456), (16, 294912), (17, 589824), (18, 1179648), (19, 2359296), (20, 4718592), (21, 9437184), (22, 18874368), (23, 37748736), (24, 75497472), (25, 150994944), (26, 301989888), (27, 603979776), (28, 1207959552), (29, 2415919104), (30, 4831838208), (31, 9663676416), (32, 19327352832), (33, 38654705664), (34, 77309411328), (35, 154618822656), (36, 309237645312), (37, 618475290624), (38, 1236950581248), (39, 2473901162496), (40, 4947802324992), (41, 9895604649984), (42, 19791209299968), (43, 39582418599936), (44, 79164837199872), (45, 158329674399744), (46, 316659348799488), (47, 633318697598976), (48, 1266637395197952), (49, 2533274790395904), (50, 5066549580791808)]\n",
      "total 10133099161583607\n",
      "findChoc 1013309916158361\n",
      "totalChoc 9 x (1, 9)\n",
      "totalChoc 27 x (2, 18)\n",
      "totalChoc 63 x (3, 36)\n",
      "totalChoc 135 x (4, 72)\n",
      "totalChoc 279 x (5, 144)\n",
      "totalChoc 567 x (6, 288)\n",
      "totalChoc 1143 x (7, 576)\n",
      "totalChoc 2295 x (8, 1152)\n",
      "totalChoc 4599 x (9, 2304)\n",
      "totalChoc 9207 x (10, 4608)\n",
      "totalChoc 18423 x (11, 9216)\n",
      "totalChoc 36855 x (12, 18432)\n",
      "totalChoc 73719 x (13, 36864)\n",
      "totalChoc 147447 x (14, 73728)\n",
      "totalChoc 294903 x (15, 147456)\n",
      "totalChoc 589815 x (16, 294912)\n",
      "totalChoc 1179639 x (17, 589824)\n",
      "totalChoc 2359287 x (18, 1179648)\n",
      "totalChoc 4718583 x (19, 2359296)\n",
      "totalChoc 9437175 x (20, 4718592)\n",
      "totalChoc 18874359 x (21, 9437184)\n",
      "totalChoc 37748727 x (22, 18874368)\n",
      "totalChoc 75497463 x (23, 37748736)\n",
      "totalChoc 150994935 x (24, 75497472)\n",
      "totalChoc 301989879 x (25, 150994944)\n",
      "totalChoc 603979767 x (26, 301989888)\n",
      "totalChoc 1207959543 x (27, 603979776)\n",
      "totalChoc 2415919095 x (28, 1207959552)\n",
      "totalChoc 4831838199 x (29, 2415919104)\n",
      "totalChoc 9663676407 x (30, 4831838208)\n",
      "totalChoc 19327352823 x (31, 9663676416)\n",
      "totalChoc 38654705655 x (32, 19327352832)\n",
      "totalChoc 77309411319 x (33, 38654705664)\n",
      "totalChoc 154618822647 x (34, 77309411328)\n",
      "totalChoc 309237645303 x (35, 154618822656)\n",
      "totalChoc 618475290615 x (36, 309237645312)\n",
      "totalChoc 1236950581239 x (37, 618475290624)\n",
      "totalChoc 2473901162487 x (38, 1236950581248)\n",
      "totalChoc 4947802324983 x (39, 2473901162496)\n",
      "totalChoc 9895604649975 x (40, 4947802324992)\n",
      "totalChoc 19791209299959 x (41, 9895604649984)\n",
      "totalChoc 39582418599927 x (42, 19791209299968)\n",
      "totalChoc 79164837199863 x (43, 39582418599936)\n",
      "totalChoc 158329674399735 x (44, 79164837199872)\n",
      "totalChoc 316659348799479 x (45, 158329674399744)\n",
      "totalChoc 633318697598967 x (46, 316659348799488)\n",
      "totalChoc 1266637395197943 x (47, 633318697598976)\n"
     ]
    },
    {
     "data": {
      "text/plain": [
       "47"
      ]
     },
     "execution_count": 68,
     "metadata": {},
     "output_type": "execute_result"
    }
   ],
   "source": [
    "appreciation(9, 50, 10)"
   ]
  },
  {
   "cell_type": "code",
   "execution_count": 23,
   "metadata": {},
   "outputs": [],
   "source": [
    "x = [(1, 6), (2, 12), (3, 24)]"
   ]
  },
  {
   "cell_type": "code",
   "execution_count": 55,
   "metadata": {},
   "outputs": [
    {
     "data": {
      "text/plain": [
       "6"
      ]
     },
     "execution_count": 55,
     "metadata": {},
     "output_type": "execute_result"
    }
   ],
   "source": [
    "x[0][1]"
   ]
  },
  {
   "cell_type": "code",
   "execution_count": null,
   "metadata": {},
   "outputs": [],
   "source": [
    "def appreciation(initial_chocolates, last_day, n):\n",
    "    # Write your code here\n",
    "    chocolateDist = []\n",
    "    total = 0\n",
    "    for day in range(1,last_day+1):\n",
    "        temp = initial_chocolates*2**(day-1)\n",
    "        total += temp\n",
    "        chocolateDist.append((day,temp))\n",
    "        \n",
    "    totalChoc = 0\n",
    "    ansday = 1\n",
    "    findChoc = round(total/n,0)\n",
    "    \n",
    "    if findChoc < chocolateDist[0][1]:\n",
    "        return ansday\n",
    "    \n",
    "    for x in chocolateDist:\n",
    "        totalChoc += x[1]\n",
    "        if totalChoc > findChoc:\n",
    "            ansday = x[0]\n",
    "            return ansday"
   ]
  },
  {
   "cell_type": "code",
   "execution_count": 93,
   "metadata": {},
   "outputs": [],
   "source": [
    "df = pd.read_csv(\"data1.csv\")"
   ]
  },
  {
   "cell_type": "code",
   "execution_count": 94,
   "metadata": {},
   "outputs": [
    {
     "data": {
      "text/html": [
       "<div>\n",
       "<style scoped>\n",
       "    .dataframe tbody tr th:only-of-type {\n",
       "        vertical-align: middle;\n",
       "    }\n",
       "\n",
       "    .dataframe tbody tr th {\n",
       "        vertical-align: top;\n",
       "    }\n",
       "\n",
       "    .dataframe thead th {\n",
       "        text-align: right;\n",
       "    }\n",
       "</style>\n",
       "<table border=\"1\" class=\"dataframe\">\n",
       "  <thead>\n",
       "    <tr style=\"text-align: right;\">\n",
       "      <th></th>\n",
       "      <th>Month</th>\n",
       "      <th>Monthly juice production</th>\n",
       "    </tr>\n",
       "  </thead>\n",
       "  <tbody>\n",
       "    <tr>\n",
       "      <th>0</th>\n",
       "      <td>1956-01</td>\n",
       "      <td>93.2</td>\n",
       "    </tr>\n",
       "    <tr>\n",
       "      <th>1</th>\n",
       "      <td>1956-02</td>\n",
       "      <td>96.0</td>\n",
       "    </tr>\n",
       "    <tr>\n",
       "      <th>2</th>\n",
       "      <td>1956-03</td>\n",
       "      <td>95.2</td>\n",
       "    </tr>\n",
       "    <tr>\n",
       "      <th>3</th>\n",
       "      <td>1956-04</td>\n",
       "      <td>77.1</td>\n",
       "    </tr>\n",
       "    <tr>\n",
       "      <th>4</th>\n",
       "      <td>1956-05</td>\n",
       "      <td>70.9</td>\n",
       "    </tr>\n",
       "  </tbody>\n",
       "</table>\n",
       "</div>"
      ],
      "text/plain": [
       "     Month  Monthly juice production\n",
       "0  1956-01                      93.2\n",
       "1  1956-02                      96.0\n",
       "2  1956-03                      95.2\n",
       "3  1956-04                      77.1\n",
       "4  1956-05                      70.9"
      ]
     },
     "execution_count": 94,
     "metadata": {},
     "output_type": "execute_result"
    }
   ],
   "source": [
    "df.head()"
   ]
  },
  {
   "cell_type": "code",
   "execution_count": 95,
   "metadata": {},
   "outputs": [
    {
     "data": {
      "text/plain": [
       "Timestamp('1956-01-01 00:00:00')"
      ]
     },
     "execution_count": 95,
     "metadata": {},
     "output_type": "execute_result"
    }
   ],
   "source": [
    "pd.to_datetime(data1['Month'][0])"
   ]
  },
  {
   "cell_type": "code",
   "execution_count": 96,
   "metadata": {},
   "outputs": [],
   "source": [
    "df['Month'] = pd.to_datetime(df['Month'])"
   ]
  },
  {
   "cell_type": "code",
   "execution_count": 102,
   "metadata": {},
   "outputs": [
    {
     "data": {
      "text/html": [
       "<div>\n",
       "<style scoped>\n",
       "    .dataframe tbody tr th:only-of-type {\n",
       "        vertical-align: middle;\n",
       "    }\n",
       "\n",
       "    .dataframe tbody tr th {\n",
       "        vertical-align: top;\n",
       "    }\n",
       "\n",
       "    .dataframe thead th {\n",
       "        text-align: right;\n",
       "    }\n",
       "</style>\n",
       "<table border=\"1\" class=\"dataframe\">\n",
       "  <thead>\n",
       "    <tr style=\"text-align: right;\">\n",
       "      <th></th>\n",
       "      <th>Monthly juice production</th>\n",
       "    </tr>\n",
       "    <tr>\n",
       "      <th>Month</th>\n",
       "      <th></th>\n",
       "    </tr>\n",
       "  </thead>\n",
       "  <tbody>\n",
       "    <tr>\n",
       "      <th>1956-01-01</th>\n",
       "      <td>93.2</td>\n",
       "    </tr>\n",
       "    <tr>\n",
       "      <th>1956-02-01</th>\n",
       "      <td>96.0</td>\n",
       "    </tr>\n",
       "    <tr>\n",
       "      <th>1956-03-01</th>\n",
       "      <td>95.2</td>\n",
       "    </tr>\n",
       "    <tr>\n",
       "      <th>1956-04-01</th>\n",
       "      <td>77.1</td>\n",
       "    </tr>\n",
       "    <tr>\n",
       "      <th>1956-05-01</th>\n",
       "      <td>70.9</td>\n",
       "    </tr>\n",
       "  </tbody>\n",
       "</table>\n",
       "</div>"
      ],
      "text/plain": [
       "            Monthly juice production\n",
       "Month                               \n",
       "1956-01-01                      93.2\n",
       "1956-02-01                      96.0\n",
       "1956-03-01                      95.2\n",
       "1956-04-01                      77.1\n",
       "1956-05-01                      70.9"
      ]
     },
     "execution_count": 102,
     "metadata": {},
     "output_type": "execute_result"
    }
   ],
   "source": [
    "df.head()"
   ]
  },
  {
   "cell_type": "code",
   "execution_count": 91,
   "metadata": {},
   "outputs": [],
   "source": [
    "df = pd.DataFrame(data=df, index=df['Month'])"
   ]
  },
  {
   "cell_type": "code",
   "execution_count": null,
   "metadata": {},
   "outputs": [],
   "source": [
    "df.set_index('Month',inplace=True)"
   ]
  },
  {
   "cell_type": "code",
   "execution_count": 103,
   "metadata": {},
   "outputs": [],
   "source": [
    "df2 = df.copy()"
   ]
  },
  {
   "cell_type": "code",
   "execution_count": 107,
   "metadata": {},
   "outputs": [
    {
     "data": {
      "text/plain": [
       "DatetimeIndexResampler [freq=<Day>, axis=0, closed=left, label=left, convention=start, base=0]"
      ]
     },
     "execution_count": 107,
     "metadata": {},
     "output_type": "execute_result"
    }
   ],
   "source": [
    "val1 = df2.resample('D')\n",
    "val1"
   ]
  },
  {
   "cell_type": "code",
   "execution_count": null,
   "metadata": {},
   "outputs": [],
   "source": [
    "val1.interpolate(method='spline',order=2)"
   ]
  },
  {
   "cell_type": "code",
   "execution_count": 115,
   "metadata": {},
   "outputs": [
    {
     "data": {
      "text/html": [
       "<div>\n",
       "<style scoped>\n",
       "    .dataframe tbody tr th:only-of-type {\n",
       "        vertical-align: middle;\n",
       "    }\n",
       "\n",
       "    .dataframe tbody tr th {\n",
       "        vertical-align: top;\n",
       "    }\n",
       "\n",
       "    .dataframe thead th {\n",
       "        text-align: right;\n",
       "    }\n",
       "</style>\n",
       "<table border=\"1\" class=\"dataframe\">\n",
       "  <thead>\n",
       "    <tr style=\"text-align: right;\">\n",
       "      <th></th>\n",
       "      <th>Monthly juice production</th>\n",
       "    </tr>\n",
       "    <tr>\n",
       "      <th>Month</th>\n",
       "      <th></th>\n",
       "    </tr>\n",
       "  </thead>\n",
       "  <tbody>\n",
       "    <tr>\n",
       "      <th>1956-03-31</th>\n",
       "      <td>94.800000</td>\n",
       "    </tr>\n",
       "    <tr>\n",
       "      <th>1956-06-30</th>\n",
       "      <td>70.933333</td>\n",
       "    </tr>\n",
       "    <tr>\n",
       "      <th>1956-09-30</th>\n",
       "      <td>75.633333</td>\n",
       "    </tr>\n",
       "    <tr>\n",
       "      <th>1956-12-31</th>\n",
       "      <td>102.800000</td>\n",
       "    </tr>\n",
       "    <tr>\n",
       "      <th>1957-03-31</th>\n",
       "      <td>87.333333</td>\n",
       "    </tr>\n",
       "    <tr>\n",
       "      <th>1957-06-30</th>\n",
       "      <td>75.966667</td>\n",
       "    </tr>\n",
       "    <tr>\n",
       "      <th>1957-09-30</th>\n",
       "      <td>78.700000</td>\n",
       "    </tr>\n",
       "    <tr>\n",
       "      <th>1957-12-31</th>\n",
       "      <td>106.800000</td>\n",
       "    </tr>\n",
       "    <tr>\n",
       "      <th>1958-03-31</th>\n",
       "      <td>90.633333</td>\n",
       "    </tr>\n",
       "    <tr>\n",
       "      <th>1958-06-30</th>\n",
       "      <td>77.600000</td>\n",
       "    </tr>\n",
       "    <tr>\n",
       "      <th>1958-09-30</th>\n",
       "      <td>79.000000</td>\n",
       "    </tr>\n",
       "    <tr>\n",
       "      <th>1958-12-31</th>\n",
       "      <td>104.466667</td>\n",
       "    </tr>\n",
       "    <tr>\n",
       "      <th>1959-03-31</th>\n",
       "      <td>87.133333</td>\n",
       "    </tr>\n",
       "    <tr>\n",
       "      <th>1959-06-30</th>\n",
       "      <td>75.600000</td>\n",
       "    </tr>\n",
       "    <tr>\n",
       "      <th>1959-09-30</th>\n",
       "      <td>83.300000</td>\n",
       "    </tr>\n",
       "    <tr>\n",
       "      <th>1959-12-31</th>\n",
       "      <td>104.766667</td>\n",
       "    </tr>\n",
       "    <tr>\n",
       "      <th>1960-03-31</th>\n",
       "      <td>95.366667</td>\n",
       "    </tr>\n",
       "    <tr>\n",
       "      <th>1960-06-30</th>\n",
       "      <td>75.500000</td>\n",
       "    </tr>\n",
       "    <tr>\n",
       "      <th>1960-09-30</th>\n",
       "      <td>86.800000</td>\n",
       "    </tr>\n",
       "    <tr>\n",
       "      <th>1960-12-31</th>\n",
       "      <td>103.800000</td>\n",
       "    </tr>\n",
       "    <tr>\n",
       "      <th>1961-03-31</th>\n",
       "      <td>98.233333</td>\n",
       "    </tr>\n",
       "    <tr>\n",
       "      <th>1961-06-30</th>\n",
       "      <td>77.533333</td>\n",
       "    </tr>\n",
       "    <tr>\n",
       "      <th>1961-09-30</th>\n",
       "      <td>85.733333</td>\n",
       "    </tr>\n",
       "    <tr>\n",
       "      <th>1961-12-31</th>\n",
       "      <td>113.066667</td>\n",
       "    </tr>\n",
       "    <tr>\n",
       "      <th>1962-03-31</th>\n",
       "      <td>93.033333</td>\n",
       "    </tr>\n",
       "    <tr>\n",
       "      <th>1962-06-30</th>\n",
       "      <td>83.266667</td>\n",
       "    </tr>\n",
       "    <tr>\n",
       "      <th>1962-09-30</th>\n",
       "      <td>89.933333</td>\n",
       "    </tr>\n",
       "    <tr>\n",
       "      <th>1962-12-31</th>\n",
       "      <td>115.233333</td>\n",
       "    </tr>\n",
       "    <tr>\n",
       "      <th>1963-03-31</th>\n",
       "      <td>97.933333</td>\n",
       "    </tr>\n",
       "    <tr>\n",
       "      <th>1963-06-30</th>\n",
       "      <td>84.900000</td>\n",
       "    </tr>\n",
       "    <tr>\n",
       "      <th>1963-09-30</th>\n",
       "      <td>92.500000</td>\n",
       "    </tr>\n",
       "    <tr>\n",
       "      <th>1963-12-31</th>\n",
       "      <td>121.133333</td>\n",
       "    </tr>\n",
       "    <tr>\n",
       "      <th>1964-03-31</th>\n",
       "      <td>104.466667</td>\n",
       "    </tr>\n",
       "    <tr>\n",
       "      <th>1964-06-30</th>\n",
       "      <td>90.933333</td>\n",
       "    </tr>\n",
       "    <tr>\n",
       "      <th>1964-09-30</th>\n",
       "      <td>100.033333</td>\n",
       "    </tr>\n",
       "    <tr>\n",
       "      <th>1964-12-31</th>\n",
       "      <td>123.166667</td>\n",
       "    </tr>\n",
       "    <tr>\n",
       "      <th>1965-03-31</th>\n",
       "      <td>110.266667</td>\n",
       "    </tr>\n",
       "    <tr>\n",
       "      <th>1965-06-30</th>\n",
       "      <td>95.933333</td>\n",
       "    </tr>\n",
       "    <tr>\n",
       "      <th>1965-09-30</th>\n",
       "      <td>101.966667</td>\n",
       "    </tr>\n",
       "    <tr>\n",
       "      <th>1965-12-31</th>\n",
       "      <td>126.050000</td>\n",
       "    </tr>\n",
       "  </tbody>\n",
       "</table>\n",
       "</div>"
      ],
      "text/plain": [
       "            Monthly juice production\n",
       "Month                               \n",
       "1956-03-31                 94.800000\n",
       "1956-06-30                 70.933333\n",
       "1956-09-30                 75.633333\n",
       "1956-12-31                102.800000\n",
       "1957-03-31                 87.333333\n",
       "1957-06-30                 75.966667\n",
       "1957-09-30                 78.700000\n",
       "1957-12-31                106.800000\n",
       "1958-03-31                 90.633333\n",
       "1958-06-30                 77.600000\n",
       "1958-09-30                 79.000000\n",
       "1958-12-31                104.466667\n",
       "1959-03-31                 87.133333\n",
       "1959-06-30                 75.600000\n",
       "1959-09-30                 83.300000\n",
       "1959-12-31                104.766667\n",
       "1960-03-31                 95.366667\n",
       "1960-06-30                 75.500000\n",
       "1960-09-30                 86.800000\n",
       "1960-12-31                103.800000\n",
       "1961-03-31                 98.233333\n",
       "1961-06-30                 77.533333\n",
       "1961-09-30                 85.733333\n",
       "1961-12-31                113.066667\n",
       "1962-03-31                 93.033333\n",
       "1962-06-30                 83.266667\n",
       "1962-09-30                 89.933333\n",
       "1962-12-31                115.233333\n",
       "1963-03-31                 97.933333\n",
       "1963-06-30                 84.900000\n",
       "1963-09-30                 92.500000\n",
       "1963-12-31                121.133333\n",
       "1964-03-31                104.466667\n",
       "1964-06-30                 90.933333\n",
       "1964-09-30                100.033333\n",
       "1964-12-31                123.166667\n",
       "1965-03-31                110.266667\n",
       "1965-06-30                 95.933333\n",
       "1965-09-30                101.966667\n",
       "1965-12-31                126.050000"
      ]
     },
     "execution_count": 115,
     "metadata": {},
     "output_type": "execute_result"
    }
   ],
   "source": [
    "df2.resample('Q').mean()"
   ]
  },
  {
   "cell_type": "code",
   "execution_count": 112,
   "metadata": {},
   "outputs": [
    {
     "data": {
      "text/html": [
       "<div>\n",
       "<style scoped>\n",
       "    .dataframe tbody tr th:only-of-type {\n",
       "        vertical-align: middle;\n",
       "    }\n",
       "\n",
       "    .dataframe tbody tr th {\n",
       "        vertical-align: top;\n",
       "    }\n",
       "\n",
       "    .dataframe thead th {\n",
       "        text-align: right;\n",
       "    }\n",
       "</style>\n",
       "<table border=\"1\" class=\"dataframe\">\n",
       "  <thead>\n",
       "    <tr style=\"text-align: right;\">\n",
       "      <th></th>\n",
       "      <th>Monthly juice production</th>\n",
       "    </tr>\n",
       "    <tr>\n",
       "      <th>Month</th>\n",
       "      <th></th>\n",
       "    </tr>\n",
       "  </thead>\n",
       "  <tbody>\n",
       "    <tr>\n",
       "      <th>1956-12-31</th>\n",
       "      <td>1032.5</td>\n",
       "    </tr>\n",
       "    <tr>\n",
       "      <th>1957-12-31</th>\n",
       "      <td>1046.4</td>\n",
       "    </tr>\n",
       "    <tr>\n",
       "      <th>1958-12-31</th>\n",
       "      <td>1055.1</td>\n",
       "    </tr>\n",
       "    <tr>\n",
       "      <th>1959-12-31</th>\n",
       "      <td>1052.4</td>\n",
       "    </tr>\n",
       "    <tr>\n",
       "      <th>1960-12-31</th>\n",
       "      <td>1084.4</td>\n",
       "    </tr>\n",
       "    <tr>\n",
       "      <th>1961-12-31</th>\n",
       "      <td>1123.7</td>\n",
       "    </tr>\n",
       "    <tr>\n",
       "      <th>1962-12-31</th>\n",
       "      <td>1144.4</td>\n",
       "    </tr>\n",
       "    <tr>\n",
       "      <th>1963-12-31</th>\n",
       "      <td>1189.4</td>\n",
       "    </tr>\n",
       "    <tr>\n",
       "      <th>1964-12-31</th>\n",
       "      <td>1255.8</td>\n",
       "    </tr>\n",
       "    <tr>\n",
       "      <th>1965-12-31</th>\n",
       "      <td>1176.6</td>\n",
       "    </tr>\n",
       "  </tbody>\n",
       "</table>\n",
       "</div>"
      ],
      "text/plain": [
       "            Monthly juice production\n",
       "Month                               \n",
       "1956-12-31                    1032.5\n",
       "1957-12-31                    1046.4\n",
       "1958-12-31                    1055.1\n",
       "1959-12-31                    1052.4\n",
       "1960-12-31                    1084.4\n",
       "1961-12-31                    1123.7\n",
       "1962-12-31                    1144.4\n",
       "1963-12-31                    1189.4\n",
       "1964-12-31                    1255.8\n",
       "1965-12-31                    1176.6"
      ]
     },
     "execution_count": 112,
     "metadata": {},
     "output_type": "execute_result"
    }
   ],
   "source": [
    "df2.resample('1Y').sum()"
   ]
  },
  {
   "cell_type": "code",
   "execution_count": null,
   "metadata": {},
   "outputs": [],
   "source": []
  }
 ],
 "metadata": {
  "kernelspec": {
   "display_name": "Python 3",
   "language": "python",
   "name": "python3"
  },
  "language_info": {
   "codemirror_mode": {
    "name": "ipython",
    "version": 3
   },
   "file_extension": ".py",
   "mimetype": "text/x-python",
   "name": "python",
   "nbconvert_exporter": "python",
   "pygments_lexer": "ipython3",
   "version": "3.7.6"
  }
 },
 "nbformat": 4,
 "nbformat_minor": 4
}
