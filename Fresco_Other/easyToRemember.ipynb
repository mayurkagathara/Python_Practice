{
 "cells": [
  {
   "cell_type": "markdown",
   "metadata": {},
   "source": [
    "Python 3:  Some easy to forget commands and methods"
   ]
  },
  {
   "cell_type": "code",
   "execution_count": 1,
   "metadata": {},
   "outputs": [
    {
     "name": "stdout",
     "output_type": "stream",
     "text": [
      "FloatBin = 0.1+0.2 \n",
      "FloatBin = 0.30000000000000004 \n",
      "FloatBin - 0.3 = 5.551115123125783e-17\n",
      "'z'*10 = zzzzzzzzzz\n"
     ]
    }
   ],
   "source": [
    "FloatBin = 0.1+0.2 #it is not possible to represent 0.1 in binary same as 1/3 in decimal system\n",
    "print(f'FloatBin = 0.1+0.2 \\nFloatBin = {FloatBin} \\nFloatBin - 0.3 = {FloatBin-0.3}')\n",
    "print(f\"'z'*10 = {'z'*10}\")"
   ]
  },
  {
   "cell_type": "code",
   "execution_count": 2,
   "metadata": {},
   "outputs": [
    {
     "name": "stdout",
     "output_type": "stream",
     "text": [
      "<class 'int'>\n",
      "<class 'str'>\n",
      "<class 'float'>\n",
      "value of a: 3 and b:  3.14159\n",
      "value of a: 3 and b:  3.14159\n",
      "value of a: 3 and b:  3.14159\n",
      "value of a: 3 and b:  3.14159\n",
      "\n",
      "Left==== | -Center- | ...Right\n",
      "11====== | ---22--- | ......33\n",
      "Left     |  Center  |    Right\n",
      "11       |    22    |       33\n"
     ]
    }
   ],
   "source": [
    "import math\n",
    "a = 3\n",
    "b = repr(math.pi)\n",
    "print (type(a))\n",
    "print (type(b))\n",
    "b = float(b)\n",
    "print (type(b))\n",
    "print (\"value of a: %s and b: %8.5f\"%(a,b))\n",
    "print (\"value of a: {A} and b: {B:8.5f}\".format(A=a,B=b))\n",
    "print (f'value of a: {a} and b: {b:{8}.{6}}')\n",
    "print (f'value of a: {a} and b: {b:8.5f}\\n')\n",
    "print('{0:=<8} | {1:-^8} | {2:.>8}'.format('Left','Center','Right'))\n",
    "print('{0:=<8} | {1:-^8} | {2:.>8}'.format(11,22,33))\n",
    "print('{0:<8} | {1:^8} | {2:>8}'.format('Left','Center','Right'))\n",
    "print('{0:<8} | {1:^8} | {2:>8}'.format(11,22,33))"
   ]
  },
  {
   "cell_type": "code",
   "execution_count": 1,
   "metadata": {},
   "outputs": [
    {
     "name": "stdout",
     "output_type": "stream",
     "text": [
      "[[6, 4, 5], [8, 1, 3], [9, 8, 7]]\n",
      "[[9, 8, 7], [8, 1, 3], [6, 4, 5]]\n",
      "[8, 1, 4]\n"
     ]
    }
   ],
   "source": [
    "# Let's make three lists\n",
    "lst_1=[8,1,3]\n",
    "lst_2=[6,4,5]\n",
    "lst_3=[9,8,7]\n",
    "\n",
    "# Make a list of lists to form a matrix\n",
    "matrix = [lst_2,lst_1,lst_3]\n",
    "matrix.sort()\n",
    "print(matrix)\n",
    "matrix.reverse()\n",
    "print(matrix)\n",
    "# Build a list comprehension by deconstructing a for loop within a []\n",
    "first_col = [row[1] for row in matrix]\n",
    "print(first_col)"
   ]
  },
  {
   "cell_type": "code",
   "execution_count": 4,
   "metadata": {},
   "outputs": [
    {
     "name": "stdout",
     "output_type": "stream",
     "text": [
      "dict_items([('ram', 1), ('sita', 2), ('lakshman', 3)])\n",
      "dict_keys(['ram', 'sita', 'lakshman'])\n",
      "dict_values([1, 2, 3])\n"
     ]
    }
   ],
   "source": [
    "d = {'ram':1,'sita':2,'lakshman':3}\n",
    "print(d.items())\n",
    "print(d.keys())\n",
    "print(d.values())"
   ]
  },
  {
   "cell_type": "code",
   "execution_count": 5,
   "metadata": {
    "scrolled": true
   },
   "outputs": [
    {
     "name": "stdout",
     "output_type": "stream",
     "text": [
      "tuple has only two methods \n",
      "tupleVar = ('String', 108, 23.251995, ['list', 'String', 108, 23.251995], ('tuple', 'String', 108, 23.251995, ['list', 'String', 108, 23.251995]))       \n",
      "tupleVar.count(108) = 1 \n",
      "tupleVar.index(23.251995) = 2 \n"
     ]
    }
   ],
   "source": [
    "tupleVar = ('String',108,23.251995,['list','String',108,23.251995],\\\n",
    "            ('tuple','String',108,23.251995,['list','String',108,23.251995],))\n",
    "\n",
    "print(f\"tuple has only two methods \\ntupleVar = {tupleVar} \\\n",
    "      \\ntupleVar.count(108) = {tupleVar.count(108)} \\ntupleVar.index(23.251995) = {tupleVar.index(23.251995)} \")"
   ]
  },
  {
   "cell_type": "code",
   "execution_count": 6,
   "metadata": {},
   "outputs": [
    {
     "name": "stdout",
     "output_type": "stream",
     "text": [
      "[0, 1, 2, 3, 4, 5, 6, 7, 8, 9, 10]\n",
      "[0, 1, 4, 9, 16, 25, 36, 49, 64, 81, 100]\n",
      "[0, 4, 16, 36, 64, 100]\n",
      "[0, 1, 16, 81, 256, 625, 1296, 2401, 4096, 6561, 10000]\n"
     ]
    }
   ],
   "source": [
    "lst = [x for x in range(0,11)]\n",
    "print(lst)\n",
    "lst = [x**2 for x in range(0,11)]\n",
    "print(lst)\n",
    "lst = [x**2 for x in range(0,11) if x%2==0]\n",
    "print(lst)\n",
    "lst = [ x**2 for x in [x**2 for x in range(11)]]\n",
    "print(lst)"
   ]
  },
  {
   "cell_type": "code",
   "execution_count": 2,
   "metadata": {},
   "outputs": [
    {
     "name": "stdout",
     "output_type": "stream",
     "text": [
      "[(0, 'a'), (1, 'b'), (2, 'c'), (3, 'd'), (4, 'e')]\n",
      "At index 0 the letter is a\n",
      "At index 1 the letter is b\n",
      "At index 2 the letter is c\n",
      "At index 3 the letter is d\n",
      "At index 4 the letter is e\n",
      "[(1, 'a', (11, 'aa')), (2, 'b', (22, 'bb')), (3, 'c', (33, 'cc'))]\n",
      "True\n",
      "False\n",
      "24\n",
      "enter first word came to your mind: win\n"
     ]
    }
   ],
   "source": [
    "from random import randint\n",
    "\n",
    "print(list(enumerate('abcde')))\n",
    "for i,letter in enumerate('abcde'):\n",
    "    print(\"At index {} the letter is {}\".format(i,letter))\n",
    "    \n",
    "mylist1 = [1,2,3,4,5,6,7]\n",
    "mylist2 = ['a','b','c','d','e']\n",
    "mylist3 = [(11,'aa'),(22,'bb'),(33,'cc')]\n",
    "print(list(zip(mylist1,mylist2,mylist3)))\n",
    "\n",
    "print(2 in mylist1)\n",
    "print('e' not in mylist2)\n",
    "print(randint(0,100))\n",
    "\n",
    "invar = input(\"enter first word came to your mind: \")\n"
   ]
  },
  {
   "cell_type": "code",
   "execution_count": 2,
   "metadata": {},
   "outputs": [],
   "source": [
    "def myfunc(*args):\n",
    "    li = [x for x in args if x%2==0]\n",
    "    return li"
   ]
  },
  {
   "cell_type": "code",
   "execution_count": 3,
   "metadata": {},
   "outputs": [],
   "source": [
    "names = ['Andy','Billy','Carrie']"
   ]
  },
  {
   "cell_type": "code",
   "execution_count": 4,
   "metadata": {},
   "outputs": [
    {
     "data": {
      "text/plain": [
       "['A', 'B', 'C']"
      ]
     },
     "execution_count": 4,
     "metadata": {},
     "output_type": "execute_result"
    }
   ],
   "source": [
    "list(map(lambda x: x[0],names))"
   ]
  },
  {
   "cell_type": "code",
   "execution_count": 5,
   "metadata": {},
   "outputs": [
    {
     "data": {
      "text/plain": [
       "['A', 'B', 'C']"
      ]
     },
     "execution_count": 5,
     "metadata": {},
     "output_type": "execute_result"
    }
   ],
   "source": [
    "[x[0] for x in names]"
   ]
  },
  {
   "cell_type": "code",
   "execution_count": 25,
   "metadata": {},
   "outputs": [
    {
     "name": "stdout",
     "output_type": "stream",
     "text": [
      "['andy', 'billy', 'carrie']\n",
      "['hi andy', 'hi billy', 'hi carrie']\n"
     ]
    }
   ],
   "source": [
    "lf = lambda x: x[0].lower()+x[1:]\n",
    "\n",
    "def decor(f):\n",
    "    def param(x):\n",
    "        return ('hi '+f(x))\n",
    "    return param\n",
    "\n",
    "@decor\n",
    "def low(x):\n",
    "    return x[0].lower()+x[1:]\n",
    "\n",
    "print(list(map(lf,names)))\n",
    "print(list(map(low,names)))"
   ]
  },
  {
   "cell_type": "code",
   "execution_count": 26,
   "metadata": {},
   "outputs": [
    {
     "data": {
      "text/plain": [
       "'hi mayur'"
      ]
     },
     "execution_count": 26,
     "metadata": {},
     "output_type": "execute_result"
    }
   ],
   "source": [
    "a = low\n",
    "a('Mayur')"
   ]
  },
  {
   "cell_type": "code",
   "execution_count": null,
   "metadata": {},
   "outputs": [],
   "source": []
  }
 ],
 "metadata": {
  "kernelspec": {
   "display_name": "Python 3",
   "language": "python",
   "name": "python3"
  },
  "language_info": {
   "codemirror_mode": {
    "name": "ipython",
    "version": 3
   },
   "file_extension": ".py",
   "mimetype": "text/x-python",
   "name": "python",
   "nbconvert_exporter": "python",
   "pygments_lexer": "ipython3",
   "version": "3.7.6"
  }
 },
 "nbformat": 4,
 "nbformat_minor": 4
}
