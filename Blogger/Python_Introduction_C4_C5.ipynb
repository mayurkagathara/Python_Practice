{
  "nbformat": 4,
  "nbformat_minor": 0,
  "metadata": {
    "colab": {
      "name": "Python_Introduction_C4_C5.ipynb",
      "provenance": [],
      "collapsed_sections": [],
      "authorship_tag": "ABX9TyOW/lV6AMWXosnYoJvMbGjH",
      "include_colab_link": true
    },
    "kernelspec": {
      "name": "python3",
      "display_name": "Python 3"
    }
  },
  "cells": [
    {
      "cell_type": "markdown",
      "metadata": {
        "id": "view-in-github",
        "colab_type": "text"
      },
      "source": [
        "<a href=\"https://colab.research.google.com/github/mayurkagathara/Python_Practice/blob/main/Blogger/Python_Introduction_C4_C5.ipynb\" target=\"_parent\"><img src=\"https://colab.research.google.com/assets/colab-badge.svg\" alt=\"Open In Colab\"/></a>"
      ]
    },
    {
      "cell_type": "markdown",
      "metadata": {
        "id": "2dVP9iB5BGDO"
      },
      "source": [
        "# Python is love\n",
        "It is simple and takes care of us by taking care of annoying semi-colons, ugly brackets, data types and you will feel the same by spending more and more time with Python."
      ]
    },
    {
      "cell_type": "markdown",
      "metadata": {
        "id": "QPCGh6pCCbHv"
      },
      "source": [
        "## Datatypes in python"
      ]
    },
    {
      "cell_type": "code",
      "metadata": {
        "colab": {
          "base_uri": "https://localhost:8080/"
        },
        "id": "qMTBOXoGCakE",
        "outputId": "6fa90def-36f8-4547-e4e8-a7adca344b7d"
      },
      "source": [
        "print(type(2))\n"
      ],
      "execution_count": 1,
      "outputs": [
        {
          "output_type": "stream",
          "text": [
            "<class 'int'>\n"
          ],
          "name": "stdout"
        }
      ]
    },
    {
      "cell_type": "code",
      "metadata": {
        "id": "sbg3VPQkCV9W"
      },
      "source": [
        ""
      ],
      "execution_count": null,
      "outputs": []
    },
    {
      "cell_type": "code",
      "metadata": {
        "id": "WUoJ8goyA6fo"
      },
      "source": [
        ""
      ],
      "execution_count": null,
      "outputs": []
    }
  ]
}