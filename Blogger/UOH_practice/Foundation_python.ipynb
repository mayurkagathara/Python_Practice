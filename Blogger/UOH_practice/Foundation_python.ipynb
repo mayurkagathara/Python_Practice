{
 "metadata": {
  "language_info": {
   "codemirror_mode": {
    "name": "ipython",
    "version": 3
   },
   "file_extension": ".py",
   "mimetype": "text/x-python",
   "name": "python",
   "nbconvert_exporter": "python",
   "pygments_lexer": "ipython3",
   "version": "3.6.9"
  },
  "orig_nbformat": 2,
  "kernelspec": {
   "name": "python3",
   "display_name": "Python 3.6.9 64-bit",
   "metadata": {
    "interpreter": {
     "hash": "31f2aee4e71d21fbe5cf8b01ff0e069b9275f58929596ceb00d14d90e3e16cd6"
    }
   }
  }
 },
 "nbformat": 4,
 "nbformat_minor": 2,
 "cells": [
  {
   "source": [
    "Combinations using recursion"
   ],
   "cell_type": "markdown",
   "metadata": {}
  },
  {
   "cell_type": "code",
   "execution_count": 2,
   "metadata": {},
   "outputs": [
    {
     "output_type": "stream",
     "name": "stdout",
     "text": [
      "ARR [1, 2, 3, 4, 5] R 3\nARR [2, 3, 4, 5] R 2\nARR [3, 4, 5] R 1\nARR [4, 5] R 1\nARR [5] R 1\nARR [] R 1\nARR [3, 4, 5] R 2\nARR [4, 5] R 1\nARR [5] R 1\nARR [] R 1\nARR [4, 5] R 2\nARR [5] R 1\nARR [] R 1\nARR [5] R 2\nARR [] R 1\nARR [] R 2\n"
     ]
    },
    {
     "output_type": "execute_result",
     "data": {
      "text/plain": [
       "[[1, 2, 3],\n",
       " [1, 2, 4],\n",
       " [1, 2, 5],\n",
       " [1, 3, 4],\n",
       " [1, 3, 5],\n",
       " [1, 4, 5],\n",
       " [2, 3, 4],\n",
       " [2, 3, 5],\n",
       " [2, 4, 5],\n",
       " [3, 4, 5]]"
      ]
     },
     "metadata": {},
     "execution_count": 2
    }
   ],
   "source": [
    "def combinations(arr,r):\n",
    "#   print(\"ARR\",arr,\"R\",r)\n",
    "  if r==1:\n",
    "    return arr\n",
    "  \n",
    "  ans = []\n",
    "  # for element in arr:\n",
    "  #   rem = [x for x in arr if x!=element]\n",
    "  for i in range(len(arr)):\n",
    "    element = arr[i]\n",
    "    rem = arr[i+1:]\n",
    "    remcombs = combinations(rem,r-1)\n",
    "    # print('remcombs',remcombs)\n",
    "    for x in remcombs:\n",
    "      l1,l2 = [element],x\n",
    "      if isinstance(l2, int):\n",
    "        l1.append(l2)\n",
    "      else:\n",
    "        l1.extend(l2)\n",
    "    #   print(l1)\n",
    "      ans.append(l1)\n",
    "  \n",
    "#   print('ans',ans)\n",
    "  return ans\n",
    "\n",
    "\n",
    "# Driver Code\n",
    "arr = [1,2,3,4,5]\n",
    "combinations(arr,3)\n",
    "\n",
    "# verification\n",
    "# from itertools import combinations\n",
    "# combs = combinations(arr,3)\n",
    "# for c in combs:\n",
    "#   print(c)"
   ]
  },
  {
   "source": [
    "Find the peak element in window of two both side\n",
    "Conditions: \n",
    "* 4 is peak if 1 2 4 3 2\n",
    "* 4 is peak if 2 1 4 2 3\n"
   ],
   "cell_type": "markdown",
   "metadata": {}
  },
  {
   "cell_type": "code",
   "execution_count": 4,
   "metadata": {},
   "outputs": [
    {
     "output_type": "stream",
     "name": "stdout",
     "text": [
      "No Peak found!!\n2\n6\n"
     ]
    }
   ],
   "source": [
    "def findpeak_among_5(arr):\n",
    "    \"\"\"\n",
    "    To find the preak from the array whose nearest two neighbors are\n",
    "    smaller than it. We consider -inf valley on both sides of the array. \n",
    "    4 is peak if 1 2 4 3 2, 2 1 4 2 3, 4 1 2, 3 2 4\n",
    "    \"\"\"\n",
    "    if(len(arr)<3):\n",
    "        raise IndexError(\"Array length is less than 3\")\n",
    "    if(arr[0]>max(arr[1],arr[2])):\n",
    "        return 0\n",
    "    if(arr[-1]>max(arr[-2],arr[-3])):\n",
    "        return len(arr)-1\n",
    "    \n",
    "    for i in range(2,len(arr)-2):\n",
    "        if(arr[i]>max(arr[i-1],arr[i-2],arr[i+1],arr[i+2])):\n",
    "            return i\n",
    "\n",
    "    return('No Peak found!!')\n",
    "\n",
    "# driver code:\n",
    "\n",
    "arr1 = [1,2,3,1,4,5,5,4,5,3,1]\n",
    "arr2 = [5,3,10]\n",
    "arr3 = [1,2,3,1,4,5,8,4,5,3,1]\n",
    "print(findpeak_among_5(arr1))\n",
    "print(findpeak_among_5(arr2))\n",
    "print(findpeak_among_5(arr3))"
   ]
  },
  {
   "cell_type": "code",
   "execution_count": null,
   "metadata": {},
   "outputs": [],
   "source": []
  }
 ]
}