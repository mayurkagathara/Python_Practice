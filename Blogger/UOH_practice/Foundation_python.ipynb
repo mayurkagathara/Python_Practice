{
 "metadata": {
  "language_info": {
   "codemirror_mode": {
    "name": "ipython",
    "version": 3
   },
   "file_extension": ".py",
   "mimetype": "text/x-python",
   "name": "python",
   "nbconvert_exporter": "python",
   "pygments_lexer": "ipython3",
   "version": "3.6.9"
  },
  "orig_nbformat": 2,
  "kernelspec": {
   "name": "python3",
   "display_name": "Python 3.6.9 64-bit",
   "metadata": {
    "interpreter": {
     "hash": "31f2aee4e71d21fbe5cf8b01ff0e069b9275f58929596ceb00d14d90e3e16cd6"
    }
   }
  }
 },
 "nbformat": 4,
 "nbformat_minor": 2,
 "cells": [
  {
   "source": [
    "Combinations using recursion"
   ],
   "cell_type": "markdown",
   "metadata": {}
  },
  {
   "cell_type": "code",
   "execution_count": 5,
   "metadata": {},
   "outputs": [
    {
     "output_type": "execute_result",
     "data": {
      "text/plain": [
       "[[1, 2, 3],\n",
       " [1, 2, 4],\n",
       " [1, 2, 5],\n",
       " [1, 3, 4],\n",
       " [1, 3, 5],\n",
       " [1, 4, 5],\n",
       " [2, 3, 4],\n",
       " [2, 3, 5],\n",
       " [2, 4, 5],\n",
       " [3, 4, 5]]"
      ]
     },
     "metadata": {},
     "execution_count": 5
    }
   ],
   "source": [
    "def combinations(arr,r):\n",
    "#   print(\"ARR\",arr,\"R\",r)\n",
    "  if r==1:\n",
    "    return arr\n",
    "  \n",
    "  ans = []\n",
    "  # for element in arr:\n",
    "  #   rem = [x for x in arr if x!=element]\n",
    "  for i in range(len(arr)):\n",
    "    element = arr[i]\n",
    "    rem = arr[i+1:]\n",
    "    remcombs = combinations(rem,r-1)\n",
    "    # print('remcombs',remcombs)\n",
    "    for x in remcombs:\n",
    "      l1,l2 = [element],x\n",
    "      if isinstance(l2, int):\n",
    "        l1.append(l2)\n",
    "      else:\n",
    "        l1.extend(l2)\n",
    "    #   print(l1)\n",
    "      ans.append(l1)\n",
    "  \n",
    "#   print('ans',ans)\n",
    "  return ans\n",
    "\n",
    "\n",
    "# Driver Code\n",
    "arr = [1,2,3,4,5]\n",
    "combinations(arr,3)\n",
    "\n",
    "# verification\n",
    "# from itertools import combinations\n",
    "# combs = combinations(arr,3)\n",
    "# for c in combs:\n",
    "#   print(c)"
   ]
  },
  {
   "source": [
    "## Find peak element\n",
    "_**For window size of two**_  \n",
    "Find the peak element in window of two both side\n",
    "Conditions: \n",
    "* 4 is peak if 1 2 4 3 2\n",
    "* 4 is peak if 2 1 4 2 3\n"
   ],
   "cell_type": "markdown",
   "metadata": {}
  },
  {
   "cell_type": "code",
   "execution_count": 4,
   "metadata": {},
   "outputs": [
    {
     "output_type": "stream",
     "name": "stdout",
     "text": [
      "No Peak found!!\n2\n6\n"
     ]
    }
   ],
   "source": [
    "def findpeak_among_5(arr):\n",
    "    \"\"\"\n",
    "    To find the preak from the array whose nearest two neighbors are\n",
    "    smaller than it. We consider -inf valley on both sides of the array. \n",
    "    4 is peak if 1 2 4 3 2, 2 1 4 2 3, 4 1 2, 3 2 4\n",
    "    \"\"\"\n",
    "    if(len(arr)<3):\n",
    "        raise IndexError(\"Array length is less than 3\")\n",
    "    if(arr[0]>max(arr[1],arr[2])):\n",
    "        return 0\n",
    "    if(arr[-1]>max(arr[-2],arr[-3])):\n",
    "        return len(arr)-1\n",
    "    \n",
    "    for i in range(2,len(arr)-2):\n",
    "        if(arr[i]>max(arr[i-1],arr[i-2],arr[i+1],arr[i+2])):\n",
    "            return i\n",
    "\n",
    "    return('No Peak found!!')\n",
    "\n",
    "# driver code:\n",
    "\n",
    "arr1 = [1,2,3,1,4,5,5,4,5,3,1]\n",
    "arr2 = [5,3,10]\n",
    "arr3 = [1,2,3,1,4,5,8,4,5,3,1]\n",
    "print(findpeak_among_5(arr1))\n",
    "print(findpeak_among_5(arr2))\n",
    "print(findpeak_among_5(arr3))"
   ]
  },
  {
   "source": [
    "### Find Peak element for given window\n",
    "Find peak element which is greater than the nearest neighbours of given window size.  \n",
    "If window size is **w**, peak element is greater than **w** elements each side,"
   ],
   "cell_type": "markdown",
   "metadata": {}
  },
  {
   "cell_type": "code",
   "execution_count": 16,
   "metadata": {},
   "outputs": [
    {
     "output_type": "stream",
     "name": "stdout",
     "text": [
      "2\n0\n6\n6\nNo Peak found!!\n"
     ]
    }
   ],
   "source": [
    "def findpeak_window(arr,w):\n",
    "    \"\"\"\n",
    "    To find the preak from the array whose nearest w neighbors are\n",
    "    smaller than it. We consider -inf valley on both sides of the array. \n",
    "    4 is peak for window = 2 if ==> 1 2 4 3 2, 2 1 4 2 3, 4 1 2, 3 2 4\n",
    "    \"\"\"\n",
    "    if(len(arr) < w+1):\n",
    "        raise IndexError(f\"Array length is less than {w+1}\")\n",
    "\n",
    "    # let's check if edge elements are peak\n",
    "    if arr[0]>max(arr[1 : (w+1)]) :\n",
    "        return 0\n",
    "    if arr[-1]>max(arr[-2:-(w+2):-1]):\n",
    "        return len(arr)-1\n",
    "    \n",
    "    for i in range(w,len(arr)-w):\n",
    "        if arr[i] > max( max(arr[ i-w : i ]), max(arr[i+1:i+w+1])):\n",
    "            return i\n",
    "\n",
    "    return('No Peak found!!')\n",
    "\n",
    "# driver code:\n",
    "\n",
    "arr1 = [1,2,3,1,4,5,5,4,5,3,1]\n",
    "arr2 = [10,3,5]\n",
    "arr3 = [1,2,3,1,4,5,8,4,5,3,1]\n",
    "print(findpeak_window(arr1,1))\n",
    "print(findpeak_window(arr2,2))\n",
    "print(findpeak_window(arr3,3))\n",
    "print(findpeak_window(arr3,4))\n",
    "print(findpeak_window(arr3,5))"
   ]
  },
  {
   "source": [
    "## Big factorial\n",
    "\n",
    "Print the first 10 digit of a factorial of a large number.  \n",
    "consider not to take advantage of python bignum"
   ],
   "cell_type": "markdown",
   "metadata": {}
  },
  {
   "cell_type": "code",
   "execution_count": 7,
   "metadata": {},
   "outputs": [
    {
     "output_type": "execute_result",
     "data": {
      "text/plain": [
       "[1, 3, 0, 7, 6, 7, 4, 3, 6, 8, 0, 0, 0]"
      ]
     },
     "metadata": {},
     "execution_count": 7
    }
   ],
   "source": [
    "# Support functions---------------\n",
    "def digits(number):\n",
    "    # pythonic way\n",
    "    number_str = str(number)\n",
    "    digits_arr = list(map(int,number_str))\n",
    "    return digits_arr\n",
    "\n",
    "    #Standard way coming soon\n",
    "def multiply(arr,x):\n",
    "    \"\"\"\n",
    "    To multiply the array arr as number with x and retutn array as answer.\n",
    "    ex. [1,2,3]*5 = [6,1,5]\n",
    "    \"\"\"\n",
    "    # print(arr,x)\n",
    "    multiplication_arr = []\n",
    "    current_carry = 0\n",
    "    for number in arr[::-1]: #array in reverse order\n",
    "        multiplication = number*x + current_carry\n",
    "        current_carry = (multiplication - multiplication%10)//10\n",
    "        unit_digit = multiplication - (current_carry*10)\n",
    "        multiplication_arr.insert(0,unit_digit)\n",
    "        # print(number,multiplication,unit_digit,current_carry)\n",
    "        # print(multiplication_arr)\n",
    "\n",
    "    #to check if we have carry while multiplying last digit\n",
    "    if current_carry:\n",
    "        digits_in_current_carry = digits(current_carry)\n",
    "        for digit in digits_in_current_carry[::-1]:\n",
    "            multiplication_arr.insert(0,digit)\n",
    "    return multiplication_arr\n",
    "\n",
    "# Driver code    \n",
    "multiply([8, 7, 1, 7, 8, 2, 9, 1, 2, 0, 0], 15)"
   ]
  },
  {
   "cell_type": "code",
   "execution_count": 13,
   "metadata": {},
   "outputs": [
    {
     "output_type": "stream",
     "name": "stdout",
     "text": [
      "[9, 3, 3, 2, 6, 2, 1, 5, 4, 4, 3, 9, 4, 4, 1, 5, 2, 6, 8, 1, 6, 9, 9, 2, 3, 8, 8, 5, 6, 2, 6, 6, 7, 0, 0, 4, 9, 0, 7, 1, 5, 9, 6, 8, 2, 6, 4, 3, 8, 1, 6, 2, 1, 4, 6, 8, 5, 9, 2, 9, 6, 3, 8, 9, 5, 2, 1, 7, 5, 9, 9, 9, 9, 3, 2, 2, 9, 9, 1, 5, 6, 0, 8, 9, 4, 1, 4, 6, 3, 9, 7, 6, 1, 5, 6, 5, 1, 8, 2, 8, 6, 2, 5, 3, 6, 9, 7, 9, 2, 0, 8, 2, 7, 2, 2, 3, 7, 5, 8, 2, 5, 1, 1, 8, 5, 2, 1, 0, 9, 1, 6, 8, 6, 4, 0, 0, 0, 0, 0, 0, 0, 0, 0, 0, 0, 0, 0, 0, 0, 0, 0, 0, 0, 0, 0, 0, 0, 0]\n93326215443944152681699238856266700490715968264381621468592963895217599993229915608941463976156518286253697920827223758251185210916864000000000000000000000000\n"
     ]
    }
   ],
   "source": [
    "# MAIN FUNCTION FOR COMPUTING FACTORIAL\n",
    "def big_factorial(n):\n",
    "    \"\"\"\n",
    "    To find the factorial of a big number considering there is no bignum in the python using array.\n",
    "    We take assumption that our factorial consumes more bits than available in the largest datatype available.\n",
    "    \"\"\"\n",
    "    if n==0:\n",
    "        return 1\n",
    "    answer = [1]\n",
    "    for x in range(2,n+1):\n",
    "        answer = multiply(answer,x)\n",
    "    return(answer)\n",
    "\n",
    "# Driver Code\n",
    "num = 100 \n",
    "print(big_factorial(num))\n",
    "\n",
    "# Validation code\n",
    "def factorial(n):\n",
    "    if n==0:\n",
    "        return 1\n",
    "    return n*factorial(n-1)\n",
    "print(factorial(num))"
   ]
  },
  {
   "cell_type": "code",
   "execution_count": 14,
   "metadata": {},
   "outputs": [
    {
     "output_type": "execute_result",
     "data": {
      "text/plain": [
       "[9, 3, 3, 2, 6, 2, 1, 5, 4, 4]"
      ]
     },
     "metadata": {},
     "execution_count": 14
    }
   ],
   "source": [
    "# Problem solution to print first 10 digits. It is now trivial, nothing fancy\n",
    "def first_10_digits_factorial(n):\n",
    "    return big_factorial(n)[:10]\n",
    "\n",
    "# Driver Code\n",
    "first_10_digits_factorial(100)"
   ]
  },
  {
   "cell_type": "code",
   "execution_count": null,
   "metadata": {},
   "outputs": [],
   "source": []
  }
 ]
}