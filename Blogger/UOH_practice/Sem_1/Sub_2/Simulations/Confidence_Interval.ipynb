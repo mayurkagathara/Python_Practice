{
 "metadata": {
  "language_info": {
   "codemirror_mode": {
    "name": "ipython",
    "version": 3
   },
   "file_extension": ".py",
   "mimetype": "text/x-python",
   "name": "python",
   "nbconvert_exporter": "python",
   "pygments_lexer": "ipython3",
   "version": "3.6.9"
  },
  "orig_nbformat": 2,
  "kernelspec": {
   "name": "python3",
   "display_name": "Python 3.6.9 64-bit",
   "metadata": {
    "interpreter": {
     "hash": "31f2aee4e71d21fbe5cf8b01ff0e069b9275f58929596ceb00d14d90e3e16cd6"
    }
   }
  }
 },
 "nbformat": 4,
 "nbformat_minor": 2,
 "cells": [
  {
   "source": [
    "## Confidence Interval\n",
    "We will now estimate the Population mean with Confidence Interval because we can't say it is 100% correct.  \n",
    "We have only one sample out of Population. Some thousands girls data out of million girls in Countary.  \n",
    "We have two cases:\n",
    "* We know the Population Standard Deviation\n",
    "* We don't know the Population Standard Deviation  \n",
    "\n",
    "We will use Black Friday dataset: [blackfriday](\n",
    "https://www.kaggle.com/llopesolivei/blackfriday)"
   ],
   "cell_type": "markdown",
   "metadata": {}
  },
  {
   "source": [
    "### data description\n",
    "We are using Black Friday data. Our goal is to estimate the average money spent by Male population on black friday."
   ],
   "cell_type": "markdown",
   "metadata": {}
  },
  {
   "cell_type": "code",
   "execution_count": 1,
   "metadata": {},
   "outputs": [],
   "source": [
    "import numpy as np\n",
    "import pandas as pd\n",
    "import matplotlib.pyplot as plt\n",
    "import seaborn as sns\n",
    "from scipy import stats\n",
    "import random"
   ]
  },
  {
   "cell_type": "code",
   "execution_count": 2,
   "metadata": {},
   "outputs": [],
   "source": [
    "import ipywidgets as widgets\n",
    "from ipywidgets import interact, interactive, fixed, interact_manual\n",
    "from ipywidgets import FloatSlider,IntSlider,Combobox"
   ]
  },
  {
   "cell_type": "code",
   "execution_count": 3,
   "metadata": {},
   "outputs": [
    {
     "output_type": "execute_result",
     "data": {
      "text/plain": [
       "   User_ID Product_ID Gender   Age  Occupation City_Category  \\\n",
       "0  1000001  P00069042      F  0-17          10             A   \n",
       "1  1000001  P00248942      F  0-17          10             A   \n",
       "2  1000001  P00087842      F  0-17          10             A   \n",
       "\n",
       "  Stay_In_Current_City_Years  Marital_Status  Product_Category_1  \\\n",
       "0                          2               0                   3   \n",
       "1                          2               0                   1   \n",
       "2                          2               0                  12   \n",
       "\n",
       "   Product_Category_2  Product_Category_3  Purchase  \n",
       "0                 NaN                 NaN      8370  \n",
       "1                 6.0                14.0     15200  \n",
       "2                 NaN                 NaN      1422  "
      ],
      "text/html": "<div>\n<style scoped>\n    .dataframe tbody tr th:only-of-type {\n        vertical-align: middle;\n    }\n\n    .dataframe tbody tr th {\n        vertical-align: top;\n    }\n\n    .dataframe thead th {\n        text-align: right;\n    }\n</style>\n<table border=\"1\" class=\"dataframe\">\n  <thead>\n    <tr style=\"text-align: right;\">\n      <th></th>\n      <th>User_ID</th>\n      <th>Product_ID</th>\n      <th>Gender</th>\n      <th>Age</th>\n      <th>Occupation</th>\n      <th>City_Category</th>\n      <th>Stay_In_Current_City_Years</th>\n      <th>Marital_Status</th>\n      <th>Product_Category_1</th>\n      <th>Product_Category_2</th>\n      <th>Product_Category_3</th>\n      <th>Purchase</th>\n    </tr>\n  </thead>\n  <tbody>\n    <tr>\n      <th>0</th>\n      <td>1000001</td>\n      <td>P00069042</td>\n      <td>F</td>\n      <td>0-17</td>\n      <td>10</td>\n      <td>A</td>\n      <td>2</td>\n      <td>0</td>\n      <td>3</td>\n      <td>NaN</td>\n      <td>NaN</td>\n      <td>8370</td>\n    </tr>\n    <tr>\n      <th>1</th>\n      <td>1000001</td>\n      <td>P00248942</td>\n      <td>F</td>\n      <td>0-17</td>\n      <td>10</td>\n      <td>A</td>\n      <td>2</td>\n      <td>0</td>\n      <td>1</td>\n      <td>6.0</td>\n      <td>14.0</td>\n      <td>15200</td>\n    </tr>\n    <tr>\n      <th>2</th>\n      <td>1000001</td>\n      <td>P00087842</td>\n      <td>F</td>\n      <td>0-17</td>\n      <td>10</td>\n      <td>A</td>\n      <td>2</td>\n      <td>0</td>\n      <td>12</td>\n      <td>NaN</td>\n      <td>NaN</td>\n      <td>1422</td>\n    </tr>\n  </tbody>\n</table>\n</div>"
     },
     "metadata": {},
     "execution_count": 3
    }
   ],
   "source": [
    "df = pd.read_csv('/home/mayur/Downloads/PGDUOH/Python_UOH/Sem2_Notebooks/BlackFriday.csv')\n",
    "df.head(3)"
   ]
  },
  {
   "cell_type": "code",
   "execution_count": 4,
   "metadata": {},
   "outputs": [
    {
     "output_type": "stream",
     "name": "stdout",
     "text": [
      "Population mean:  9504.771712960679\nPopulation standard deviation:  5051.051025629941\n"
     ]
    }
   ],
   "source": [
    "Population_data = df[df['Gender']=='M']['Purchase'].values\n",
    "Population_data = np.array(Population_data)\n",
    "\n",
    "Population_mean = np.mean(Population_data)\n",
    "print(\"Population mean: \", Population_mean)\n",
    "Population_stdev = np.std(Population_data)\n",
    "print(\"Population standard deviation: \", Population_stdev)\n",
    "\n",
    "# We can not get value of all males and we have only 100 observations\n",
    "samples = random.sample(range(0,len(Population_data)),100)\n",
    "Sample_data = Population_data[samples]"
   ]
  },
  {
   "source": [
    "### 1. We know the Population Standard Deviation\n",
    "We can estimate the Populatoin mean between x̅-2σ/√n and x̅+2σ/√n where,  \n",
    " σ is Population Standard Deviation and x̅ is Sample mean and n is the sample size."
   ],
   "cell_type": "markdown",
   "metadata": {}
  },
  {
   "cell_type": "code",
   "execution_count": 10,
   "metadata": {},
   "outputs": [],
   "source": [
    "def confidence_interval_1(S_size=100, Pop_stdev_isknown = True):\n",
    "    '''\n",
    "    Plot confidence interval in case of we know the population standard deviation.\n",
    "    It takes sample size parameter.\n",
    "    It uses the global variables for Population.\n",
    "    It plots the displot and Confidence Interval.\n",
    "    '''\n",
    "    sample_size = S_size\n",
    "    samples = random.sample(range(0,len(Population_data)),sample_size)\n",
    "    Sample_data = Population_data[samples]\n",
    "    sample_mean_x_bar = np.mean(Sample_data)\n",
    "\n",
    "    if Pop_stdev_isknown:\n",
    "        error = 2*(np.std(Population_data)/np.sqrt(sample_size))\n",
    "    else:\n",
    "        error = 2*(np.std(Sample_data)/np.sqrt(sample_size))\n",
    "    lower_CI = sample_mean_x_bar - error\n",
    "    upper_CI = sample_mean_x_bar + error\n",
    "\n",
    "    #Just for fun we take random color everytime\n",
    "    colrs = ['r','g','b','y', 'c', 'm', 'k']\n",
    "    sns.displot(Population_data, color = colrs[random.randint(0,6)], kde=True)\n",
    "    plt.axvline(Population_mean, linestyle=\"-\", color='k', label=\"p_mean: \"+str(round(Population_mean,3)))\n",
    "    plt.axvline(sample_mean_x_bar, linestyle=\"--\", color='m', label=\"s_mean: \"+str(round(sample_mean_x_bar,3)))\n",
    "    plt.axvline(lower_CI, linestyle=\":\", color='g', label=\"lower_CI: \"+str(round(lower_CI,3)))\n",
    "    plt.axvline(upper_CI, linestyle=\":\", color='g', label=\"upper_CI: \"+str(round(upper_CI,3)))\n",
    "    plt.title('Estimating mean with 95% Confidence Interval')\n",
    "    plt.legend()"
   ]
  },
  {
   "cell_type": "code",
   "execution_count": 11,
   "metadata": {},
   "outputs": [],
   "source": [
    "w1_with_pop_mean = interactive(confidence_interval_1,{'manual': True},S_size = IntSlider(value=100,min=10,max=1000,step=5, continuous_update=False), P_stdev_known = True)"
   ]
  },
  {
   "cell_type": "code",
   "execution_count": 12,
   "metadata": {},
   "outputs": [
    {
     "output_type": "display_data",
     "data": {
      "text/plain": "interactive(children=(IntSlider(value=100, continuous_update=False, description='S_size', max=1000, min=10, st…",
      "application/vnd.jupyter.widget-view+json": {
       "version_major": 2,
       "version_minor": 0,
       "model_id": "f8bfa7bdb03342f884a3368581283475"
      }
     },
     "metadata": {}
    }
   ],
   "source": [
    "display(w1_with_pop_mean)"
   ]
  },
  {
   "source": [
    "<img src=\"Confidence_Interval.png\">"
   ],
   "cell_type": "markdown",
   "metadata": {}
  }
 ]
}