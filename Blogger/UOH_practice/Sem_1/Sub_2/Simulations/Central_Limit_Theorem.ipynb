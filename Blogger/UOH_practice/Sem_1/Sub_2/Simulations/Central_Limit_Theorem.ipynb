{
 "cells": [
  {
   "source": [
    "### Simulation: Central Limit Theorem (CLT)\n",
    "In this notebook we are going to see the CLT in action.  \n",
    "\n",
    "We will take the Pareto distribution and find mean value using CLT."
   ],
   "cell_type": "markdown",
   "metadata": {}
  },
  {
   "cell_type": "code",
   "execution_count": 26,
   "id": "e5a378a6",
   "metadata": {},
   "outputs": [],
   "source": [
    "# Import useful libraries\n",
    "import numpy as np\n",
    "import matplotlib.pyplot as plt\n",
    "import seaborn as sns\n",
    "from scipy import stats\n",
    "import random"
   ]
  },
  {
   "cell_type": "code",
   "execution_count": 27,
   "id": "9343de6a",
   "metadata": {},
   "outputs": [],
   "source": [
    "# Import interactive Widgets library\n",
    "import ipywidgets as widgets\n",
    "from ipywidgets import interact, interactive, fixed, interact_manual\n",
    "from ipywidgets import FloatSlider,IntSlider,Combobox"
   ]
  },
  {
   "cell_type": "code",
   "execution_count": 23,
   "id": "6cc851ee",
   "metadata": {},
   "outputs": [],
   "source": [
    "\n",
    "# Define the Population as global variable\n",
    "Population = []\n",
    "\n",
    "# Function to calculate Pareto distribution and plot it\n",
    "def plot_pareto(lmda=8.0,size_array=1000):\n",
    "    '''\n",
    "    This function takes two parameters,\n",
    "    lmda - Shape Parameter for Pareto\n",
    "    size_array - Population sizem size of array of Pareto distribution\n",
    "    Returns nothing. It changes the global Population variable\n",
    "    '''\n",
    "    Population_data = np.random.pareto(a=lmda, size=size_array) #a=lamda=3 size=number of points\n",
    "    global Population \n",
    "    Population = Population_data # Population data is stored in Population variable\n",
    "\n",
    "    print(\"Pop_Std: \",round(np.std(Population),3))  #Print Population Standard Deviation\n",
    "    fg = sns.displot(Population_data, kde=True)     #Distribution plot\n",
    "    plt.title(\"Pareto Distribution\")\n",
    "    CLT_widget.update()                             #As the data changes Update the CLT widget\n",
    "    Sample_size_widget.max = len(Population)        #sample size is less or equal to population\n",
    "\n",
    "\n",
    "\n",
    "def CLT(Sample_size=50,No_of_Samples=500):\n",
    "# def CLT(Population,Sample_size=50,No_of_Samples=500):\n",
    "    '''\n",
    "    This function takes two parameters\n",
    "    Sample_size: size of a sample you want to take from Population\n",
    "    No_of_Sample: How many samples with replacement needs to be drawn\n",
    "    Returns nothing. It perform the CLT and plot the Sample means' distribution.\n",
    "    It calculates the sample mean and standard deviation.\n",
    "    It also estimates the population mean and standard deviation.\n",
    "    '''\n",
    "    population_mean = np.mean(Population)   #Calculate the Population mean\n",
    "    Sample_means = []\n",
    "    for _ in range(No_of_Samples):          #take random samples and calculate means\n",
    "        samples = random.sample(range(0, len(Population)), Sample_size)\n",
    "        sample = Population[samples]            #Sample is taken\n",
    "        Sample_means.append(np.mean(sample))    #Sample mean is saved in array\n",
    "        \n",
    "    sample_mean = np.mean(Sample_means)         #mean of Sample means\n",
    "#   Now Sample_means are gaussian ditributed\n",
    "#   Let's plot the means distribution\n",
    "    p_mean_label = \"P_Mean: \"+str(round(population_mean,3))     #Calculating Population mean\n",
    "    s_mean_label = \"S_Mean: \"+str(round(sample_mean,3))         #Calculating Sample mean\n",
    "\n",
    "#   Population Standard deviation = √n*Ssample Standard deviation\n",
    "    print(\"Estimated_P_StDev: √n*S_Std= \",round(np.std(Sample_means)*(Sample_size**0.5),3))\n",
    "\n",
    "    cltplot = sns.displot(np.array(Sample_means), kde = True)\n",
    "    plt.axvline(population_mean, linestyle=\"--\", color='r', label=p_mean_label)\n",
    "    plt.axvline(sample_mean, linestyle=\"-.\", color='g', label=s_mean_label)\n",
    "    plt.title('Central limit theorem')\n",
    "    plt.legend()\n",
    "    # This can be done in these two ways also\n",
    "    # cltplot.ax.axvline(0.20, linestyle=\"--\", color='r', label=\"p_mean\")\n",
    "    # cltplot.axes[0][0].axvline(0.20, linestyle=\"--\", color='r', label=\"p_mean\")\n",
    "    \n"
   ]
  },
  {
   "cell_type": "code",
   "execution_count": 24,
   "id": "fd4893f1",
   "metadata": {},
   "outputs": [],
   "source": [
    "Pareto_widget = interactive(plot_pareto,\n",
    "                 lmda=FloatSlider(value=8.0, min=1.0,max=100.0,step=1.0, continuous_update=False), \n",
    "                 size_array=IntSlider(value=1000,min=100,max=50000,step=100, continuous_update=False))\n",
    "\n",
    "Sample_size_widget =  IntSlider(value=30, min=5,max=30,step=5, continuous_update=False)\n",
    "CLT_widget = interactive(CLT,\n",
    "                         Sample_size = Sample_size_widget,\n",
    "                        No_of_Samples= IntSlider(value=50, min=5,max=10000,step=5, continuous_update=False))\n",
    "\n",
    "items = [Pareto_widget, CLT_widget]\n",
    "grid_2_2 = widgets.GridBox(items, layout=widgets.Layout(grid_template_columns=\"repeat(2, 400px)\",));"
   ]
  },
  {
   "cell_type": "code",
   "execution_count": 25,
   "id": "19f27f4c",
   "metadata": {},
   "outputs": [
    {
     "output_type": "display_data",
     "data": {
      "text/plain": "GridBox(children=(interactive(children=(FloatSlider(value=8.0, continuous_update=False, description='lmda', mi…",
      "application/vnd.jupyter.widget-view+json": {
       "version_major": 2,
       "version_minor": 0,
       "model_id": "42816f53357447f4b3dca2969543261b"
      }
     },
     "metadata": {}
    }
   ],
   "source": [
    "display(grid_2_2);"
   ]
  },
  {
   "cell_type": "code",
   "execution_count": null,
   "id": "1d967d3a",
   "metadata": {},
   "outputs": [],
   "source": []
  },
  {
   "cell_type": "code",
   "execution_count": null,
   "id": "93a48ca1",
   "metadata": {},
   "outputs": [],
   "source": []
  },
  {
   "source": [
    "<img src=\"CLT_Screenshot.png\"/>"
   ],
   "cell_type": "markdown",
   "metadata": {}
  },
  {
   "cell_type": "markdown",
   "id": "b8012db8",
   "metadata": {},
   "source": [
    "### Some examples of iPyWidget"
   ]
  },
  {
   "cell_type": "code",
   "execution_count": 9,
   "id": "4601fb60",
   "metadata": {
    "scrolled": true
   },
   "outputs": [
    {
     "data": {
      "application/vnd.jupyter.widget-view+json": {
       "model_id": "1b3798d5172e45fc9fefe7abef295833",
       "version_major": 2,
       "version_minor": 0
      },
      "text/plain": [
       "interactive(children=(FloatSlider(value=0.0, description='x', max=10.0, step=0.05), FloatSlider(value=5.0, des…"
      ]
     },
     "metadata": {},
     "output_type": "display_data"
    }
   ],
   "source": [
    "x_widget = FloatSlider(min=0.0, max=10.0, step=0.05)\n",
    "y_widget = FloatSlider(min=0.5, max=10.0, step=0.05, value=5.0)\n",
    "\n",
    "def update_x_range(*args):\n",
    "    x_widget.max = 2.0 * y_widget.value\n",
    "y_widget.observe(update_x_range, 'value')\n",
    "\n",
    "def printer(x, y):\n",
    "    print(x, y)\n",
    "interact(printer,x=x_widget, y=y_widget);"
   ]
  },
  {
   "cell_type": "code",
   "execution_count": 11,
   "id": "90f69a40",
   "metadata": {},
   "outputs": [
    {
     "data": {
      "application/vnd.jupyter.widget-view+json": {
       "model_id": "569a04db98b84bf4867a8a0edfb0304c",
       "version_major": 2,
       "version_minor": 0
      },
      "text/plain": [
       "Label(value='The values of slider1 and slider2 are synchronized')"
      ]
     },
     "metadata": {},
     "output_type": "display_data"
    },
    {
     "data": {
      "application/vnd.jupyter.widget-view+json": {
       "model_id": "e2defd7960c94db88ca4824be2846f49",
       "version_major": 2,
       "version_minor": 0
      },
      "text/plain": [
       "IntSlider(value=0, description='Slider 1')"
      ]
     },
     "metadata": {},
     "output_type": "display_data"
    },
    {
     "data": {
      "application/vnd.jupyter.widget-view+json": {
       "model_id": "c41799a881c04ba493530c555e70f70b",
       "version_major": 2,
       "version_minor": 0
      },
      "text/plain": [
       "IntSlider(value=0, description='Slider 2')"
      ]
     },
     "metadata": {},
     "output_type": "display_data"
    }
   ],
   "source": [
    "caption = widgets.Label(value='The values of slider1 and slider2 are synchronized')\n",
    "sliders1, slider2 = widgets.IntSlider(description='Slider 1'),\\\n",
    "                    widgets.IntSlider(description='Slider 2')\n",
    "l = widgets.link((sliders1, 'value'), (slider2, 'value'))\n",
    "display(caption, sliders1, slider2)"
   ]
  },
  {
   "cell_type": "code",
   "execution_count": 12,
   "id": "d4b6d8c8",
   "metadata": {},
   "outputs": [
    {
     "data": {
      "application/vnd.jupyter.widget-view+json": {
       "model_id": "97d6f36687bc417a9e9c9b809f8b46ef",
       "version_major": 2,
       "version_minor": 0
      },
      "text/plain": [
       "Dropdown(options=('Pareto', 'Log-normal'), value='Pareto')"
      ]
     },
     "metadata": {},
     "output_type": "display_data"
    }
   ],
   "source": [
    "Population_data = []\n",
    "def select_population():\n",
    "    pass\n",
    "    \n",
    "dropdown = widgets.Dropdown(options=['Pareto', 'Log-normal'])\n",
    "display(dropdown)"
   ]
  }
 ],
 "metadata": {
  "kernelspec": {
   "display_name": "Python 3",
   "language": "python",
   "name": "python3"
  },
  "language_info": {
   "codemirror_mode": {
    "name": "ipython",
    "version": 3
   },
   "file_extension": ".py",
   "mimetype": "text/x-python",
   "name": "python",
   "nbconvert_exporter": "python",
   "pygments_lexer": "ipython3",
   "version": "3.6.9"
  }
 },
 "nbformat": 4,
 "nbformat_minor": 5
}