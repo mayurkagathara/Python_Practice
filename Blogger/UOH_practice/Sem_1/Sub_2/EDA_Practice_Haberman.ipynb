{
 "metadata": {
  "language_info": {
   "codemirror_mode": {
    "name": "ipython",
    "version": 3
   },
   "file_extension": ".py",
   "mimetype": "text/x-python",
   "name": "python",
   "nbconvert_exporter": "python",
   "pygments_lexer": "ipython3",
   "version": "3.6.9"
  },
  "orig_nbformat": 2,
  "kernelspec": {
   "name": "python3",
   "display_name": "Python 3.6.9 64-bit",
   "metadata": {
    "interpreter": {
     "hash": "31f2aee4e71d21fbe5cf8b01ff0e069b9275f58929596ceb00d14d90e3e16cd6"
    }
   }
  }
 },
 "nbformat": 4,
 "nbformat_minor": 2,
 "cells": [
  {
   "source": [
    "### Haberman data\n",
    "[download from kaggle](https://www.kaggle.com/gilsousa/habermans-survival-data-set)  \n",
    "- Perform a similar alanlaysis as above on this dataset with the following sections:\n",
    "  * High level statistics of the dataset: number of points, numer of   features, number of classes, data-points per class.\n",
    "  * Explain our objective. \n",
    "  * Perform Univaraite analysis(PDF, CDF, Boxplot, Voilin plots) to understand which features are useful towards classification.\n",
    "  * Perform Bi-variate analysis (scatter plots, pair-plots) to see if combinations of features are useful in classfication.\n",
    "  * Write your observations in english as crisply and unambigously as possible. Always quantify your results.  \n",
    "  \n",
    "more information available at the end"
   ],
   "cell_type": "markdown",
   "metadata": {}
  },
  {
   "cell_type": "code",
   "execution_count": 2,
   "metadata": {},
   "outputs": [],
   "source": [
    "import pandas as pd\n",
    "import numpy as np\n",
    "import matplotlib.pyplot as plt\n",
    "import seaborn as sns"
   ]
  },
  {
   "cell_type": "code",
   "execution_count": 3,
   "metadata": {},
   "outputs": [],
   "source": [
    "haberman = pd.read_csv('haberman.csv',header=None)\n",
    "haberman."
   ]
  },
  {
   "cell_type": "code",
   "execution_count": 1,
   "metadata": {},
   "outputs": [
    {
     "output_type": "error",
     "ename": "NameError",
     "evalue": "name 'haberman' is not defined",
     "traceback": [
      "\u001b[0;31m---------------------------------------------------------------------------\u001b[0m",
      "\u001b[0;31mNameError\u001b[0m                                 Traceback (most recent call last)",
      "\u001b[0;32m<ipython-input-1-60828db90732>\u001b[0m in \u001b[0;36m<module>\u001b[0;34m\u001b[0m\n\u001b[0;32m----> 1\u001b[0;31m \u001b[0mhaberman\u001b[0m\u001b[0;34m.\u001b[0m\u001b[0mindex\u001b[0m\u001b[0;34m\u001b[0m\u001b[0;34m\u001b[0m\u001b[0m\n\u001b[0m",
      "\u001b[0;31mNameError\u001b[0m: name 'haberman' is not defined"
     ]
    }
   ],
   "source": []
  },
  {
   "cell_type": "code",
   "execution_count": null,
   "metadata": {},
   "outputs": [],
   "source": []
  },
  {
   "source": [
    "### About this file\n",
    "Title: Haberman's Survival Data\n",
    "\n",
    "Sources:\n",
    "(a) Donor: Tjen-Sien Lim (limt@stat.wisc.edu)  \n",
    "(b) Date: March 4, 1999\n",
    "\n",
    "Past Usage:\n",
    "\n",
    "**Haberman, S. J. (1976)**. Generalized Residuals for Log-Linear\n",
    "Models, Proceedings of the 9th International Biometrics\n",
    "Conference, Boston, pp. 104-122.  \n",
    "**Landwehr, J. M., Pregibon, D., and Shoemaker, A. C. (1984)**,\n",
    "Graphical Models for Assessing Logistic Regression Models (with\n",
    "discussion), Journal of the American Statistical Association 79:\n",
    "61-83.  \n",
    "**Lo, W.-D. (1993). Logistic Regression Trees, PhD thesis**,\n",
    "Department of Statistics, University of Wisconsin, Madison, WI.\n",
    "Relevant Information:\n",
    "The dataset contains cases from a study that was conducted between\n",
    "1958 and 1970 at the University of Chicago's Billings Hospital on\n",
    "the survival of patients who had undergone surgery for breast\n",
    "cancer.\n",
    "\n",
    "Number of Instances: 306\n",
    "\n",
    "Number of Attributes: 4 (including the class attribute)\n",
    "\n",
    "Attribute Information:\n",
    "\n",
    "1. Age of patient at time of operation (numerical)\n",
    "2. Patient's year of operation (year - 1900, numerical)\n",
    "3. Number of positive axillary nodes detected (numerical)\n",
    "4. Survival status (class attribute)  \n",
    "  * 1 = the patient survived 5 years or longer\n",
    "  * 2 = the patient died within 5 year\n",
    "Missing Attribute Values: None"
   ],
   "cell_type": "markdown",
   "metadata": {}
  },
  {
   "cell_type": "code",
   "execution_count": null,
   "metadata": {},
   "outputs": [],
   "source": []
  }
 ]
}