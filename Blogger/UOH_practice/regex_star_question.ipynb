{
 "cells": [
  {
   "cell_type": "code",
   "execution_count": 94,
   "metadata": {},
   "outputs": [],
   "source": [
    "def isMatch(pattern,string):\n",
    "    \"\"\"\n",
    "    This Function match the simple pattern to the string and return bool.\n",
    "    We have two wildcard character * and ?\n",
    "    * means zero or more occurance of a character\n",
    "    ? means exactly one occurance of a character\n",
    "    Assumption - There are only valid string characters.\n",
    "    \"\"\"\n",
    "    while pattern and string:   # let's loop until pattern or string is not empty\n",
    "        \n",
    "#1####=========Compare pattern with string if no wildcard is present======\n",
    "\n",
    "        # let's see if we don't have any wild card char\n",
    "        if not ('*' in pattern or '?' in pattern):\n",
    "            return pattern==string #then pattern should be exactly same as string\n",
    "#1####====================================================================\n",
    "        \n",
    "#2####=========Check the characters at start and end===================\n",
    "        # let's try to see the first and last characters first\n",
    "        #First characters are that not wild card.\n",
    "        i=0\n",
    "        while pattern[i] not in '*?':\n",
    "            if (pattern[i] != string[i]):\n",
    "                return False     # p = \"a*\" and s = \"bag\"\n",
    "            i += 1\n",
    "            \n",
    "        if i != 0:\n",
    "            pattern = pattern[i:]\n",
    "            string = string[i:]\n",
    "            print(\"check 1\",pattern,string)\n",
    "\n",
    "        #Last character is not wild card in the pattern and it is not same as last character of string.\n",
    "        i = -1\n",
    "        while pattern[i] not in '*?':\n",
    "            if (pattern[i] != string[i]):\n",
    "                return False     # p = \"*h\" and s = \"bag\"\n",
    "            i -= 1\n",
    "            \n",
    "        if i != -1:\n",
    "            pattern = pattern[:i+1]\n",
    "            string = string[:i+1]\n",
    "            print(\"check 2\",pattern,string)\n",
    "            \n",
    "#2####=====================================================================\n",
    "        \n",
    "#3####=========count the characters in pattern================\n",
    "        # Let's count the minimum letter string should have.. by counting ? and characters\n",
    "        # If the count is greater than string return false. p = a?????b s = axyzb\n",
    "        if pattern.count('?') + (len(pattern) - pattern.count('*') - pattern.count('?')) >len(string):\n",
    "            return False\n",
    "#3####========================================================\n",
    "\n",
    "#4####=========Check single characters ? at start and end=====\n",
    "        i=0\n",
    "        while i<len(pattern) and pattern[i] in '?':\n",
    "            pattern = pattern[1:]\n",
    "            string = string[1:]\n",
    "            i+=1\n",
    "            \n",
    "        i = -1\n",
    "        while abs(i)<=len(pattern) and pattern[i] in '?':\n",
    "            pattern = pattern[:-1]\n",
    "            string = string[:-1]\n",
    "            i-=1\n",
    "\n",
    "        print(\"check 3\",pattern,string)\n",
    "#4####=====================================================\n",
    "        \n",
    "#5####=========Let's check if only * is present============\n",
    "        if pattern.count(\"*\") == len(pattern) != 0:\n",
    "            print(\"test\")\n",
    "            return True\n",
    "        \n",
    "        # Special boundary case when we have * at the start and end\n",
    "        # Here we just need to math the pattern between * in both orders\n",
    "        if pattern[0] == pattern[-1]  == '*':\n",
    "            print(\"recursion\")\n",
    "            return isMatch(pattern[1:],string) or isMatch(pattern[:-1],string)\n",
    "#5####=====================================================\n",
    "            \n",
    "    return len(pattern)==len(string)==0\n",
    "    "
   ]
  },
  {
   "cell_type": "code",
   "execution_count": 95,
   "metadata": {},
   "outputs": [
    {
     "name": "stdout",
     "output_type": "stream",
     "text": [
      "check 1 *g?ban xgxban\n",
      "check 2 *g? xgx\n",
      "check 3 *g xg\n",
      "check 2 * x\n",
      "check 3 * x\n",
      "test\n"
     ]
    },
    {
     "data": {
      "text/plain": [
       "True"
      ]
     },
     "execution_count": 95,
     "metadata": {},
     "output_type": "execute_result"
    }
   ],
   "source": [
    "isMatch(\"ba*g?ban\",\"baxgxban\")"
   ]
  },
  {
   "cell_type": "code",
   "execution_count": 96,
   "metadata": {},
   "outputs": [
    {
     "name": "stdout",
     "output_type": "stream",
     "text": [
      "check 3 **** dasdasdasdasdban\n",
      "test\n"
     ]
    },
    {
     "data": {
      "text/plain": [
       "True"
      ]
     },
     "execution_count": 96,
     "metadata": {},
     "output_type": "execute_result"
    }
   ],
   "source": [
    "isMatch(\"****\",\"dasdasdasdasdban\")"
   ]
  },
  {
   "cell_type": "code",
   "execution_count": 97,
   "metadata": {},
   "outputs": [
    {
     "name": "stdout",
     "output_type": "stream",
     "text": [
      "check 2 *ba?* baxaosidhoasihd\n",
      "check 3 *ba?* baxaosidhoasihd\n",
      "recursion\n",
      "check 1 ?* xaosidhoasihd\n",
      "check 3 * aosidhoasihd\n",
      "test\n"
     ]
    },
    {
     "data": {
      "text/plain": [
       "True"
      ]
     },
     "execution_count": 97,
     "metadata": {},
     "output_type": "execute_result"
    }
   ],
   "source": [
    "isMatch(\"*ba?*z\",\"baxaosidhoasihdz\")"
   ]
  },
  {
   "cell_type": "code",
   "execution_count": 98,
   "metadata": {},
   "outputs": [
    {
     "name": "stdout",
     "output_type": "stream",
     "text": [
      "check 3 *?ba?* baxaosidhoasihdz\n",
      "recursion\n",
      "check 3 ba?* axaosidhoasihdz\n",
      "check 3 *?ba baxaosidhoasihd\n"
     ]
    },
    {
     "data": {
      "text/plain": [
       "False"
      ]
     },
     "execution_count": 98,
     "metadata": {},
     "output_type": "execute_result"
    }
   ],
   "source": [
    "isMatch(\"*?ba?*\",\"baxaosidhoasihdz\")"
   ]
  },
  {
   "cell_type": "code",
   "execution_count": null,
   "metadata": {},
   "outputs": [],
   "source": []
  }
 ],
 "metadata": {
  "kernelspec": {
   "display_name": "Python 3",
   "language": "python",
   "name": "python3"
  },
  "language_info": {
   "codemirror_mode": {
    "name": "ipython",
    "version": 3
   },
   "file_extension": ".py",
   "mimetype": "text/x-python",
   "name": "python",
   "nbconvert_exporter": "python",
   "pygments_lexer": "ipython3",
   "version": "3.8.5"
  }
 },
 "nbformat": 4,
 "nbformat_minor": 4
}
