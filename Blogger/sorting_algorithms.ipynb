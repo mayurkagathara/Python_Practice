{
  "nbformat": 4,
  "nbformat_minor": 0,
  "metadata": {
    "colab": {
      "name": "sorting_algorithms.ipynb",
      "provenance": [],
      "authorship_tag": "ABX9TyPpAONcOVUyzbE4RQRU85Xr",
      "include_colab_link": true
    },
    "kernelspec": {
      "name": "python3",
      "display_name": "Python 3"
    }
  },
  "cells": [
    {
      "cell_type": "markdown",
      "metadata": {
        "id": "view-in-github",
        "colab_type": "text"
      },
      "source": [
        "<a href=\"https://colab.research.google.com/github/mayurkagathara/Python_Practice/blob/main/Blogger/sorting_algorithms.ipynb\" target=\"_parent\"><img src=\"https://colab.research.google.com/assets/colab-badge.svg\" alt=\"Open In Colab\"/></a>"
      ]
    },
    {
      "cell_type": "markdown",
      "metadata": {
        "id": "YdaqSgCOaiVZ"
      },
      "source": [
        "## Insertion Sort\n",
        "Best time complexity: O(n)  \n",
        "Wort time complexity: O(n^2)"
      ]
    },
    {
      "cell_type": "code",
      "metadata": {
        "colab": {
          "base_uri": "https://localhost:8080/"
        },
        "id": "r-bm75mUaaYq",
        "outputId": "da3f7607-d960-4bbd-cac8-8c7cd5922dfd"
      },
      "source": [
        "# arr = [3,6,5,7,4,5,2,1,8]\n",
        "arr = [8,7,6,5,4,3,2,1]\n",
        "\n",
        "# for arr_index in range(1,len(arr)):\n",
        "#   number_to_put = arr[arr_index]\n",
        "#   for left_index in range(arr_index-1,-1,-1):\n",
        "#     if arr[left_index]<number_to_put:\n",
        "#       continue #already in sorted order, continue\n",
        "#     else:\n",
        "#       #swap the element\n",
        "#       arr[left_index+1] = arr[left_index]\n",
        "#       arr[left_index] = number_to_put\n",
        "#     print(arr)\n",
        "\n",
        "for arr_index in range(1,len(arr)):\n",
        "  number_to_put = arr[arr_index]\n",
        "  left_index = arr_index - 1\n",
        "  while left_index >= 0 and arr[left_index] > number_to_put:\n",
        "    arr[left_index+1] = arr[left_index]\n",
        "    arr[left_index] = number_to_put\n",
        "    left_index -= 1\n",
        "  # arr[left_index+1] = number_to_put  # OR you can put the number at last.\n",
        "  print(arr)\n"
      ],
      "execution_count": 9,
      "outputs": [
        {
          "output_type": "stream",
          "text": [
            "[7, 8, 6, 5, 4, 3, 2, 1]\n",
            "[6, 7, 8, 5, 4, 3, 2, 1]\n",
            "[5, 6, 7, 8, 4, 3, 2, 1]\n",
            "[4, 5, 6, 7, 8, 3, 2, 1]\n",
            "[3, 4, 5, 6, 7, 8, 2, 1]\n",
            "[2, 3, 4, 5, 6, 7, 8, 1]\n",
            "[1, 2, 3, 4, 5, 6, 7, 8]\n"
          ],
          "name": "stdout"
        }
      ]
    },
    {
      "cell_type": "markdown",
      "metadata": {
        "id": "YbOJOYOfndd-"
      },
      "source": [
        ""
      ]
    }
  ]
}