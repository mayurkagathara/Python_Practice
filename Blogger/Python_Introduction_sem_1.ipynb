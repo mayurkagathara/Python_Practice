{
 "cells": [
  {
   "cell_type": "markdown",
   "metadata": {
    "id": "2dVP9iB5BGDO"
   },
   "source": [
    "# Python is love\n",
    "It is simple and takes care of us by taking care of annoying semi-colons, ugly brackets, data types and you will feel the same by spending more and more time with Python. Download code from [Github/Blogger](https://github.com/mayurkagathara/Python_Practice/blob/main/Blogger/Python_Introduction_sem_1.ipynb)"
   ]
  },
  {
   "cell_type": "markdown",
   "metadata": {
    "id": "QPCGh6pCCbHv"
   },
   "source": [
    "## Datatypes in python"
   ]
  },
  {
   "cell_type": "code",
   "execution_count": 9,
   "metadata": {},
   "outputs": [
    {
     "output_type": "stream",
     "name": "stdout",
     "text": [
      "<class 'int'>\n<class 'float'>\n<class 'tuple'>\n<class 'list'>\n<class 'set'>\n<class 'dict'>\n<class 'complex'>\nint(x=0) -> integer\nint(x, base=10) -> integer\n\nConvert a number or string to an integer, or return 0 if no arguments\nare given.  If x is a number, return x.__int__().  For floating point\nnumbers, this truncates towards zero.\n\nIf x is not a number or if base is given, then x must be a string,\nbytes, or bytearray instance representing an integer literal in the\ngiven base.  The literal can be preceded by '+' or '-' and be surrounded\nby whitespace.  The base defaults to 10.  Valid bases are 0 and 2-36.\nBase 0 means to interpret the base from the string as an integer literal.\n>>> int('0b100', base=0)\n4\n"
     ]
    }
   ],
   "source": [
    "print(type(2))\n",
    "print(type(2.0))\n",
    "print(type((1,1)))\n",
    "print(type(['hi',1,2.0]))\n",
    "print(type({1,2,3,4}))\n",
    "print(type({1:'Sun',2:'Mon',3:'Tue',4:'Wed'}))\n",
    "print(type(5+12j))\n",
    "print(int.__doc__)"
   ]
  },
  {
   "source": [
    "### Print"
   ],
   "cell_type": "markdown",
   "metadata": {}
  },
  {
   "cell_type": "code",
   "execution_count": 2,
   "metadata": {},
   "outputs": [
    {
     "output_type": "stream",
     "name": "stdout",
     "text": [
      "Hi Mayur!\n\nHi 26 year old Mayur.\nHello Mr. Mayur Kagathara. Hi what's up, today?\nHello Mr. Mayur Kagathara. Hi what's up, today?\n\nHi what's up, today? Mayur, Kagathara. You are now 26 years old\n"
     ]
    }
   ],
   "source": [
    "f_name, l_name, birth_year, current_year, message = \"Mayur\", \"Kagathara\", 1995, 2021, \"Hi what's up, today?\"\n",
    "# Ancient way\n",
    "print('Hi %s!'%f_name, end='\\n\\n') #too boring\n",
    "\n",
    "# Standard way\n",
    "print('Hi {} year old {}.'.format(current_year-birth_year,f_name)) # Kids\n",
    "print('Hello Mr. {1} {2}. {0}'.format(message,f_name,l_name)) # Noobs\n",
    "print('Hello Mr. {first_name} {last_name}. {message}'.format(message=message,first_name=f_name,last_name=l_name),end='\\n\\n') # Pros\n",
    "\n",
    "# Legend way\n",
    "print(f'{message} {f_name}, {l_name}. You are now {current_year-birth_year} years old') #pro legendary stuff"
   ]
  },
  {
   "source": [
    "### Little Big Rules to consider.\n",
    "- Do not use keywords as variable name\n",
    "- Don't start variable name with number and do not use any special characters other than _ in variable name\n",
    "- GOOD PRACTICE: use all small case and underscore in variable name"
   ],
   "cell_type": "markdown",
   "metadata": {}
  },
  {
   "cell_type": "code",
   "execution_count": 14,
   "metadata": {},
   "outputs": [
    {
     "output_type": "stream",
     "name": "stdout",
     "text": [
      "False, None, True, and, as, assert, break, class, continue, def, del, elif, else, except, finally, for, from, global, if, import, in, is, lambda, nonlocal, not, or, pass, raise, return, try, while, with, yield\n"
     ]
    }
   ],
   "source": [
    "# Keywords in python\n",
    "import keyword\n",
    "print(', '.join(keyword.kwlist))"
   ]
  },
  {
   "source": [
    "## Operators and comperators"
   ],
   "cell_type": "markdown",
   "metadata": {}
  },
  {
   "cell_type": "code",
   "execution_count": 82,
   "metadata": {},
   "outputs": [
    {
     "output_type": "stream",
     "name": "stdout",
     "text": [
      "num1+num2 =  3991 \nnum3-num2 =  -1 \nnum2*3 =  5988 \nnum3/2 =  997.5 \nnum3//2 =  997 \nnum1**2 =  3980025\n"
     ]
    }
   ],
   "source": [
    "num1, num2, num3 = 1995, 1996, 1995\n",
    "w1, w2, w3 = 'hello', 'hi', 'namaste'\n",
    "print('num1+num2 = ',num1+num2,\n",
    "    '\\nnum3-num2 = ',num3-num2,\n",
    "    '\\nnum2*3 = ',num2*3,\n",
    "    '\\nnum3/2 = ',num3/2,\n",
    "    '\\nnum3//2 = ',num3//2,\n",
    "    '\\nnum1**2 = ',num1**2,\n",
    "    )"
   ]
  },
  {
   "source": [
    "## Loops"
   ],
   "cell_type": "markdown",
   "metadata": {}
  },
  {
   "cell_type": "code",
   "execution_count": 8,
   "metadata": {},
   "outputs": [
    {
     "output_type": "stream",
     "name": "stdout",
     "text": [
      "Headphone\n1350\n['full bass', 'wireless', 'BLE 4.0']\n('COD', 'EMI')\n---------------\nHeadphone\n1350\n['full bass', 'wireless', 'BLE 4.0']\n('COD', 'EMI')\n---------------\nHeadphone\n1350\n['full bass', 'wireless', 'BLE 4.0']\n('COD', 'EMI')\n"
     ]
    }
   ],
   "source": [
    "# for loop\n",
    "List = ['Headphone',1350,['full bass','wireless','BLE 4.0'],('COD','EMI')]\n",
    "for x in List:\n",
    "    print(x)\n",
    "print('-'*15)\n",
    "for index in range(len(List)):\n",
    "    print(List[index])\n",
    "\n",
    "print('-'*15)\n",
    "# while loop\n",
    "i = 0\n",
    "while i<len(List):\n",
    "    print(List[i])\n",
    "    i += 1"
   ]
  },
  {
   "source": [
    "## Conditional statements\n",
    "- if\n",
    "- if else\n",
    "- if elif elif ... else\n",
    "- Ternary operator"
   ],
   "cell_type": "markdown",
   "metadata": {}
  },
  {
   "cell_type": "code",
   "execution_count": 15,
   "metadata": {},
   "outputs": [
    {
     "output_type": "stream",
     "name": "stdout",
     "text": [
      "Learn Python, dart, flutter.\n"
     ]
    }
   ],
   "source": [
    "while True:\n",
    "    try:\n",
    "        Age = int(input())\n",
    "        break\n",
    "    except:\n",
    "        print('please try again')\n",
    "\n",
    "if Age==0:\n",
    "    print('\\n Hi there, welcome to world.')\n",
    "\n",
    "if Age>100:\n",
    "    print('Take rest.')\n",
    "else:\n",
    "    if 0<Age<=12:\n",
    "        print('Hello Kid.')\n",
    "    elif 12<Age<=18:\n",
    "        print('How is your Teenage going?')\n",
    "    elif Age<60:\n",
    "        print('Learn Python, dart, flutter.')\n",
    "    else:\n",
    "        print('Exercise and chill.')"
   ]
  },
  {
   "source": [
    "### String and List"
   ],
   "cell_type": "markdown",
   "metadata": {}
  },
  {
   "cell_type": "code",
   "execution_count": 39,
   "metadata": {},
   "outputs": [
    {
     "output_type": "stream",
     "name": "stdout",
     "text": [
      "This product is amazing. \nThis product is amazing. \nTi rdc saaig  muigi \nTi rdc saaig  muigi o at2yas ti eydrbeadwriglk  hr\nmrahc a ekil gnikrow dna elbarud yrev si tI .sraey 2 tsal rof ti gnisu ma I .gnizama si tcudorp sihT\n50\n16\nHelp on method_descriptor:\n\nindex(...)\n    S.index(sub[, start[, end]]) -> int\n    \n    Return the lowest index in S where substring sub is found, \n    such that sub is contained within S[start:end].  Optional\n    arguments start and end are interpreted as in slice notation.\n    \n    Raises ValueError when the substring is not found.\n\nHelp on method_descriptor:\n\nfind(...)\n    S.find(sub[, start[, end]]) -> int\n    \n    Return the lowest index in S where substring sub is found,\n    such that sub is contained within S[start:end].  Optional\n    arguments start and end are interpreted as in slice notation.\n    \n    Return -1 on failure.\n\n\n You have this much methods for string.----- ['__add__', '__class__', '__contains__', '__delattr__', '__dir__', '__doc__', '__eq__', '__format__', '__ge__', '__getattribute__', '__getitem__', '__getnewargs__', '__gt__', '__hash__', '__init__', '__init_subclass__', '__iter__', '__le__', '__len__', '__lt__', '__mod__', '__mul__', '__ne__', '__new__', '__reduce__', '__reduce_ex__', '__repr__', '__rmod__', '__rmul__', '__setattr__', '__sizeof__', '__str__', '__subclasshook__', 'capitalize', 'casefold', 'center', 'count', 'encode', 'endswith', 'expandtabs', 'find', 'format', 'format_map', 'index', 'isalnum', 'isalpha', 'isdecimal', 'isdigit', 'isidentifier', 'islower', 'isnumeric', 'isprintable', 'isspace', 'istitle', 'isupper', 'join', 'ljust', 'lower', 'lstrip', 'maketrans', 'partition', 'replace', 'rfind', 'rindex', 'rjust', 'rpartition', 'rsplit', 'rstrip', 'split', 'splitlines', 'startswith', 'strip', 'swapcase', 'title', 'translate', 'upper', 'zfill'] \n\n"
     ]
    }
   ],
   "source": [
    "comment = 'This product is amazing. I am using it for last 2 years. It is very durable and working like a charm'\n",
    "print(comment[0:25])\n",
    "print(comment[:25])\n",
    "\n",
    "start, end, jump = 0, 40,  2\n",
    "print(comment[start:end:jump])\n",
    "print(comment[::2]) #every second letter\n",
    "print(comment[::-1]) #string in reverse order\n",
    "\n",
    "print(comment.find('year'))\n",
    "print(comment.index('a'))\n",
    "\n",
    "# Still stuck, check help. \n",
    "help(str.index)\n",
    "help(str.find)\n",
    "print('\\n You have this much methods for string.-----',dir(str),'\\n') # \n"
   ]
  },
  {
   "cell_type": "code",
   "execution_count": 70,
   "metadata": {},
   "outputs": [
    {
     "output_type": "stream",
     "name": "stdout",
     "text": [
      "['Headphone', 1350, ['wireless', '4.0'], ('COD', 'EMI'), ['comment1', 'comment2']]\n['Headphone', 1350, ['wireless', '4.0'], ('COD', 'EMI'), ['comment1', 'comment2'], 'Feature1', 'Feature2']\n['Headphone', 1350, {'newprice': 1250}, ['wireless', '4.0'], ('COD', 'EMI'), ['comment1', 'comment2'], 'Feature1', 'Feature2']\n['Headphone', 1350, {'newprice': 1250}, ['wireless', '4.0'], ('COD', 'EMI'), ['comment1', 'comment2'], 'Feature1', 'Feature2', {'offerprice': 1099}]\n['Headphone', 1350, {'newprice': 1250}, ['wireless', '4.0'], ('COD', 'EMI'), ['comment1', 'comment2'], 'Feature1']\n\n\n[3, 1, 2, 4, 1, 5, 6, 1, 8, 0]\nNumber of 1 in List:  3\nLocation of 8 in List:  8\n[0, 1, 1, 1, 2, 3, 4, 5, 6, 8]\n[0, 1, 1, 1, 2, 3, 4, 5, 6, 8]\n[0, 1, 2, 3, 4, 5, 6, 7, 8, 9, 10, 11, 12, 13, 14, 15, 16, 17, 18, 19, 20]\n[1, 2, 3, 4, 5, 6, 7, 8, 9, 10, 11, 12, 13, 14, 15, 16, 17, 18, 19, 20, 21, 22, 23, 24]\n[121, 144, 169, 196, 225, 256, 289, 324, 361, 400]\n[(1, 1), (2, 8), (3, 27), (4, 64), (5, 125), (6, 216), (7, 343), (8, 512), (9, 729)]\n\n[(0, 'a'), (0, 'b'), (0, 'c'), (0, 'd'), (1, 'a'), (1, 'b'), (1, 'c'), (1, 'd'), (2, 'a'), (2, 'b'), (2, 'c'), (2, 'd'), (3, 'a'), (3, 'b'), (3, 'c'), (3, 'd')]\n"
     ]
    }
   ],
   "source": [
    "List = ['Headphone',1350,['wireless','4.0'],('COD','EMI')]\n",
    "\n",
    "List.append(['comment1', 'comment2']); print(List)  # Yes, you can use semicolon in python to execute\n",
    "List.extend(['Feature1', 'Feature2']); print(List)  # multiple statements in a line\n",
    "List.insert(2,{'newprice': 1250}); print(List)\n",
    "List.append({'offerprice': 1099}); print(List)\n",
    "List.pop() #default is -1. will remove last item. Remove element at index 4 by List.pop(4)\n",
    "List.remove('Feature2'); print(List)\n",
    "\n",
    "print('\\n')\n",
    "List2 = [3,1,2,4,1,5,6,1,8,0]\n",
    "print(List2)\n",
    "print('Number of 1 in List: ',List2.count(1))\n",
    "print('Location of 8 in List: ',List2.index(8))\n",
    "print(sorted(List2))\n",
    "List2.sort()\n",
    "print(List2)"
   ]
  },
  {
   "cell_type": "code",
   "execution_count": 73,
   "metadata": {},
   "outputs": [
    {
     "output_type": "stream",
     "name": "stdout",
     "text": [
      "[0, 1, 2, 3, 4, 5, 6, 7, 8, 9, 10, 11, 12, 13, 14, 15, 16, 17, 18, 19, 20]\n[1, 3, 5, 7, 9, 11, 13, 15, 17, 19, 21, 23, 25]\n[121, 144, 169, 196, 225, 256, 289, 324, 361, 400]\n[(1, 1), (2, 8), (3, 27), (4, 64), (5, 125), (6, 216), (7, 343), (8, 512), (9, 729)]\n\n[(0, 'a'), (0, 'b'), (0, 'c'), (0, 'd'), (1, 'a'), (1, 'b'), (1, 'c'), (1, 'd'), (2, 'a'), (2, 'b'), (2, 'c'), (2, 'd'), (3, 'a'), (3, 'b'), (3, 'c'), (3, 'd')]\n"
     ]
    }
   ],
   "source": [
    "# List comprehension\n",
    "numbers_25 = list(range(1,26))\n",
    "even_numbers = [number for number in range(21)]; print(even_numbers)\n",
    "odd_numbers = [x for x in numbers_25 if x%2 != 0]; print(odd_numbers)\n",
    "squares = [num**2 for num in range(11,21)]; print(squares)\n",
    "cubes = [ (num, num**3) for num in range(1,10)]; print(cubes,end='\\n\\n')\n",
    "pairs = [ (i, j) for i in range(4) for j in ['a','b','c','d']]; print(pairs)"
   ]
  },
  {
   "source": [
    "### Sets"
   ],
   "cell_type": "markdown",
   "metadata": {}
  },
  {
   "cell_type": "code",
   "execution_count": 79,
   "metadata": {},
   "outputs": [
    {
     "output_type": "stream",
     "name": "stdout",
     "text": [
      "{'Apple', 'Mango', 'pomegranate', 'Pineapple', 'Watermelon', 'Kiwi', 'Banana', 'Orange', 'Avocado', 'Grapes'}\n{'Watermelon', 'Apple', 'Mango'}\n{'pomegranate', 'Pineapple', 'Kiwi', 'Avocado', 'Grapes'}\n{'Apple', 'Mango', 'Watermelon'}\n{'Banana', 'Orange'}\n{'Banana', 'Orange'}\n"
     ]
    }
   ],
   "source": [
    "set_A = {'Apple','Banana','Mango','Orange','Watermelon'}\n",
    "set_B = {'Kiwi','Banana','Grapes','Orange','pomegranate','Avocado','Pineapple'}\n",
    "\n",
    "print(set_A.union(set_B))       # A + B\n",
    "print(set_B.intersection(set_A))#A - B\n",
    "print(set_A.intersection(set_B))#B - A\n",
    "\n",
    "print(set_A.difference(set_B))  # A - (A - B)\n",
    "print(set_B.difference(set_A))  # A - (B - A)\n",
    "\n",
    "set_C = set_A.copy()\n",
    "set_C.difference_update(set_B)  #C = C - A\n",
    "print(set_C)"
   ]
  },
  {
   "cell_type": "code",
   "execution_count": 62,
   "metadata": {},
   "outputs": [
    {
     "output_type": "execute_result",
     "data": {
      "text/plain": [
       "'__and__, __class__, __contains__, __delattr__, __dir__, __doc__, __eq__, __format__, __ge__, __getattribute__, __gt__, __hash__, __iand__, __init__, __init_subclass__, __ior__, __isub__, __iter__, __ixor__, __le__, __len__, __lt__, __ne__, __new__, __or__, __rand__, __reduce__, __reduce_ex__, __repr__, __ror__, __rsub__, __rxor__, __setattr__, __sizeof__, __str__, __sub__, __subclasshook__, __xor__, add, clear, copy, difference, difference_update, discard, intersection, intersection_update, isdisjoint, issubset, issuperset, pop, remove, symmetric_difference, symmetric_difference_update, union, update'"
      ]
     },
     "metadata": {},
     "execution_count": 62
    }
   ],
   "source": [
    "', '.join(dir(set))"
   ]
  }
 ],
 "metadata": {
  "colab": {
   "authorship_tag": "ABX9TyOW/lV6AMWXosnYoJvMbGjH",
   "collapsed_sections": [],
   "include_colab_link": true,
   "name": "Python_Introduction_C4_C5.ipynb",
   "provenance": []
  },
  "kernelspec": {
   "display_name": "Python 3",
   "language": "python",
   "name": "python3"
  },
  "language_info": {
   "codemirror_mode": {
    "name": "ipython",
    "version": 3
   },
   "file_extension": ".py",
   "mimetype": "text/x-python",
   "name": "python",
   "nbconvert_exporter": "python",
   "pygments_lexer": "ipython3",
   "version": "3.6.9-final"
  }
 },
 "nbformat": 4,
 "nbformat_minor": 1
}