{
 "cells": [
  {
   "cell_type": "markdown",
   "metadata": {
    "id": "2dVP9iB5BGDO"
   },
   "source": [
    "# Python is love\n",
    "It is simple and takes care of us by taking care of annoying semi-colons, ugly brackets, data types and you will feel the same by spending more and more time with Python. Download code from [Github/Blogger](https://github.com/mayurkagathara/Python_Practice/blob/main/Blogger/Python_Introduction_sem_1.ipynb)"
   ]
  },
  {
   "cell_type": "markdown",
   "metadata": {
    "id": "QPCGh6pCCbHv"
   },
   "source": [
    "## Datatypes in python"
   ]
  },
  {
   "cell_type": "code",
   "execution_count": 1,
   "metadata": {},
   "outputs": [
    {
     "output_type": "stream",
     "name": "stdout",
     "text": [
      "<class 'int'>\n<class 'float'>\n<class 'tuple'>\n<class 'list'>\n<class 'set'>\n<class 'dict'>\nint(x=0) -> integer\nint(x, base=10) -> integer\n\nConvert a number or string to an integer, or return 0 if no arguments\nare given.  If x is a number, return x.__int__().  For floating point\nnumbers, this truncates towards zero.\n\nIf x is not a number or if base is given, then x must be a string,\nbytes, or bytearray instance representing an integer literal in the\ngiven base.  The literal can be preceded by '+' or '-' and be surrounded\nby whitespace.  The base defaults to 10.  Valid bases are 0 and 2-36.\nBase 0 means to interpret the base from the string as an integer literal.\n>>> int('0b100', base=0)\n4\n"
     ]
    }
   ],
   "source": [
    "print(type(2))\n",
    "print(type(2.0))\n",
    "print(type((1,1)))\n",
    "print(type(['hi',1,2.0]))\n",
    "print(type({1,2,3,4}))\n",
    "print(type({1:'Sun',2:'Mon',3:'Tue',4:'Wed'}))\n",
    "print(int.__doc__)"
   ]
  },
  {
   "source": [
    "### Print"
   ],
   "cell_type": "markdown",
   "metadata": {}
  },
  {
   "cell_type": "code",
   "execution_count": null,
   "metadata": {},
   "outputs": [],
   "source": []
  }
 ],
 "metadata": {
  "colab": {
   "authorship_tag": "ABX9TyOW/lV6AMWXosnYoJvMbGjH",
   "collapsed_sections": [],
   "include_colab_link": true,
   "name": "Python_Introduction_C4_C5.ipynb",
   "provenance": []
  },
  "kernelspec": {
   "display_name": "Python 3",
   "language": "python",
   "name": "python3"
  },
  "language_info": {
   "codemirror_mode": {
    "name": "ipython",
    "version": 3
   },
   "file_extension": ".py",
   "mimetype": "text/x-python",
   "name": "python",
   "nbconvert_exporter": "python",
   "pygments_lexer": "ipython3",
   "version": "3.6.9-final"
  }
 },
 "nbformat": 4,
 "nbformat_minor": 1
}