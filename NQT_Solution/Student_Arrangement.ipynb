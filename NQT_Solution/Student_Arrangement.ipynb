{
  "nbformat": 4,
  "nbformat_minor": 0,
  "metadata": {
    "colab": {
      "name": "Student_Arrangement.ipynb",
      "provenance": [],
      "authorship_tag": "ABX9TyNukmT3rsa/fFGgGE8Z9H0V",
      "include_colab_link": true
    },
    "kernelspec": {
      "name": "python3",
      "display_name": "Python 3"
    }
  },
  "cells": [
    {
      "cell_type": "markdown",
      "metadata": {
        "id": "view-in-github",
        "colab_type": "text"
      },
      "source": [
        "<a href=\"https://colab.research.google.com/github/mayurkagathara/Python_Practice/blob/main/Student_Arrangement.ipynb\" target=\"_parent\"><img src=\"https://colab.research.google.com/assets/colab-badge.svg\" alt=\"Open In Colab\"/></a>"
      ]
    },
    {
      "cell_type": "code",
      "metadata": {
        "id": "X1TiA_UWrv3h"
      },
      "source": [
        "M, N = 10, 5 # Number of Students and Number of columns"
      ],
      "execution_count": 9,
      "outputs": []
    },
    {
      "cell_type": "code",
      "metadata": {
        "colab": {
          "base_uri": "https://localhost:8080/"
        },
        "id": "qZ6HYNL7vf4Z",
        "outputId": "d23a6eef-9f40-4273-aa01-2142aac57ca7"
      },
      "source": [
        "# This cell takes input\n",
        "\n",
        "list_of_students = []\n",
        "while True:\n",
        "  Student = input()\n",
        "  \n",
        "  if Student == '': #Stop on last enter\n",
        "    break\n",
        "\n",
        "  if len(list_of_students) == M:  #Check and stop if there are already 10 students\n",
        "    print('INVALID INPUT')\n",
        "    break\n",
        "  else:\n",
        "    if ('SY' in  Student or 'TY' in  Student) and (len(Student)==4):\n",
        "      list_of_students.append(Student)\n",
        "    else:\n",
        "\n",
        "      print('INVALID INPUT')\n",
        "      break"
      ],
      "execution_count": 35,
      "outputs": [
        {
          "output_type": "stream",
          "text": [
            "TY05\n",
            "TY03\n",
            "SY01\n",
            "SY05\n",
            "TY01\n",
            "SY03\n",
            "SY02\n",
            "\n"
          ],
          "name": "stdout"
        }
      ]
    },
    {
      "cell_type": "code",
      "metadata": {
        "colab": {
          "base_uri": "https://localhost:8080/"
        },
        "id": "0EZyTsrktQ5u",
        "outputId": "839f93a2-29ab-4a62-c9ec-359e1fa2575c"
      },
      "source": [
        "# To test the code we can take array\n",
        "# list_of_students = ['TY01','TY02','SY01','SY05','SY04','TY03','SY02','TY04','SY03']\n",
        "\n",
        "for n in range (1,N+1):\n",
        "  TY_student = f'TY0{n}'\n",
        "  SY_student = f'SY0{n}'\n",
        "\n",
        "  student_1 = TY_student if TY_student in list_of_students else 'ABSENT'\n",
        "  student_2 = SY_student if SY_student in list_of_students else 'ABSENT'\n",
        "\n",
        "  print(f'[{student_1}][{student_2}]')\n"
      ],
      "execution_count": 38,
      "outputs": [
        {
          "output_type": "stream",
          "text": [
            "[TY01][SY01]\n",
            "[ABSENT][SY02]\n",
            "[TY03][SY03]\n",
            "[ABSENT][ABSENT]\n",
            "[TY05][SY05]\n"
          ],
          "name": "stdout"
        }
      ]
    },
    {
      "cell_type": "code",
      "metadata": {
        "colab": {
          "base_uri": "https://localhost:8080/"
        },
        "id": "ZKXtAQXbuafX",
        "outputId": "4e32cad0-6d23-42ca-8415-a03d9b7f6db9"
      },
      "source": [
        "list_of_students"
      ],
      "execution_count": 37,
      "outputs": [
        {
          "output_type": "execute_result",
          "data": {
            "text/plain": [
              "['TY05', 'TY03', 'SY01', 'SY05', 'TY01', 'SY03', 'SY02']"
            ]
          },
          "metadata": {
            "tags": []
          },
          "execution_count": 37
        }
      ]
    }
  ]
}