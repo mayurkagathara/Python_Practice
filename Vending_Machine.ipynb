{
  "nbformat": 4,
  "nbformat_minor": 0,
  "metadata": {
    "colab": {
      "name": "Vending_Machine.ipynb",
      "provenance": [],
      "collapsed_sections": [],
      "authorship_tag": "ABX9TyMZIZRRyLigEbdkAuVQ1+Ao",
      "include_colab_link": true
    },
    "kernelspec": {
      "name": "python3",
      "display_name": "Python 3"
    }
  },
  "cells": [
    {
      "cell_type": "markdown",
      "metadata": {
        "id": "view-in-github",
        "colab_type": "text"
      },
      "source": [
        "<a href=\"https://colab.research.google.com/github/mayurkagathara/Python_Practice/blob/main/Vending_Machine.ipynb\" target=\"_parent\"><img src=\"https://colab.research.google.com/assets/colab-badge.svg\" alt=\"Open In Colab\"/></a>"
      ]
    },
    {
      "cell_type": "code",
      "metadata": {
        "id": "ud5hs0Kpfz4w"
      },
      "source": [
        "# Python program for TCS NQT vending machine"
      ],
      "execution_count": 1,
      "outputs": []
    },
    {
      "cell_type": "code",
      "metadata": {
        "id": "GfJubDXdgcS1"
      },
      "source": [
        "# Dictionary for items\n",
        "Coffee = {1:'Espresso Coffee',2:'Cappuccino Coffee',3:'Latte Coffee'}\n",
        "Tea = {1:'Plain Tea',2:'Assam Tea',3:'Ginger Tea',4:'Cardamom Tea',5:'Masala Tea',6:'Lemon Tea',7:'Green Tea',8:'Organic Darjeeling Tea'}\n",
        "Soups = {1:'Hot and Sour Soup',2:'Veg Corn Soup',3:'Tomato Soup',4:'Spicy Tomato Soup'}\n",
        "Beverages = {1:'Hot Chocolate Drink',2:'Badam Drink',3:'Badam-Pista Drink'}\n",
        "Menu = {'C':Coffee,'T':Tea,'S':Soups,'B':Beverages}"
      ],
      "execution_count": 2,
      "outputs": []
    },
    {
      "cell_type": "code",
      "metadata": {
        "colab": {
          "base_uri": "https://localhost:8080/"
        },
        "id": "PAyNn2DTiGvf",
        "outputId": "79f02530-953e-433d-fe29-b4e2940d0a32"
      },
      "source": [
        "main_menu = input()\n",
        "sub_menu = input()\n",
        "\n",
        "try:\n",
        "  item = Menu[main_menu.upper()][int(sub_menu)]\n",
        "  print('Welcome to CCD!')\n",
        "  print('Enjoy your {}!'.format(item))\n",
        "\n",
        "except:\n",
        "  print('Invalid option')\n",
        "\n",
        "finally:\n",
        "  print('Code by - Mayur Kagathara')"
      ],
      "execution_count": 7,
      "outputs": [
        {
          "output_type": "stream",
          "text": [
            "V\n",
            "s\n",
            "Invalid option\n",
            "Code by - Mayur Kagathara\n"
          ],
          "name": "stdout"
        }
      ]
    }
  ]
}