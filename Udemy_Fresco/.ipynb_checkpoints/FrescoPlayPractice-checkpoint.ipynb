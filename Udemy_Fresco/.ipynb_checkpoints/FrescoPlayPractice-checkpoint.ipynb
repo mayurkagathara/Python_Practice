{
 "cells": [
  {
   "cell_type": "code",
   "execution_count": 3,
   "metadata": {},
   "outputs": [
    {
     "name": "stderr",
     "output_type": "stream",
     "text": [
      "Matplotlib is building the font cache; this may take a moment.\n"
     ]
    }
   ],
   "source": [
    "import matplotlib\n",
    "from matplotlib import pyplot as plt\n",
    "import numpy as np\n",
    "import pandas as pd"
   ]
  },
  {
   "cell_type": "code",
   "execution_count": 2,
   "metadata": {},
   "outputs": [
    {
     "data": {
      "image/png": "[encoded data removed]",
      "text/plain": [
       "<Figure size 720x720 with 5 Axes>"
      ]
     },
     "metadata": {
      "needs_background": "light"
     },
     "output_type": "display_data"
    }
   ],
   "source": [
    "figure = plt.figure(figsize=(10,10))\n",
    "\n",
    "# subplot\n",
    "xyplot = plt.subplot(3,2,(1,2),title='Plot at 11')\n",
    "#axes12 = plt.subplot(222,title='Plot at 12')\n",
    "piechart = plt.subplot(3,2,3,title='Plot at 21')\n",
    "scatterplot = plt.subplot(3,2,4,title='Plot at 22')\n",
    "histogram = plt.subplot(3,2,5,title='Plot at 31')\n",
    "boxplot = plt.subplot(3,2,6,title='Plot at 32')\n",
    "\n",
    "\n",
    "#setting title and pararms for different kinda plots\n",
    "xyplot.set(title = 'simple XY plot', xlim=(0,10), ylim=(0,10), xlabel='X axis', ylabel='Y axis' )\n",
    "piechart.set(title = 'pieChart')\n",
    "scatterplot.set(title = 'ScatterPlot')\n",
    "histogram.set(title = 'Histogram')\n",
    "boxplot.set(title = 'boxplot')\n",
    "\n",
    "\n",
    "\n",
    "names = ['group_a', 'group_b', 'group_c']\n",
    "values = [0, 3, 5]\n",
    "\n",
    "x = [1,2,3,4,5]\n",
    "y = [2,4,6,8,10]\n",
    "\n",
    "\n",
    "xyplot.plot(x, y, 'g^', x, y, 'g-')\n",
    "\n",
    "\n",
    "\n",
    "\n",
    "plt.show()"
   ]
  },
  {
   "cell_type": "code",
   "execution_count": 3,
   "metadata": {},
   "outputs": [
    {
     "data": {
      "image/png": "[encoded data removed]",
      "text/plain": [
       "<Figure size 432x288 with 5 Axes>"
      ]
     },
     "metadata": {
      "needs_background": "light"
     },
     "output_type": "display_data"
    }
   ],
   "source": [
    "import matplotlib.gridspec as gridspec\n",
    "fig = plt.figure()\n",
    "gs = gridspec.GridSpec(3, 3)\n",
    "ax1 = plt.subplot(gs[0, :])\n",
    "ax2 = plt.subplot(gs[1, :-1])\n",
    "ax3 = plt.subplot(gs[1:, -1])\n",
    "ax4 = plt.subplot(gs[-1, 0])\n",
    "ax5 = plt.subplot(gs[-1, -2])\n",
    "plt.show()"
   ]
  },
  {
   "cell_type": "code",
   "execution_count": 2,
   "metadata": {},
   "outputs": [
    {
     "ename": "NameError",
     "evalue": "name 'plt' is not defined",
     "output_type": "error",
     "traceback": [
      "\u001b[1;31m---------------------------------------------------------------------------\u001b[0m",
      "\u001b[1;31mNameError\u001b[0m                                 Traceback (most recent call last)",
      "\u001b[1;32m<ipython-input-2-4284551b6031>\u001b[0m in \u001b[0;36m<module>\u001b[1;34m\u001b[0m\n\u001b[1;32m----> 1\u001b[1;33m \u001b[0mfig\u001b[0m \u001b[1;33m=\u001b[0m \u001b[0mplt\u001b[0m\u001b[1;33m.\u001b[0m\u001b[0mfigure\u001b[0m\u001b[1;33m(\u001b[0m\u001b[0mfigsize\u001b[0m\u001b[1;33m=\u001b[0m\u001b[1;33m(\u001b[0m\u001b[1;36m8\u001b[0m\u001b[1;33m,\u001b[0m\u001b[1;36m6\u001b[0m\u001b[1;33m)\u001b[0m\u001b[1;33m)\u001b[0m\u001b[1;33m\u001b[0m\u001b[1;33m\u001b[0m\u001b[0m\n\u001b[0m\u001b[0;32m      2\u001b[0m \u001b[0max\u001b[0m \u001b[1;33m=\u001b[0m \u001b[0mfig\u001b[0m\u001b[1;33m.\u001b[0m\u001b[0madd_subplot\u001b[0m\u001b[1;33m(\u001b[0m\u001b[1;36m111\u001b[0m\u001b[1;33m)\u001b[0m\u001b[1;33m\u001b[0m\u001b[1;33m\u001b[0m\u001b[0m\n\u001b[0;32m      3\u001b[0m ax.set(title='Writing Text',\n\u001b[0;32m      4\u001b[0m       \u001b[0mxlabel\u001b[0m\u001b[1;33m=\u001b[0m\u001b[1;34m'X-Axis'\u001b[0m\u001b[1;33m,\u001b[0m \u001b[0mylabel\u001b[0m\u001b[1;33m=\u001b[0m\u001b[1;34m'Y-Axis'\u001b[0m\u001b[1;33m,\u001b[0m\u001b[1;33m\u001b[0m\u001b[1;33m\u001b[0m\u001b[0m\n\u001b[0;32m      5\u001b[0m       xlim=(0, 5), ylim=(0, 9))\n",
      "\u001b[1;31mNameError\u001b[0m: name 'plt' is not defined"
     ]
    }
   ],
   "source": [
    "fig = plt.figure(figsize=(8,6))\n",
    "ax = fig.add_subplot(111)\n",
    "ax.set(title='Writing Text',\n",
    "      xlabel='X-Axis', ylabel='Y-Axis',\n",
    "      xlim=(0, 5), ylim=(0, 9))\n",
    "x = [1, 2, 3, 4]\n",
    "y = [2, 4, 6, 8]\n",
    "ax.scatter(x, y, c=['green'], s=[60], edgecolor='black')\n",
    "for i in range(len(x)):\n",
    "    str_temp = '({}, {})'.format(x[i] - 0.2, y[i] + 0.4)\n",
    "    ax.text(x[i] - 0.4, y[i] + 0.4, str_temp, fontsize=16)\n",
    "plt.show()"
   ]
  },
  {
   "cell_type": "code",
   "execution_count": 5,
   "metadata": {},
   "outputs": [],
   "source": [
    "x = np.random.randint(100,size=(4,10))\n",
    "df = pd.DataFrame(data=x)"
   ]
  },
  {
   "cell_type": "code",
   "execution_count": 6,
   "metadata": {},
   "outputs": [
    {
     "data": {
      "text/plain": [
       "array([[30, 25, 36, 77, 18, 61, 33, 74, 99, 92],\n",
       "       [83, 63, 98, 89, 77, 48, 34, 33, 67, 58],\n",
       "       [ 1, 98, 88, 19, 43, 34, 63, 54, 70, 79],\n",
       "       [52, 84, 32, 22, 62, 31, 19, 55, 80, 49]])"
      ]
     },
     "execution_count": 6,
     "metadata": {},
     "output_type": "execute_result"
    }
   ],
   "source": [
    "x"
   ]
  },
  {
   "cell_type": "code",
   "execution_count": 7,
   "metadata": {},
   "outputs": [
    {
     "data": {
      "text/html": [
       "<div>\n",
       "<style scoped>\n",
       "    .dataframe tbody tr th:only-of-type {\n",
       "        vertical-align: middle;\n",
       "    }\n",
       "\n",
       "    .dataframe tbody tr th {\n",
       "        vertical-align: top;\n",
       "    }\n",
       "\n",
       "    .dataframe thead th {\n",
       "        text-align: right;\n",
       "    }\n",
       "</style>\n",
       "<table border=\"1\" class=\"dataframe\">\n",
       "  <thead>\n",
       "    <tr style=\"text-align: right;\">\n",
       "      <th></th>\n",
       "      <th>0</th>\n",
       "      <th>1</th>\n",
       "      <th>2</th>\n",
       "      <th>3</th>\n",
       "      <th>4</th>\n",
       "      <th>5</th>\n",
       "      <th>6</th>\n",
       "      <th>7</th>\n",
       "      <th>8</th>\n",
       "      <th>9</th>\n",
       "    </tr>\n",
       "  </thead>\n",
       "  <tbody>\n",
       "    <tr>\n",
       "      <th>0</th>\n",
       "      <td>30</td>\n",
       "      <td>25</td>\n",
       "      <td>36</td>\n",
       "      <td>77</td>\n",
       "      <td>18</td>\n",
       "      <td>61</td>\n",
       "      <td>33</td>\n",
       "      <td>74</td>\n",
       "      <td>99</td>\n",
       "      <td>92</td>\n",
       "    </tr>\n",
       "    <tr>\n",
       "      <th>1</th>\n",
       "      <td>83</td>\n",
       "      <td>63</td>\n",
       "      <td>98</td>\n",
       "      <td>89</td>\n",
       "      <td>77</td>\n",
       "      <td>48</td>\n",
       "      <td>34</td>\n",
       "      <td>33</td>\n",
       "      <td>67</td>\n",
       "      <td>58</td>\n",
       "    </tr>\n",
       "    <tr>\n",
       "      <th>2</th>\n",
       "      <td>1</td>\n",
       "      <td>98</td>\n",
       "      <td>88</td>\n",
       "      <td>19</td>\n",
       "      <td>43</td>\n",
       "      <td>34</td>\n",
       "      <td>63</td>\n",
       "      <td>54</td>\n",
       "      <td>70</td>\n",
       "      <td>79</td>\n",
       "    </tr>\n",
       "    <tr>\n",
       "      <th>3</th>\n",
       "      <td>52</td>\n",
       "      <td>84</td>\n",
       "      <td>32</td>\n",
       "      <td>22</td>\n",
       "      <td>62</td>\n",
       "      <td>31</td>\n",
       "      <td>19</td>\n",
       "      <td>55</td>\n",
       "      <td>80</td>\n",
       "      <td>49</td>\n",
       "    </tr>\n",
       "  </tbody>\n",
       "</table>\n",
       "</div>"
      ],
      "text/plain": [
       "    0   1   2   3   4   5   6   7   8   9\n",
       "0  30  25  36  77  18  61  33  74  99  92\n",
       "1  83  63  98  89  77  48  34  33  67  58\n",
       "2   1  98  88  19  43  34  63  54  70  79\n",
       "3  52  84  32  22  62  31  19  55  80  49"
      ]
     },
     "execution_count": 7,
     "metadata": {},
     "output_type": "execute_result"
    }
   ],
   "source": [
    "df"
   ]
  },
  {
   "cell_type": "code",
   "execution_count": 8,
   "metadata": {},
   "outputs": [],
   "source": [
    "del df[1]"
   ]
  },
  {
   "cell_type": "code",
   "execution_count": 9,
   "metadata": {},
   "outputs": [
    {
     "data": {
      "text/html": [
       "<div>\n",
       "<style scoped>\n",
       "    .dataframe tbody tr th:only-of-type {\n",
       "        vertical-align: middle;\n",
       "    }\n",
       "\n",
       "    .dataframe tbody tr th {\n",
       "        vertical-align: top;\n",
       "    }\n",
       "\n",
       "    .dataframe thead th {\n",
       "        text-align: right;\n",
       "    }\n",
       "</style>\n",
       "<table border=\"1\" class=\"dataframe\">\n",
       "  <thead>\n",
       "    <tr style=\"text-align: right;\">\n",
       "      <th></th>\n",
       "      <th>0</th>\n",
       "      <th>2</th>\n",
       "      <th>3</th>\n",
       "      <th>4</th>\n",
       "      <th>5</th>\n",
       "      <th>6</th>\n",
       "      <th>7</th>\n",
       "      <th>8</th>\n",
       "      <th>9</th>\n",
       "    </tr>\n",
       "  </thead>\n",
       "  <tbody>\n",
       "    <tr>\n",
       "      <th>0</th>\n",
       "      <td>30</td>\n",
       "      <td>36</td>\n",
       "      <td>77</td>\n",
       "      <td>18</td>\n",
       "      <td>61</td>\n",
       "      <td>33</td>\n",
       "      <td>74</td>\n",
       "      <td>99</td>\n",
       "      <td>92</td>\n",
       "    </tr>\n",
       "    <tr>\n",
       "      <th>1</th>\n",
       "      <td>83</td>\n",
       "      <td>98</td>\n",
       "      <td>89</td>\n",
       "      <td>77</td>\n",
       "      <td>48</td>\n",
       "      <td>34</td>\n",
       "      <td>33</td>\n",
       "      <td>67</td>\n",
       "      <td>58</td>\n",
       "    </tr>\n",
       "    <tr>\n",
       "      <th>2</th>\n",
       "      <td>1</td>\n",
       "      <td>88</td>\n",
       "      <td>19</td>\n",
       "      <td>43</td>\n",
       "      <td>34</td>\n",
       "      <td>63</td>\n",
       "      <td>54</td>\n",
       "      <td>70</td>\n",
       "      <td>79</td>\n",
       "    </tr>\n",
       "    <tr>\n",
       "      <th>3</th>\n",
       "      <td>52</td>\n",
       "      <td>32</td>\n",
       "      <td>22</td>\n",
       "      <td>62</td>\n",
       "      <td>31</td>\n",
       "      <td>19</td>\n",
       "      <td>55</td>\n",
       "      <td>80</td>\n",
       "      <td>49</td>\n",
       "    </tr>\n",
       "  </tbody>\n",
       "</table>\n",
       "</div>"
      ],
      "text/plain": [
       "    0   2   3   4   5   6   7   8   9\n",
       "0  30  36  77  18  61  33  74  99  92\n",
       "1  83  98  89  77  48  34  33  67  58\n",
       "2   1  88  19  43  34  63  54  70  79\n",
       "3  52  32  22  62  31  19  55  80  49"
      ]
     },
     "execution_count": 9,
     "metadata": {},
     "output_type": "execute_result"
    }
   ],
   "source": [
    "df"
   ]
  },
  {
   "cell_type": "code",
   "execution_count": 10,
   "metadata": {},
   "outputs": [],
   "source": [
    "df = pd.DataFrame({'A':[34, 78, 54], 'B':[12, 67, 43],'C':[34, 78, 54], 'D':[12, 67, 43]}, index=['r1', 'r2', 'r3'])"
   ]
  },
  {
   "cell_type": "code",
   "execution_count": 11,
   "metadata": {},
   "outputs": [
    {
     "data": {
      "text/html": [
       "<div>\n",
       "<style scoped>\n",
       "    .dataframe tbody tr th:only-of-type {\n",
       "        vertical-align: middle;\n",
       "    }\n",
       "\n",
       "    .dataframe tbody tr th {\n",
       "        vertical-align: top;\n",
       "    }\n",
       "\n",
       "    .dataframe thead th {\n",
       "        text-align: right;\n",
       "    }\n",
       "</style>\n",
       "<table border=\"1\" class=\"dataframe\">\n",
       "  <thead>\n",
       "    <tr style=\"text-align: right;\">\n",
       "      <th></th>\n",
       "      <th>A</th>\n",
       "      <th>B</th>\n",
       "      <th>C</th>\n",
       "      <th>D</th>\n",
       "    </tr>\n",
       "  </thead>\n",
       "  <tbody>\n",
       "    <tr>\n",
       "      <th>r1</th>\n",
       "      <td>34</td>\n",
       "      <td>12</td>\n",
       "      <td>34</td>\n",
       "      <td>12</td>\n",
       "    </tr>\n",
       "    <tr>\n",
       "      <th>r2</th>\n",
       "      <td>78</td>\n",
       "      <td>67</td>\n",
       "      <td>78</td>\n",
       "      <td>67</td>\n",
       "    </tr>\n",
       "    <tr>\n",
       "      <th>r3</th>\n",
       "      <td>54</td>\n",
       "      <td>43</td>\n",
       "      <td>54</td>\n",
       "      <td>43</td>\n",
       "    </tr>\n",
       "  </tbody>\n",
       "</table>\n",
       "</div>"
      ],
      "text/plain": [
       "     A   B   C   D\n",
       "r1  34  12  34  12\n",
       "r2  78  67  78  67\n",
       "r3  54  43  54  43"
      ]
     },
     "execution_count": 11,
     "metadata": {},
     "output_type": "execute_result"
    }
   ],
   "source": [
    "df"
   ]
  },
  {
   "cell_type": "code",
   "execution_count": 12,
   "metadata": {},
   "outputs": [
    {
     "data": {
      "text/html": [
       "<div>\n",
       "<style scoped>\n",
       "    .dataframe tbody tr th:only-of-type {\n",
       "        vertical-align: middle;\n",
       "    }\n",
       "\n",
       "    .dataframe tbody tr th {\n",
       "        vertical-align: top;\n",
       "    }\n",
       "\n",
       "    .dataframe thead th {\n",
       "        text-align: right;\n",
       "    }\n",
       "</style>\n",
       "<table border=\"1\" class=\"dataframe\">\n",
       "  <thead>\n",
       "    <tr style=\"text-align: right;\">\n",
       "      <th></th>\n",
       "      <th>A</th>\n",
       "      <th>B</th>\n",
       "      <th>C</th>\n",
       "      <th>D</th>\n",
       "    </tr>\n",
       "  </thead>\n",
       "  <tbody>\n",
       "    <tr>\n",
       "      <th>r1</th>\n",
       "      <td>34</td>\n",
       "      <td>12</td>\n",
       "      <td>34</td>\n",
       "      <td>12</td>\n",
       "    </tr>\n",
       "    <tr>\n",
       "      <th>r2</th>\n",
       "      <td>78</td>\n",
       "      <td>67</td>\n",
       "      <td>78</td>\n",
       "      <td>67</td>\n",
       "    </tr>\n",
       "  </tbody>\n",
       "</table>\n",
       "</div>"
      ],
      "text/plain": [
       "     A   B   C   D\n",
       "r1  34  12  34  12\n",
       "r2  78  67  78  67"
      ]
     },
     "execution_count": 12,
     "metadata": {},
     "output_type": "execute_result"
    }
   ],
   "source": [
    "df[:2]"
   ]
  },
  {
   "cell_type": "code",
   "execution_count": 13,
   "metadata": {},
   "outputs": [
    {
     "data": {
      "text/html": [
       "<div>\n",
       "<style scoped>\n",
       "    .dataframe tbody tr th:only-of-type {\n",
       "        vertical-align: middle;\n",
       "    }\n",
       "\n",
       "    .dataframe tbody tr th {\n",
       "        vertical-align: top;\n",
       "    }\n",
       "\n",
       "    .dataframe thead th {\n",
       "        text-align: right;\n",
       "    }\n",
       "</style>\n",
       "<table border=\"1\" class=\"dataframe\">\n",
       "  <thead>\n",
       "    <tr style=\"text-align: right;\">\n",
       "      <th></th>\n",
       "      <th>A</th>\n",
       "      <th>B</th>\n",
       "      <th>C</th>\n",
       "      <th>D</th>\n",
       "    </tr>\n",
       "  </thead>\n",
       "  <tbody>\n",
       "    <tr>\n",
       "      <th>r1</th>\n",
       "      <td>34</td>\n",
       "      <td>12</td>\n",
       "      <td>34</td>\n",
       "      <td>12</td>\n",
       "    </tr>\n",
       "    <tr>\n",
       "      <th>r2</th>\n",
       "      <td>78</td>\n",
       "      <td>67</td>\n",
       "      <td>78</td>\n",
       "      <td>67</td>\n",
       "    </tr>\n",
       "  </tbody>\n",
       "</table>\n",
       "</div>"
      ],
      "text/plain": [
       "     A   B   C   D\n",
       "r1  34  12  34  12\n",
       "r2  78  67  78  67"
      ]
     },
     "execution_count": 13,
     "metadata": {},
     "output_type": "execute_result"
    }
   ],
   "source": [
    "df.iloc[:2]"
   ]
  },
  {
   "cell_type": "code",
   "execution_count": 14,
   "metadata": {},
   "outputs": [
    {
     "data": {
      "text/plain": [
       "r1    12\n",
       "r2    67\n",
       "r3    43\n",
       "Name: B, dtype: int64"
      ]
     },
     "execution_count": 14,
     "metadata": {},
     "output_type": "execute_result"
    }
   ],
   "source": [
    "df.B"
   ]
  },
  {
   "cell_type": "code",
   "execution_count": 15,
   "metadata": {},
   "outputs": [
    {
     "data": {
      "text/plain": [
       "A    78\n",
       "B    67\n",
       "C    78\n",
       "D    67\n",
       "Name: r2, dtype: int64"
      ]
     },
     "execution_count": 15,
     "metadata": {},
     "output_type": "execute_result"
    }
   ],
   "source": [
    "df.iloc[1]"
   ]
  },
  {
   "cell_type": "code",
   "execution_count": 16,
   "metadata": {},
   "outputs": [
    {
     "data": {
      "text/plain": [
       "array([19.7197672 , 24.48336161, 23.99066807, 10.2175941 , 25.97640019,\n",
       "       23.51346252, 14.25717971,  9.90312365, 30.0494093 , 11.39981165])"
      ]
     },
     "execution_count": 16,
     "metadata": {},
     "output_type": "execute_result"
    }
   ],
   "source": [
    "20 + 10*(np.random.randn(10))"
   ]
  },
  {
   "cell_type": "code",
   "execution_count": 17,
   "metadata": {},
   "outputs": [
    {
     "data": {
      "text/plain": [
       "DatetimeIndex(['2017-09-12 02:00:00', '2017-09-14 02:00:00',\n",
       "               '2017-09-16 02:00:00', '2017-09-18 02:00:00'],\n",
       "              dtype='datetime64[ns]', freq='2D')"
      ]
     },
     "execution_count": 17,
     "metadata": {},
     "output_type": "execute_result"
    }
   ],
   "source": [
    "d = pd.date_range('11-Sep-2017', '17-Sep-2017', freq='2D')\n",
    "d + pd.Timedelta('1 days 2 hours')"
   ]
  },
  {
   "cell_type": "code",
   "execution_count": 18,
   "metadata": {},
   "outputs": [
    {
     "data": {
      "text/plain": [
       "DatetimeIndex(['2017-09-11', '2017-09-13', '2017-09-15', '2017-09-17'], dtype='datetime64[ns]', freq='2D')"
      ]
     },
     "execution_count": 18,
     "metadata": {},
     "output_type": "execute_result"
    }
   ],
   "source": [
    "pd.date_range('11-Sep-2017', '17-Sep-2017', freq='2D')"
   ]
  },
  {
   "cell_type": "code",
   "execution_count": 19,
   "metadata": {},
   "outputs": [
    {
     "data": {
      "text/html": [
       "<div>\n",
       "<style scoped>\n",
       "    .dataframe tbody tr th:only-of-type {\n",
       "        vertical-align: middle;\n",
       "    }\n",
       "\n",
       "    .dataframe tbody tr th {\n",
       "        vertical-align: top;\n",
       "    }\n",
       "\n",
       "    .dataframe thead th {\n",
       "        text-align: right;\n",
       "    }\n",
       "</style>\n",
       "<table border=\"1\" class=\"dataframe\">\n",
       "  <thead>\n",
       "    <tr style=\"text-align: right;\">\n",
       "      <th></th>\n",
       "      <th>A</th>\n",
       "      <th>B</th>\n",
       "      <th>C</th>\n",
       "      <th>D</th>\n",
       "    </tr>\n",
       "  </thead>\n",
       "  <tbody>\n",
       "    <tr>\n",
       "      <th>r3</th>\n",
       "      <td>54</td>\n",
       "      <td>43</td>\n",
       "      <td>54</td>\n",
       "      <td>43</td>\n",
       "    </tr>\n",
       "  </tbody>\n",
       "</table>\n",
       "</div>"
      ],
      "text/plain": [
       "     A   B   C   D\n",
       "r3  54  43  54  43"
      ]
     },
     "execution_count": 19,
     "metadata": {},
     "output_type": "execute_result"
    }
   ],
   "source": [
    "df[lambda x : x.index.str.endswith('3')]"
   ]
  },
  {
   "cell_type": "code",
   "execution_count": 20,
   "metadata": {},
   "outputs": [],
   "source": [
    "data = [{'a': 1, 'b': 2}, {'a': 5, 'b': 10, 'c': 20}]\n",
    "df = pd.DataFrame(data, columns=['a', 'b'])"
   ]
  },
  {
   "cell_type": "code",
   "execution_count": 21,
   "metadata": {},
   "outputs": [
    {
     "data": {
      "text/html": [
       "<div>\n",
       "<style scoped>\n",
       "    .dataframe tbody tr th:only-of-type {\n",
       "        vertical-align: middle;\n",
       "    }\n",
       "\n",
       "    .dataframe tbody tr th {\n",
       "        vertical-align: top;\n",
       "    }\n",
       "\n",
       "    .dataframe thead th {\n",
       "        text-align: right;\n",
       "    }\n",
       "</style>\n",
       "<table border=\"1\" class=\"dataframe\">\n",
       "  <thead>\n",
       "    <tr style=\"text-align: right;\">\n",
       "      <th></th>\n",
       "      <th>0</th>\n",
       "      <th>1</th>\n",
       "      <th>2</th>\n",
       "    </tr>\n",
       "  </thead>\n",
       "  <tbody>\n",
       "    <tr>\n",
       "      <th>0</th>\n",
       "      <td>0</td>\n",
       "      <td>0</td>\n",
       "      <td>0</td>\n",
       "    </tr>\n",
       "    <tr>\n",
       "      <th>1</th>\n",
       "      <td>1</td>\n",
       "      <td>1</td>\n",
       "      <td>1</td>\n",
       "    </tr>\n",
       "    <tr>\n",
       "      <th>2</th>\n",
       "      <td>2</td>\n",
       "      <td>2</td>\n",
       "      <td>4</td>\n",
       "    </tr>\n",
       "    <tr>\n",
       "      <th>3</th>\n",
       "      <td>3</td>\n",
       "      <td>3</td>\n",
       "      <td>5</td>\n",
       "    </tr>\n",
       "  </tbody>\n",
       "</table>\n",
       "</div>"
      ],
      "text/plain": [
       "   0  1  2\n",
       "0  0  0  0\n",
       "1  1  1  1\n",
       "2  2  2  4\n",
       "3  3  3  5"
      ]
     },
     "execution_count": 21,
     "metadata": {},
     "output_type": "execute_result"
    }
   ],
   "source": [
    "import pandas as pd\n",
    "\n",
    "s1 = pd.Series([0, 1, 2, 3])\n",
    "s2 = pd.Series([0, 1, 2, 3])\n",
    "s3 = pd.Series([0, 1, 4, 5])\n",
    "d = pd.concat([s1, s2, s3], axis=1)\n",
    "d"
   ]
  },
  {
   "cell_type": "code",
   "execution_count": 22,
   "metadata": {},
   "outputs": [],
   "source": [
    "df = pd.DataFrame({'A':[34, 78, 54], 'B':[12, 67, 43]}, index=['r1', 'r2', 'r3'])"
   ]
  },
  {
   "cell_type": "code",
   "execution_count": 23,
   "metadata": {},
   "outputs": [],
   "source": [
    "df.loc['r4'] = [67, 78]"
   ]
  },
  {
   "cell_type": "markdown",
   "metadata": {},
   "source": [
    "Create a series named heights_A with values 176.2, 158.4, 167.6, 156.2, and 161.4. These values represent the height of 5 students of class A.\n",
    "\n",
    "Label each student as s1, s2, s3, s4, and s5.\n",
    "\n",
    "Determine the shape of heights_A and display it.\n",
    "\n",
    "Note: Use the Series method available in the pandas library."
   ]
  },
  {
   "cell_type": "code",
   "execution_count": 24,
   "metadata": {},
   "outputs": [
    {
     "name": "stdout",
     "output_type": "stream",
     "text": [
      "(5,)\n"
     ]
    }
   ],
   "source": [
    "heights_A = pd.Series([176.2, 158.4, 167.6, 156.2,161.4],index=['s1', 's2', 's3', 's4', 's5'])\n",
    "print(heights_A.shape)"
   ]
  },
  {
   "cell_type": "markdown",
   "metadata": {},
   "source": [
    "Task 2\n",
    "- Create another series named weights_A with values 85.1, 90.2, 76.8, 80.4, and 78.9. These values represent the weights of 5 students of class A.\n",
    "\n",
    "- Label each student as s1, s2, s3, s4, and s5.\n",
    "\n",
    "- Determine data type of values in weights_A and display it.\n",
    "\n",
    "Note: Use the Series method available in the pandas library."
   ]
  },
  {
   "cell_type": "code",
   "execution_count": 25,
   "metadata": {},
   "outputs": [
    {
     "name": "stdout",
     "output_type": "stream",
     "text": [
      "float64\n"
     ]
    }
   ],
   "source": [
    "weights_A = pd.Series([85.1, 90.2, 76.8, 80.4, 78.9],index=['s1', 's2', 's3', 's4', 's5'])\n",
    "print(weights_A.dtype)"
   ]
  },
  {
   "cell_type": "markdown",
   "metadata": {},
   "source": [
    "Task 3\n",
    "- Create a dataframe named df_A, which contains the height and weight of five students namely s1, s2, s3, s4 and s5.\n",
    "\n",
    "- Label the columns as Student_height and Student_weight, respectively.\n",
    "\n",
    "- Display the shape of df_A.\n",
    "\n",
    "  Note: Use the DataFrame method in pandas, and also the series heights_A, weights_A created in the previous problems.m"
   ]
  },
  {
   "cell_type": "code",
   "execution_count": 26,
   "metadata": {},
   "outputs": [
    {
     "name": "stdout",
     "output_type": "stream",
     "text": [
      "(5, 2)\n"
     ]
    }
   ],
   "source": [
    "df_A = pd.DataFrame(data={'Student_height': heights_A,'Student_weight': weights_A},index=['s1', 's2', 's3', 's4', 's5'])\n",
    "print(df_A.shape)"
   ]
  },
  {
   "cell_type": "markdown",
   "metadata": {},
   "source": [
    "Task 4\n",
    "- Create another series named heights_B from a 1-D numpy array of 5 elements derived from the normal distribution of mean 170.0 and standard deviation 25.0.\n",
    "\n",
    "   Note: Set random seed to 100 before creating the heights_B series.\n",
    "\n",
    "- Create another series named weights_B from a 1-D numpy array of 5 elements derived from the normal distribution of mean 75.0 and standard deviation 12.0.\n",
    "\n",
    "    Note: Set random seed to 100 before creating the weights_B series.\n",
    "\n",
    "- Label both series elements as s1, s2, s3, s4 and s5.\n",
    " \n",
    "- Print the mean of series heights_B."
   ]
  },
  {
   "cell_type": "code",
   "execution_count": 27,
   "metadata": {},
   "outputs": [
    {
     "name": "stdout",
     "output_type": "stream",
     "text": [
      "172.37417741633146\n"
     ]
    }
   ],
   "source": [
    "np.random.seed(100)\n",
    "bh = np.random.normal(170.0, 25.0, 5)\n",
    "bw = np.random.normal(75.0, 12.0, 5)\n",
    "heights_B = pd.Series(bh,index=['s1', 's2', 's3', 's4', 's5'])\n",
    "weights_B = pd.Series(bw,index=['s1', 's2', 's3', 's4', 's5'])\n",
    "print(heights_B.mean())"
   ]
  },
  {
   "cell_type": "markdown",
   "metadata": {},
   "source": [
    "Task 5\n",
    "    - Create a dataframe df_B containing the height and weight of students s1, s2, s3, s4 and s5 belonging to class B.\n",
    "    - Label the columns as Student_height and Student_weight respectively.\n",
    "    - Display the column names of df_B.\n",
    "      Note: Use the heights_B and weights_B series created in the above tasks."
   ]
  },
  {
   "cell_type": "code",
   "execution_count": 28,
   "metadata": {},
   "outputs": [
    {
     "name": "stdout",
     "output_type": "stream",
     "text": [
      "Index(['Student_height', 'Student_weight'], dtype='object')\n"
     ]
    }
   ],
   "source": [
    "df_B = pd.DataFrame(data={'Student_height': heights_B,'Student_weight': weights_B},index=['s1', 's2', 's3', 's4', 's5'])\n",
    "print(df_B.columns)"
   ]
  },
  {
   "cell_type": "markdown",
   "metadata": {},
   "source": [
    "Task 6\n",
    "- Create a panel p, containing the previously created two dataframes df_A and df_B.\n",
    "- Label the first dataframe as ClassA, and second as ClassB.\n",
    "- Determine the shape of panel p and display it.\n",
    "Note: Use the Panel method of pandas."
   ]
  },
  {
   "cell_type": "code",
   "execution_count": 29,
   "metadata": {},
   "outputs": [
    {
     "name": "stdout",
     "output_type": "stream",
     "text": [
      "(2, 5, 2)\n"
     ]
    },
    {
     "name": "stderr",
     "output_type": "stream",
     "text": [
      "C:\\Users\\1353271\\Anaconda3\\lib\\site-packages\\IPython\\core\\interactiveshell.py:3331: FutureWarning: \n",
      "Panel is deprecated and will be removed in a future version.\n",
      "The recommended way to represent these types of 3-dimensional data are with a MultiIndex on a DataFrame, via the Panel.to_frame() method\n",
      "Alternatively, you can use the xarray package http://xarray.pydata.org/en/stable/.\n",
      "Pandas provides a `.to_xarray()` method to help automate this conversion.\n",
      "\n",
      "  exec(code_obj, self.user_global_ns, self.user_ns)\n"
     ]
    }
   ],
   "source": [
    "p = pd.Panel(data={'ClassA':df_A,'ClassB':df_B})\n",
    "print(p.shape)"
   ]
  },
  {
   "cell_type": "code",
   "execution_count": null,
   "metadata": {},
   "outputs": [],
   "source": []
  },
  {
   "cell_type": "code",
   "execution_count": null,
   "metadata": {},
   "outputs": [],
   "source": [
    "heights_A = pd.Series([176.2, 158.4, 167.6, 156.2,161.4],index=['s1', 's2', 's3', 's4', 's5'])\n",
    "weights_A = pd.Series([85.1, 90.2, 76.8, 80.4, 78.9],index=['s1', 's2', 's3', 's4', 's5'])\n",
    "df_A = pd.DataFrame(data={'Student_height': heights_A,'Student_weight': weights_A},index=['s1', 's2', 's3', 's4', 's5'])\n",
    "df_A.to_csv('classA.csv')\n",
    "\n",
    "\n",
    "df_A2 = pd.read_csv('classA.csv')\n",
    "print(df_A2)\n",
    "\n",
    "df_A3 = pd.read_csv('classA.csv', index_col=0)\n",
    "print(df_A3)\n",
    "\n",
    "\n",
    "np.random.seed(100)\n",
    "bh = np.random.normal(170.0, 25.0, 5)\n",
    "bw = np.random.normal(75.0, 12.0, 5)\n",
    "heights_B = pd.Series(bh,index=['s1', 's2', 's3', 's4', 's5'])\n",
    "weights_B = pd.Series(bw,index=['s1', 's2', 's3', 's4', 's5'])\n",
    "\n",
    "df_B = pd.DataFrame(data={'Student_height': heights_B,'Student_weight': weights_B},index=['s1', 's2', 's3', 's4', 's5'])\n",
    "df_B.to_csv('classB.csv',index=False)\n",
    "\n",
    "#!ls -l\n",
    "#!cat 'classB.csv'  dont print cat and test cases will pass hahaha\n",
    "\n",
    "df_B2 = pd.read_csv('classB.csv')\n",
    "print(df_B2)\n",
    "\n",
    "df_B3 = pd.read_csv('classB.csv',header=None)\n",
    "print(df_B3)\n",
    "\n",
    "df_B4 = pd.read_csv('classB.csv',header=None,skiprows=2)\n",
    "print(df_B4)"
   ]
  },
  {
   "cell_type": "markdown",
   "metadata": {},
   "source": [
    "## Indexing handson"
   ]
  },
  {
   "cell_type": "code",
   "execution_count": 40,
   "metadata": {},
   "outputs": [
    {
     "name": "stdout",
     "output_type": "stream",
     "text": [
      "2017-09-03 00:00:00\n",
      "DatetimeIndex(['2017-09-14', '2017-09-09'], dtype='datetime64[ns]', freq=None)\n",
      "[False False False False False False False False  True False False False\n",
      " False  True False]\n"
     ]
    }
   ],
   "source": [
    "dates = pd.date_range(start='2017-09-01',end='2017-09-15')\n",
    "print(dates[2])\n",
    "\n",
    "datelist = ['14-Sep-2017', '9-Sep-2017']\n",
    "dates_to_be_searched = pd.to_datetime(datelist)\n",
    "print(dates_to_be_searched)\n",
    "\n",
    "print(dates.isin(datelist))\n",
    "\n",
    "arraylist = [['classA']*5 + ['classB']*5, ['s1', 's2', 's3','s4', 's5']*2]\n",
    "\n",
    "mi_index = pd.MultiIndex.from_arrays(arraylist)\n",
    "print(mi_index.levels)"
   ]
  },
  {
   "cell_type": "code",
   "execution_count": 38,
   "metadata": {},
   "outputs": [
    {
     "name": "stdout",
     "output_type": "stream",
     "text": [
      "DatetimeIndex(['2020-09-01', '2020-09-02', '2020-09-03', '2020-09-04',\n",
      "               '2020-09-05', '2020-09-06', '2020-09-07', '2020-09-08',\n",
      "               '2020-09-09', '2020-09-10', '2020-09-11', '2020-09-12',\n",
      "               '2020-09-13', '2020-09-14', '2020-09-15'],\n",
      "              dtype='datetime64[ns]', freq='D')\n"
     ]
    }
   ],
   "source": [
    "mi_index = pd.MultiIndex()"
   ]
  },
  {
   "cell_type": "markdown",
   "metadata": {},
   "source": [
    "## Data cleaning"
   ]
  },
  {
   "cell_type": "code",
   "execution_count": 88,
   "metadata": {},
   "outputs": [
    {
     "name": "stdout",
     "output_type": "stream",
     "text": [
      "    Student_height  Student_weight\n",
      "s1           176.2            85.1\n",
      "s2           158.4            90.2\n",
      "s3           167.6            76.8\n",
      "s4           156.2            80.4\n",
      "s5           161.4            78.9\n"
     ]
    }
   ],
   "source": [
    "heights_A = pd.Series([176.2, 158.4, 167.6, 156.2,161.4],index=['s1', 's2', 's3', 's4', 's5'])\n",
    "weights_A = pd.Series([85.1, 90.2, 76.8, 80.4, 78.9],index=['s1', 's2', 's3', 's4', 's5'])\n",
    "df_A = pd.DataFrame(data={'Student_height': heights_A,'Student_weight': weights_A},index=['s1', 's2', 's3', 's4', 's5'])\n",
    "df_A.loc['s3'] = np.nan\n",
    "df_A.loc['s5','Student_weight'] = np.nan\n",
    "df_A2 = df_A.dropna()\n",
    "print(df_A2)"
   ]
  },
  {
   "cell_type": "code",
   "execution_count": 107,
   "metadata": {},
   "outputs": [
    {
     "name": "stdout",
     "output_type": "stream",
     "text": [
      "158.4\n",
      "s2    158.4\n",
      "s3    167.6\n",
      "s4    156.2\n",
      "dtype: float64\n",
      "<class 'pandas.core.series.Series'>\n",
      "    Student_height  Student_weight\n",
      "s1           176.2            85.1\n",
      "s2           158.4            90.2\n",
      "    Student_height  Student_weight\n",
      "s2           158.4            90.2\n",
      "s5           161.4            78.9\n",
      "s1           176.2            85.1\n"
     ]
    }
   ],
   "source": [
    "heights_A = pd.Series([176.2, 158.4, 167.6, 156.2,161.4],index=['s1', 's2', 's3', 's4', 's5'])\n",
    "print(heights_A[1])\n",
    "print(heights_A[1:4])\n",
    "\n",
    "weights_A = pd.Series([85.1, 90.2, 76.8, 80.4, 78.9],index=['s1', 's2', 's3', 's4', 's5'])\n",
    "df_A = pd.DataFrame(data={'Student_height': heights_A,'Student_weight': weights_A},index=['s1', 's2', 's3', 's4', 's5'])\n",
    "\n",
    "height = df_A['Student_weight']\n",
    "print(type(height))\n",
    "\n",
    "df_s1s2 = df_A.loc[['s1','s2']]\n",
    "print(df_s1s2)\n",
    "\n",
    "df_s2s5s1 = df_A.loc[['s2','s5','s1']]\n",
    "print(df_s2s5s1)\n",
    "\n",
    "df_s1s4 = df_A.loc[lambda x : x.index.str.endswith('1') | x.index.str.endswith('4')]\n",
    "print(df_s1s4)"
   ]
  },
  {
   "cell_type": "code",
   "execution_count": 123,
   "metadata": {},
   "outputs": [],
   "source": [
    "df_s1s4 = df_A[lambda x : x.index.str.endswith('1') | x.index.str.endswith('4')]"
   ]
  },
  {
   "cell_type": "code",
   "execution_count": 126,
   "metadata": {},
   "outputs": [
    {
     "data": {
      "text/html": [
       "<div>\n",
       "<style scoped>\n",
       "    .dataframe tbody tr th:only-of-type {\n",
       "        vertical-align: middle;\n",
       "    }\n",
       "\n",
       "    .dataframe tbody tr th {\n",
       "        vertical-align: top;\n",
       "    }\n",
       "\n",
       "    .dataframe thead th {\n",
       "        text-align: right;\n",
       "    }\n",
       "</style>\n",
       "<table border=\"1\" class=\"dataframe\">\n",
       "  <thead>\n",
       "    <tr style=\"text-align: right;\">\n",
       "      <th></th>\n",
       "      <th>Student_height</th>\n",
       "      <th>Student_weight</th>\n",
       "    </tr>\n",
       "  </thead>\n",
       "  <tbody>\n",
       "    <tr>\n",
       "      <th>s1</th>\n",
       "      <td>176.2</td>\n",
       "      <td>85.1</td>\n",
       "    </tr>\n",
       "    <tr>\n",
       "      <th>s4</th>\n",
       "      <td>156.2</td>\n",
       "      <td>80.4</td>\n",
       "    </tr>\n",
       "  </tbody>\n",
       "</table>\n",
       "</div>"
      ],
      "text/plain": [
       "    Student_height  Student_weight\n",
       "s1           176.2            85.1\n",
       "s4           156.2            80.4"
      ]
     },
     "execution_count": 126,
     "metadata": {},
     "output_type": "execute_result"
    }
   ],
   "source": [
    "df_s1s4"
   ]
  },
  {
   "cell_type": "code",
   "execution_count": 127,
   "metadata": {},
   "outputs": [],
   "source": [
    "df_s1s4 = df_A.loc[lambda x : x.index.str.endswith('1') | x.index.str.endswith('4')]"
   ]
  },
  {
   "cell_type": "code",
   "execution_count": 140,
   "metadata": {},
   "outputs": [
    {
     "name": "stdout",
     "output_type": "stream",
     "text": [
      "    Student_height  Student_weight\n",
      "s3           167.6            76.8\n",
      "s5           161.4            78.9\n",
      "    Student_height  Student_weight\n",
      "s5           161.4            78.9\n"
     ]
    }
   ],
   "source": [
    "heights_A = pd.Series([176.2, 158.4, 167.6, 156.2,161.4],index=['s1', 's2', 's3', 's4', 's5'])\n",
    "weights_A = pd.Series([85.1, 90.2, 76.8, 80.4, 78.9],index=['s1', 's2', 's3', 's4', 's5'])\n",
    "df_A = pd.DataFrame(data={'Student_height': heights_A,'Student_weight': weights_A},index=['s1', 's2', 's3', 's4', 's5'])\n",
    "\n",
    "\n",
    "df_A_filter1 = df_A[(df_A['Student_height'] > 160.0) & (df_A['Student_weight'] < 80.0) ]\n",
    "print(df_A_filter1)\n",
    "\n",
    "df_A_filter2 = df_A.loc[lambda x : x.index.str.endswith('5')]\n",
    "print(df_A_filter2)\n",
    "\n",
    "df_A['Gender'] = ['M','F','M','M','F']\n",
    "\n",
    "df_groups = df_A.groupby(by='Gender').mean()"
   ]
  },
  {
   "cell_type": "code",
   "execution_count": 151,
   "metadata": {},
   "outputs": [
    {
     "name": "stdout",
     "output_type": "stream",
     "text": [
      "    Student_height  Student_weight Gender\n",
      "s1           176.2            85.1      M\n",
      "s2           158.4            90.2      F\n",
      "s3           167.6            76.8      M\n",
      "s4           156.2            80.4      M\n",
      "s5           161.4            78.9      F\n",
      "s6           165.4            82.7      F\n",
      "     Student_height  Student_weight Gender\n",
      "s1       176.200000       85.100000      M\n",
      "s2       158.400000       90.200000      F\n",
      "s3       167.600000       76.800000      M\n",
      "s4       156.200000       80.400000      M\n",
      "s5       161.400000       78.900000      F\n",
      "s6       165.400000       82.700000      F\n",
      "s7       126.255863       81.170626      F\n",
      "s8       178.567010       77.654156      M\n",
      "s9       198.825895       62.159480      F\n",
      "s10      163.689099       72.726050      F\n",
      "s11      194.533020       78.060017      M\n"
     ]
    }
   ],
   "source": [
    "heights_A = pd.Series([176.2, 158.4, 167.6, 156.2,161.4],index=['s1', 's2', 's3', 's4', 's5'])\n",
    "weights_A = pd.Series([85.1, 90.2, 76.8, 80.4, 78.9],index=['s1', 's2', 's3', 's4', 's5'])\n",
    "df_A = pd.DataFrame(data={'Student_height': heights_A,'Student_weight': weights_A},index=['s1', 's2', 's3', 's4', 's5'])\n",
    "df_A['Gender'] = ['M','F','M','M','F']\n",
    "\n",
    "s = pd.Series([165.4, 82.7, 'F'],index=['Student_height', 'Student_weight', 'Gender'],name='s6')\n",
    "\n",
    "df_AA = df_A.append(s)\n",
    "print(df_AA)\n",
    "\n",
    "\n",
    "np.random.seed(100)\n",
    "bh = np.random.normal(170.0, 25.0, 5)\n",
    "np.random.seed(100)\n",
    "bw = np.random.normal(75.0, 12.0, 5)\n",
    "heights_B = pd.Series(bh,index=['s1', 's2', 's3', 's4', 's5'])\n",
    "weights_B = pd.Series(bw,index=['s1', 's2', 's3', 's4', 's5'])\n",
    "\n",
    "df_B = pd.DataFrame(data={'Student_height': heights_B,'Student_weight': weights_B},index=['s1', 's2', 's3', 's4', 's5'])\n",
    "df_B.index = ['s7', 's8', 's9', 's10', 's11']\n",
    "\n",
    "df_B['Gender'] = ['F', 'M', 'F', 'F', 'M']\n",
    "\n",
    "df = pd.concat([df_AA,df_B])\n",
    "print(df)"
   ]
  },
  {
   "cell_type": "code",
   "execution_count": 156,
   "metadata": {},
   "outputs": [
    {
     "name": "stdout",
     "output_type": "stream",
     "text": [
      "   nameid     name   product\n",
      "0     103  person3      Vivo\n",
      "1     108  person8    iPhone\n",
      "2     108  person8     Nokia\n",
      "3     108  person8  Micromax\n"
     ]
    }
   ],
   "source": [
    "nameid = pd.Series(range(101, 111))\n",
    "name = pd.Series(['person' + str(i) for i in range(1, 11)])\n",
    "master = pd.DataFrame({'nameid':nameid,'name':name})\n",
    "\n",
    "transaction = pd.DataFrame({'nameid':[108, 108, 108,103], 'product':['iPhone', 'Nokia', 'Micromax', 'Vivo']})\n",
    "\n",
    "mdf = pd.merge(left=master,right=transaction,on='nameid',how='inner')\n",
    "\n",
    "print(mdf)"
   ]
  }
 ],
 "metadata": {
  "kernelspec": {
   "display_name": "Python 3",
   "language": "python",
   "name": "python3"
  },
  "language_info": {
   "codemirror_mode": {
    "name": "ipython",
    "version": 3
   },
   "file_extension": ".py",
   "mimetype": "text/x-python",
   "name": "python",
   "nbconvert_exporter": "python",
   "pygments_lexer": "ipython3",
   "version": "3.8.5"
  }
 },
 "nbformat": 4,
 "nbformat_minor": 4
}
