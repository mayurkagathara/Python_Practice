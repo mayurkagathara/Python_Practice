{
 "cells": [
  {
   "cell_type": "code",
   "execution_count": 1,
   "metadata": {},
   "outputs": [],
   "source": [
    "from IPython.display import clear_output\n",
    "def print_board(board):\n",
    "    clear_output()\n",
    "    print(f\"\\n{board[0][0]:^3}|{board[0][1]:^3}|{board[0][2]:^3}\\n-----------\\\n",
    "      \\n{board[1][0]:^3}|{board[1][1]:^3}|{board[1][2]:^3}\\n-----------\\\n",
    "      \\n{board[2][0]:^3}|{board[2][1]:^3}|{board[2][2]:^3}\")"
   ]
  },
  {
   "cell_type": "code",
   "execution_count": 2,
   "metadata": {},
   "outputs": [],
   "source": [
    "def update_board(board,pos,val):\n",
    "    if pos==1:\n",
    "        board[0][0]=val\n",
    "    elif pos==2:\n",
    "        board[0][1]=val\n",
    "    elif pos==3:\n",
    "        board[0][2]=val\n",
    "    elif pos==4:\n",
    "        board[1][0]=val\n",
    "    elif pos==5:\n",
    "        board[1][1]=val\n",
    "    elif pos==6:\n",
    "        board[1][2]=val\n",
    "    elif pos==7:\n",
    "        board[2][0]=val\n",
    "    elif pos==8:\n",
    "        board[2][1]=val\n",
    "    elif pos==9:\n",
    "        board[2][2]=val\n",
    "        \n",
    "    return board"
   ]
  },
  {
   "cell_type": "code",
   "execution_count": 3,
   "metadata": {},
   "outputs": [],
   "source": [
    "def validate_pos(board,pos):\n",
    "    if pos==1:\n",
    "        return board[0][0]==''\n",
    "    elif pos==2:\n",
    "        return board[0][1]==''\n",
    "    elif pos==3:\n",
    "        return board[0][2]==''\n",
    "    elif pos==4:\n",
    "        return board[1][0]==''\n",
    "    elif pos==5:\n",
    "        return board[1][1]==''\n",
    "    elif pos==6:\n",
    "        return board[1][2]==''\n",
    "    elif pos==7:\n",
    "        return board[2][0]==''\n",
    "    elif pos==8:\n",
    "        return board[2][1]==''\n",
    "    elif pos==9:\n",
    "        return board[2][2]==''"
   ]
  },
  {
   "cell_type": "code",
   "execution_count": 4,
   "metadata": {},
   "outputs": [],
   "source": [
    "def user_input(board):\n",
    "    valid_choise = False\n",
    "    while valid_choise is False:\n",
    "        choise = input(\"Please choose location on board(1-9): \")\n",
    "        \n",
    "        if choise.isdigit() is False:\n",
    "            print(\"Please enter number only(1-9)\")\n",
    "        else:\n",
    "            if int(choise) not in range(1,10):\n",
    "                print(\"Number out of range(1-9)\")\n",
    "            elif validate_pos(board,int(choise)) is False:\n",
    "                print(\"This place is occpied, try another!\")\n",
    "            else:\n",
    "                valid_choise = True\n",
    "    return int(choise)"
   ]
  },
  {
   "cell_type": "code",
   "execution_count": 5,
   "metadata": {},
   "outputs": [],
   "source": [
    "def game_result(board):\n",
    "    isgamewon = False\n",
    "    winner = ''\n",
    "    rows = [row for row in board]\n",
    "    cols = [[row[0] for row in board],[row[1] for row in board],[row[2] for row in board]]\n",
    "    diags = [[board[0][0],board[1][1],board[2][2]],[board[0][2],board[1][1],board[2][0]]]\n",
    "    total_pos = rows\n",
    "    total_pos.extend(cols[:])\n",
    "    total_pos.extend(diags[:])\n",
    "\n",
    "    for x in total_pos:\n",
    "        if x[0]==x[1]==x[2] and '' not in x:\n",
    "            isgamewon = True\n",
    "            winner = x[0]\n",
    "            break\n",
    "            \n",
    "    return (isgamewon,winner)"
   ]
  },
  {
   "cell_type": "code",
   "execution_count": 6,
   "metadata": {},
   "outputs": [],
   "source": [
    "def isboardfull(board):\n",
    "    isfull = True\n",
    "    for x in board:\n",
    "        if '' in x:\n",
    "            isfull = False\n",
    "            break\n",
    "    return isfull"
   ]
  },
  {
   "cell_type": "code",
   "execution_count": 7,
   "metadata": {},
   "outputs": [],
   "source": [
    "def game_play():\n",
    "    board_location = [[1,2,3],[4,5,6],[7,8,9]]\n",
    "    board = [['','',''],['','',''],['','','']]\n",
    "    print(\"\\n--------welcome to TicTacTTT Game!!!---------\\n\")\n",
    "    print(\"Board locations are: \")\n",
    "    print_board(board_location)\n",
    "    print_board(board)\n",
    "    print(\"player 1 = X\\nplayer 2 = O\\n\\nPlayer 1 goes first...\\n\")\n",
    "    playerdetails = {'X':'Player 1','O':'Player 2'}\n",
    "    \n",
    "    result = (False,'')\n",
    "    board_full = False\n",
    "    while ~board_full:\n",
    "        print(\"*******PLAYER 1 TURN*******\")\n",
    "        player1input = user_input(board)\n",
    "        update_board(board,player1input,'X')\n",
    "        print_board(board)\n",
    "        result = game_result(board)\n",
    "        board_full = isboardfull(board)\n",
    "        if result[0] or board_full:\n",
    "            break\n",
    "        print(\"*******PLAYER 2 TURN*******\")\n",
    "        player2input = user_input(board)\n",
    "        update_board(board,player2input,'O')\n",
    "        print_board(board)\n",
    "        result = game_result(board)\n",
    "        board_full = isboardfull(board)\n",
    "        if result[0] or board_full:\n",
    "            break\n",
    "    return result"
   ]
  },
  {
   "cell_type": "code",
   "execution_count": 8,
   "metadata": {},
   "outputs": [],
   "source": [
    "def toreplay():\n",
    "    while True:\n",
    "        choise = input('Do you want to play again(Y/N):')\n",
    "        \n",
    "        if choise not in ['Y','N','y','n']:\n",
    "            print('Invalid input.. Try again')\n",
    "        else:\n",
    "            return choise.upper() == 'Y'"
   ]
  },
  {
   "cell_type": "code",
   "execution_count": 9,
   "metadata": {
    "scrolled": false
   },
   "outputs": [
    {
     "name": "stdout",
     "output_type": "stream",
     "text": [
      "\n",
      " O | X | O \n",
      "-----------      \n",
      "   | X | X \n",
      "-----------      \n",
      " O | X |   \n",
      "Player 1 won the game!!\n",
      "Do you want to play again(Y/N):n\n"
     ]
    }
   ],
   "source": [
    "replay = True\n",
    "playerdetails = {'X':'Player 1','O':'Player 2'}\n",
    "while replay:\n",
    "    gameresult = game_play()\n",
    "    if gameresult[1]:\n",
    "        print(f'{playerdetails[gameresult[1]]} won the game!!')\n",
    "    else:\n",
    "        print('You both are masters!!')\n",
    "    replay = toreplay()"
   ]
  },
  {
   "cell_type": "code",
   "execution_count": null,
   "metadata": {},
   "outputs": [],
   "source": []
  }
 ],
 "metadata": {
  "kernelspec": {
   "display_name": "Python 3",
   "language": "python",
   "name": "python3"
  },
  "language_info": {
   "codemirror_mode": {
    "name": "ipython",
    "version": 3
   },
   "file_extension": ".py",
   "mimetype": "text/x-python",
   "name": "python",
   "nbconvert_exporter": "python",
   "pygments_lexer": "ipython3",
   "version": "3.7.6"
  }
 },
 "nbformat": 4,
 "nbformat_minor": 4
}
