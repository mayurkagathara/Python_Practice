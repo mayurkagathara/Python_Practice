{
 "cells": [
  {
   "cell_type": "code",
   "execution_count": 19,
   "metadata": {},
   "outputs": [],
   "source": [
    "# import pandas as pd\n",
    "import numpy as np\n",
    "import sklearn.datasets as datasets\n",
    "import sklearn.preprocessing as preprocessing\n",
    "from sklearn import impute\n",
    "## OR ##\n",
    "#from sklearn.impute import SimpleImputer\n",
    "from sklearn import metrics\n",
    "from sklearn.cluster import AgglomerativeClustering,AffinityPropagation,KMeans\n",
    "from sklearn.model_selection import train_test_split\n",
    "from sklearn.neighbors import KNeighborsClassifier\n",
    "from sklearn.tree import DecisionTreeClassifier\n",
    "from sklearn.tree import DecisionTreeRegressor\n",
    "from sklearn.ensemble import RandomForestClassifier\n",
    "from sklearn.ensemble import RandomForestRegressor\n",
    "from sklearn.svm import SVC"
   ]
  },
  {
   "cell_type": "markdown",
   "metadata": {},
   "source": [
    "### Task 1\n",
    "Import two modules sklearn.datasets and sklearn.preprocessing.  \n",
    "Load popular iris data set from sklearn.datasets module and assign it to variable 'iris'.  \n",
    "Perform Normalization on iris.data with l2 norm and save the transformed data in variable iris_normalized.  \n",
    "Hint: Use Normalizer API.  \n",
    "Print the mean of every column using the below command. print(iris_normalized.mean(axis=0))\n",
    "\n",
    "### Task 2\n",
    "Convert the categorical integer list iris.target into three binary attribute representation and store the result in variable iris_target_onehot.  \n",
    "Hint: Use reshape(-1,1) on iris.target and OneHotEncoder.  \n",
    "Execute the following print statement print(iris_target_onehot.toarray()[[0,50,100]])\n",
    "\n",
    "### Task 3\n",
    "Set first 50 row values of iris.data to Null values. Use numpy.nan  \n",
    "Perform Imputation on 'iris.data' and save the transformed data in variable 'iris_imputed'.  \n",
    "Hint : use Imputer API, Replace numpy.NaN values with mean of corresponding data.  \n",
    "Print the mean of every column using the below command. print(iris_imputed.mean(axis=0))"
   ]
  },
  {
   "cell_type": "code",
   "execution_count": 78,
   "metadata": {},
   "outputs": [
    {
     "name": "stdout",
     "output_type": "stream",
     "text": [
      "[0.75140029 0.40517418 0.45478362 0.14107142]\n",
      "[[1. 0. 0.]\n",
      " [0. 1. 0.]\n",
      " [0. 0. 1.]]\n",
      "[6.262 2.872 4.906 1.676]\n"
     ]
    }
   ],
   "source": [
    "iris = datasets.load_iris()\n",
    "normalizer = preprocessing.Normalizer(norm='l2').fit(iris.data)\n",
    "iris_normalized = normalizer.transform(iris.data)\n",
    "print(iris_normalized.mean(axis=0))\n",
    "\n",
    "enc = preprocessing.OneHotEncoder()\n",
    "iris_target_onehot = enc.fit_transform(iris.target.reshape(-1, 1))\n",
    "print(iris_target_onehot.toarray()[[0,50,100]])\n",
    "\n",
    "iris.data[:50,:] = np.nan\n",
    "imputer = SimpleImputer(missing_values=np.nan, strategy='mean')\n",
    "imputer = imputer.fit(iris.data)\n",
    "iris_imputed = imputer.transform(iris.data)\n",
    "print(iris_imputed.mean(axis=0))"
   ]
  },
  {
   "cell_type": "markdown",
   "metadata": {},
   "source": [
    "___\n",
    "### Task 1\n",
    "Import two modules sklearn.datasets, and sklearn.model_selection.  \n",
    "Load popular iris data set from sklearn.datasets module and assign it to variable iris.  \n",
    "Split iris.data into two sets names X_train and X_test. Also, split iris.target into two sets Y_train and Y_test.  \n",
    "Hint: Use train_test_split method from sklearn.model_selection; set random_state to 30 and perform stratified sampling.  \n",
    "Print the shape of X_train dataset.  \n",
    "Print the shape of X_test dataset.  \n",
    "\n",
    "### Task 2\n",
    "Import required module from sklearn.neighbors  \n",
    "Fit K nearest neighbors model on X_train data and Y_train labels, with default parameters. Name the model as knn_clf.  \n",
    "Evaluate the model accuracy on training data set and print it's score.  \n",
    "Evaluate the model accuracy on testing data set and print it's score.  \n",
    "\n",
    "### Task 3\n",
    "Fit multiple K nearest neighbors models on X_train data and Y_train labels with n_neighbors parameter value changing from 3 to 10.  \n",
    "Evaluate each model accuracy on testing data set.  \n",
    "Hint: Make use of for loop  \n",
    "Print the n_neighbors value of the model with highest accuracy.  "
   ]
  },
  {
   "cell_type": "code",
   "execution_count": 79,
   "metadata": {},
   "outputs": [
    {
     "name": "stdout",
     "output_type": "stream",
     "text": [
      "(112, 4)\n",
      "(38, 4)\n",
      "0.9821428571428571\n",
      "0.9473684210526315\n",
      "6\n"
     ]
    }
   ],
   "source": [
    "from sklearn.model_selection import train_test_split\n",
    "iris = datasets.load_iris()\n",
    "X_train, X_test, Y_train, Y_test = train_test_split(iris.data, iris.target,stratify=iris.target,random_state=30)\n",
    "print(X_train.shape)\n",
    "print(X_test.shape)\n",
    "\n",
    "knn_clf = KNeighborsClassifier().fit(X_train, Y_train)\n",
    "\n",
    "print(knn_clf.score(X_train,Y_train))\n",
    "print(knn_clf.score(X_test,Y_test))\n",
    "\n",
    "accuracyLog = []\n",
    "for nn in range(3,11):\n",
    "    accuracyLog.append(KNeighborsClassifier(n_neighbors=nn).fit(X_train, Y_train).score(X_test,Y_test))\n",
    "print(accuracyLog.index(max(accuracyLog))+3)\n"
   ]
  },
  {
   "cell_type": "markdown",
   "metadata": {},
   "source": [
    "### Task 1\n",
    "Import two modules sklearn.datasets, and sklearn.model_selection.  \n",
    "Import numpy and set random seed to 100.  \n",
    "Load popular Boston dataset from sklearn.datasets module and assign it to variable boston.  \n",
    "Split boston.data into two sets names X_train and X_test. Also, split boston.target into two sets Y_train and Y_test.  \n",
    "Hint: Use train_test_split method from sklearn.model_selection; set random_state to 30.  \n",
    "Print the shape of X_train dataset.  \n",
    "Print the shape of X_test dataset.  \n",
    " \n",
    "### Task 2\n",
    "Import required module from sklearn.tree.  \n",
    "Build a Decision tree Regressor model from X_train set and Y_train labels, with default parameters. Name the model as dt_reg.  \n",
    "Evaluate the model accuracy on training data set and print it's score.  \n",
    "Evaluate the model accuracy on testing data set and print it's score.  \n",
    "Predict the housing price for first two samples of X_test set and print them.(Hint : Use predict() function)  \n",
    "\n",
    "### Task 3\n",
    "Fit multiple Decision tree regressors on X_train data and Y_train labels with max_depth parameter value changing from 2 to 5.  \n",
    "Evaluate each model accuracy on testing data set.  \n",
    "Hint: Make use of for loop  \n",
    "Print the max_depth value of the model with highest accuracy.  "
   ]
  },
  {
   "cell_type": "code",
   "execution_count": 7,
   "metadata": {},
   "outputs": [
    {
     "name": "stdout",
     "output_type": "stream",
     "text": [
      "(379, 13)\n",
      "(127, 13)\n",
      "1.0\n",
      "0.8098834820264638\n",
      "[18.2 13.9]\n",
      "4\n"
     ]
    }
   ],
   "source": [
    "np.random.seed(100)\n",
    "boston = datasets.load_boston()\n",
    "X_train, X_test, Y_train, Y_test = train_test_split(boston.data, boston.target, random_state=30)\n",
    "print(X_train.shape)\n",
    "print(X_test.shape)\n",
    "\n",
    "dt_reg = DecisionTreeRegressor().fit(X_train, Y_train)\n",
    "print(dt_reg.score(X_train,Y_train))\n",
    "print(dt_reg.score(X_test,Y_test))\n",
    "print(dt_reg.predict(X_test[:2]))\n",
    "\n",
    "accuracyLog = []\n",
    "for md in range(2,6):\n",
    "    accuracyLog.append(DecisionTreeRegressor(max_depth=md).fit(X_train, Y_train).score(X_test,Y_test))\n",
    "print(accuracyLog.index(max(accuracyLog))+2)\n"
   ]
  },
  {
   "cell_type": "markdown",
   "metadata": {},
   "source": [
    "### Task 1\n",
    "Import two modules sklearn.datasets, and sklearn.model_selection.  \n",
    "Load popular digits dataset from sklearn.datasets module and assign it to variable digits.  \n",
    "Split digits.data into two sets names X_train and X_test. Also, split digits.target into two sets Y_train and Y_test.  \n",
    "Hint: Use train_test_split method from sklearn.model_selection; set random_state to 30; and perform stratified sampling.  \n",
    "Print the shape of X_train dataset.  \n",
    "Print the shape of X_test dataset.  \n",
    " \n",
    "### Task 2\n",
    "Import required module from sklearn.svm.  \n",
    "Build an SVM classifier from X_train set and Y_train labels, with default parameters. Name the model as svm_clf.  \n",
    "Evaluate the model accuracy on testing data set and print it's score.  \n",
    "\n",
    "### Task 3\n",
    "Perform Standardization of digits.data and store the transformed data in variable digits_standardized.  \n",
    "Hint : Use required utility from sklearn.preprocessing.  \n",
    "Once again, split digits_standardized into two sets names X_train and X_test. Also, split digits.target into two sets Y_train and Y_test.  \n",
    "Hint: Use train_test_split method from sklearn.model_selection; set random_state to 30; and perform stratified sampling.  \n",
    "Build another SVM classifier from X_train set and Y_train labels, with default parameters. Name the model as svm_clf2.  \n",
    "Evaluate the model accuracy on testing data set and print it's score.  "
   ]
  },
  {
   "cell_type": "code",
   "execution_count": 4,
   "metadata": {},
   "outputs": [
    {
     "name": "stdout",
     "output_type": "stream",
     "text": [
      "(1347, 64)\n",
      "(450, 64)\n",
      "0.9822222222222222\n",
      "0.9733333333333334\n"
     ]
    }
   ],
   "source": [
    "digits = datasets.load_digits()\n",
    "X_train, X_test, Y_train, Y_test = train_test_split(digits.data, digits.target,stratify=digits.target,random_state=30)\n",
    "print(X_train.shape)\n",
    "print(X_test.shape)\n",
    "\n",
    "svm_clf = SVC().fit(X_train, Y_train)\n",
    "print(svm_clf.score(X_test,Y_test))\n",
    "\n",
    "standardizer = preprocessing.StandardScaler()\n",
    "standardizer = standardizer.fit(digits.data)\n",
    "digits_standardized = standardizer.transform(digits.data)\n",
    "\n",
    "X_train, X_test, Y_train, Y_test = train_test_split(digits_standardized, digits.target,stratify=digits.target,random_state=30)\n",
    "\n",
    "svm_clf2 = SVC().fit(X_train, Y_train)\n",
    "print(svm_clf2.score(X_test,Y_test))"
   ]
  },
  {
   "cell_type": "markdown",
   "metadata": {},
   "source": [
    "### Task 1\n",
    "Import three modules sklearn.datasets, sklearn.cluster, and sklearn.metrics.  \n",
    "Load popular iris dataset from sklearn.datasets module and assign it to variable iris.  \n",
    "Cluster iris.data set into 3 clusters using K-means with default parameters. Name the model as km_cls.  \n",
    "Hint : Import required utility from sklearn.cluster  \n",
    "Determine the homogeneity score of the model and print it.  \n",
    "Hint : Import required utility from sklearn.metrics  \n",
    " \n",
    "### Task 2\n",
    "Cluster iris.data set into 3 clusters using Agglomerative clustering. Name the model as agg_cls.  \n",
    "Hint : Import required utility from sklearn.cluster  \n",
    "Determine the homogeneity score of the model and print it.  \n",
    "Hint : Import required utility from sklearn.metrics  \n",
    "\n",
    "### Task 3\n",
    "Cluster iris.data set using Affinity Propagation clustering method with default parameters. Name the model as af_cls.  \n",
    "Hint : Import required utility from sklearn.cluster  \n",
    "Determine the homogeneity score of the model and print it.  \n",
    "Hint : Import required utility from sklearn.metrics  "
   ]
  },
  {
   "cell_type": "code",
   "execution_count": 18,
   "metadata": {},
   "outputs": [
    {
     "name": "stdout",
     "output_type": "stream",
     "text": [
      "0.7649861514489815\n",
      "0.7795958005591144\n",
      "0.5278221404408368\n"
     ]
    },
    {
     "name": "stderr",
     "output_type": "stream",
     "text": [
      "C:\\Users\\1353271\\Anaconda3\\lib\\site-packages\\sklearn\\cluster\\_affinity_propagation.py:152: FutureWarning: 'random_state' has been introduced in 0.23. It will be set to None starting from 0.25 which means that results will differ at every function call. Set 'random_state' to None to silence this warning, or to 0 to keep the behavior of versions <0.23.\n",
      "  FutureWarning)\n"
     ]
    }
   ],
   "source": [
    "iris = datasets.load_iris()\n",
    "\n",
    "km_cls = KMeans(n_clusters=3).fit(iris.data) \n",
    "print(metrics.homogeneity_score(km_cls.predict(iris.data), iris.target))\n",
    "\n",
    "agg_cls = AgglomerativeClustering(n_clusters=3).fit(iris.data)\n",
    "print(metrics.homogeneity_score(agg_cls.fit_predict(iris.data), iris.target))\n",
    "\n",
    "af_cls = AffinityPropagation().fit(iris.data) \n",
    "print(metrics.homogeneity_score(af_cls.predict(iris.data), iris.target))"
   ]
  },
  {
   "cell_type": "markdown",
   "metadata": {},
   "source": [
    "### Task 1\n",
    "Import two modules sklearn.datasets, and sklearn.model_selection.  \n",
    "Import numpy and set random seed to 100  \n",
    "Load popular Boston dataset from sklearn.datasets module and assign it to variable boston.  \n",
    "Split boston.data into two sets names X_train and X_test. Also, split boston.target into two sets Y_train and Y_test.  \n",
    "Hint: Use train_test_split method from sklearn.model_selection; set random_state to 30.  \n",
    "Print the shape of X_train dataset.  \n",
    "Print the shape of X_test dataset.  \n",
    "\n",
    "### Task 2\n",
    "Import required module from sklearn.ensemble.  \n",
    "Build a Random Forest Regressor model from X_train set and Y_train labels, with default parameters. Name the model as rf_reg.  \n",
    "Evaluate the model accuracy on training data set and print it's score.  \n",
    "Evaluate the model accuracy on testing data set and print it's score.  \n",
    "Predict the housing price for first two samples of X_test set and print them.  \n",
    "\n",
    "### Task 3\n",
    "Build multiple Random forest regressor on X_train set and Y_train labels with max_depth parameter value changing from 3 to 5 and also setting n_estimators to one of 50, 100, 200 values.  \n",
    "Evaluate each model accuracy on testing data set.  \n",
    "Hint: Make use of for loop  \n",
    "Print the max_depth and n_estimators values of the model with highest accuracy.  \n",
    "Note: Print the parameter values in the form of tuple (a, b). a refers to max_depth value and b refers to n_estimators  "
   ]
  },
  {
   "cell_type": "code",
   "execution_count": 37,
   "metadata": {},
   "outputs": [
    {
     "name": "stdout",
     "output_type": "stream",
     "text": [
      "(379, 13)\n",
      "(127, 13)\n",
      "0.9805545439239387\n",
      "0.88608530301534\n",
      "[19.17   9.887]\n",
      "3 50 0.8302788154251766\n",
      "3 100 0.8437624409213949\n",
      "3 200 0.8357928100948786\n",
      "4 50 0.8526016604445815\n",
      "4 100 0.8567309499505301\n",
      "4 200 0.8544277533570994\n",
      "5 50 0.8726882243991182\n",
      "5 100 0.8675417724097859\n",
      "5 200 0.8672764619586492\n",
      "(5, 50)\n"
     ]
    }
   ],
   "source": [
    "np.random.seed(100)\n",
    "boston = datasets.load_boston()\n",
    "X_train, X_test, Y_train, Y_test = train_test_split(boston.data, boston.target, random_state=30)\n",
    "print(X_train.shape)\n",
    "print(X_test.shape)\n",
    "\n",
    "rf_reg = RandomForestRegressor().fit(X_train, Y_train)\n",
    "print(rf_reg.score(X_train,Y_train))\n",
    "print(rf_reg.score(X_test,Y_test))\n",
    "print(rf_reg.predict(X_test[:2]))\n",
    "\n",
    "max_depth,n_estimators,max_accuracy = 0,0,0\n",
    "\n",
    "for mdep in [3,4,5]:\n",
    "    for nest in [50,100,200]:\n",
    "        temp = RandomForestRegressor(n_estimators=nest,max_depth=mdep).fit(X_train, Y_train).score(X_test,Y_test)\n",
    "        print(mdep,nest,temp)\n",
    "        if temp > max_accuracy:\n",
    "            max_accuracy=temp\n",
    "            max_depth = mdep\n",
    "            n_estimators = nest\n",
    "\n",
    "print((max_depth,n_estimators))"
   ]
  },
  {
   "cell_type": "markdown",
   "metadata": {},
   "source": [
    "# NLTK"
   ]
  },
  {
   "cell_type": "code",
   "execution_count": 41,
   "metadata": {},
   "outputs": [],
   "source": [
    "import nltk\n",
    "from nltk.book import *\n",
    "from nltk.corpus import genesis\n",
    "from nltk.corpus import inaugural\n",
    "from nltk.corpus import PlaintextCorpusReader"
   ]
  },
  {
   "cell_type": "code",
   "execution_count": 39,
   "metadata": {},
   "outputs": [
    {
     "name": "stdout",
     "output_type": "stream",
     "text": [
      "2\n",
      "['repaired', 'United', 'advanced', 'considered', 'originated', 'pleased', 'judged', 'established', 'rendered', 'guided', 'consulted', 'distinguished', 'unparalleled', 'palliated', 'instituted', 'urged', 'experienced', 'filled', 'affected', 'summoned', 'persuaded', 'untried', 'derived', 'honored', 'suppressed', 'expected', 'submitted', 'awakened', 'addressed', 'united', 'produced', 'received', 'called', 'contemplated', 'employed', 'enlarged', 'compared', 'imparted', 'limited', 'assembled', 'allotted', 'required', 'resulted', 'ordained', 'delegated', 'selected', 'unpracticed', 'fortified', 'accomplished', 'staked', 'included', 'exemplified', 'forced', 'swayed', 'promoted', 'transmitted', 'committed', 'entrusted', 'placed', 'departed', 'sacred']\n",
      "8\n"
     ]
    }
   ],
   "source": [
    "fileid = '1789-Washington.txt'\n",
    "word = 'government'\n",
    "wordconverage = len(inaugural.words(fileid))//len(set(inaugural.words(fileid)))\n",
    "print(wordconverage)\n",
    "ed_words = [w for w in set(inaugural.words(fileid)) if w.endswith('ed')]\n",
    "print(ed_words)\n",
    "textfreq = nltk.FreqDist([w.lower() for w in inaugural.words(fileid) if w.isalpha()])\n",
    "wordfreq = textfreq[word]\n",
    "print(wordfreq)"
   ]
  },
  {
   "cell_type": "code",
   "execution_count": 45,
   "metadata": {},
   "outputs": [],
   "source": [
    "def createUserTextCorpora(filecontent1, filecontent2):\n",
    "    # Write your code here\n",
    "    with open('.//nltk_data//content1.txt', 'w+') as f:\n",
    "        f.write(filecontent1)\n",
    "    with open('.//nltk_data//content2.txt', 'w+') as f:\n",
    "        f.write(filecontent2)\n",
    "    text_corpus = PlaintextCorpusReader('nltk_data','.*')\n",
    "    no_of_words_corpus1 = len(text_corpus.words('content1.txt'))\n",
    "    no_of_unique_words_corpus1 = len(set(text_corpus.words('content1.txt')))\n",
    "    no_of_words_corpus2 = len(text_corpus.words('content2.txt'))\n",
    "    no_of_unique_words_corpus2 = len(set(text_corpus.words('content2.txt')))\n",
    "    \n",
    "    return text_corpus,no_of_words_corpus1,no_of_unique_words_corpus1,no_of_words_corpus2,no_of_unique_words_corpus2"
   ]
  },
  {
   "cell_type": "code",
   "execution_count": 47,
   "metadata": {},
   "outputs": [
    {
     "name": "stdout",
     "output_type": "stream",
     "text": [
      "(<PlaintextCorpusReader in 'C:\\\\Users\\\\1353271\\\\Documents\\\\TCS Confidential\\\\Python_Udemy\\\\MyCode_Python\\\\nltk_data'>, 94, 61, 85, 65)\n"
     ]
    }
   ],
   "source": [
    "filecont1 = \"\"\"The amber droplet hung from the branch, reaching fullness and ready to drop. It waited. While many of the other droplets were satisfied to form as big as they could and release, this droplet had other plans. It wanted to be part of history. It wanted to be remembered long after all the other droplets had dissolved into history. So it waited for the perfect specimen to fly by to trap and capture that it hoped would eventually be discovered hundreds of years in the future.\"\"\"\n",
    "filecont2 = \"\"\"Begin today!\" That's all the note said. There was no indication from where it came or who may have written it. Had it been meant for someone else? Meghan looked around the room, but nobody made eye contact back. For a brief moment, she thought it might be a message for her to follow her dreams, but ultimately decided it was easier to ignore it as she crumpled it up and threw it away.\"\"\"\n",
    "\n",
    "ans = createUserTextCorpora(filecont1,filecont2)\n",
    "print(ans)"
   ]
  },
  {
   "cell_type": "code",
   "execution_count": 48,
   "metadata": {},
   "outputs": [
    {
     "data": {
      "text/plain": [
       "nltk.corpus.reader.plaintext.PlaintextCorpusReader"
      ]
     },
     "execution_count": 48,
     "metadata": {},
     "output_type": "execute_result"
    }
   ],
   "source": [
    "PlaintextCorpusReader"
   ]
  },
  {
   "cell_type": "code",
   "execution_count": 51,
   "metadata": {},
   "outputs": [
    {
     "data": {
      "text/plain": [
       "<bound method CorpusReader.abspath of <PlaintextCorpusReader in 'C:\\\\Users\\\\1353271\\\\Documents\\\\TCS Confidential\\\\Python_Udemy\\\\MyCode_Python\\\\nltk_data'>>"
      ]
     },
     "execution_count": 51,
     "metadata": {},
     "output_type": "execute_result"
    }
   ],
   "source": [
    "ans[0].abspath"
   ]
  },
  {
   "cell_type": "code",
   "execution_count": 52,
   "metadata": {},
   "outputs": [],
   "source": [
    "from nltk.corpus import reuters"
   ]
  },
  {
   "cell_type": "code",
   "execution_count": 60,
   "metadata": {},
   "outputs": [
    {
     "data": {
      "text/plain": [
       "['acq',\n",
       " 'alum',\n",
       " 'barley',\n",
       " 'bop',\n",
       " 'carcass',\n",
       " 'castor-oil',\n",
       " 'cocoa',\n",
       " 'coconut',\n",
       " 'coconut-oil',\n",
       " 'coffee',\n",
       " 'copper',\n",
       " 'copra-cake',\n",
       " 'corn',\n",
       " 'cotton',\n",
       " 'cotton-oil',\n",
       " 'cpi',\n",
       " 'cpu',\n",
       " 'crude',\n",
       " 'dfl',\n",
       " 'dlr',\n",
       " 'dmk',\n",
       " 'earn',\n",
       " 'fuel',\n",
       " 'gas',\n",
       " 'gnp',\n",
       " 'gold',\n",
       " 'grain',\n",
       " 'groundnut',\n",
       " 'groundnut-oil',\n",
       " 'heat',\n",
       " 'hog',\n",
       " 'housing',\n",
       " 'income',\n",
       " 'instal-debt',\n",
       " 'interest',\n",
       " 'ipi',\n",
       " 'iron-steel',\n",
       " 'jet',\n",
       " 'jobs',\n",
       " 'l-cattle',\n",
       " 'lead',\n",
       " 'lei',\n",
       " 'lin-oil',\n",
       " 'livestock',\n",
       " 'lumber',\n",
       " 'meal-feed',\n",
       " 'money-fx',\n",
       " 'money-supply',\n",
       " 'naphtha',\n",
       " 'nat-gas',\n",
       " 'nickel',\n",
       " 'nkr',\n",
       " 'nzdlr',\n",
       " 'oat',\n",
       " 'oilseed',\n",
       " 'orange',\n",
       " 'palladium',\n",
       " 'palm-oil',\n",
       " 'palmkernel',\n",
       " 'pet-chem',\n",
       " 'platinum',\n",
       " 'potato',\n",
       " 'propane',\n",
       " 'rand',\n",
       " 'rape-oil',\n",
       " 'rapeseed',\n",
       " 'reserves',\n",
       " 'retail',\n",
       " 'rice',\n",
       " 'rubber',\n",
       " 'rye',\n",
       " 'ship',\n",
       " 'silver',\n",
       " 'sorghum',\n",
       " 'soy-meal',\n",
       " 'soy-oil',\n",
       " 'soybean',\n",
       " 'strategic-metal',\n",
       " 'sugar',\n",
       " 'sun-meal',\n",
       " 'sun-oil',\n",
       " 'sunseed',\n",
       " 'tea',\n",
       " 'tin',\n",
       " 'trade',\n",
       " 'veg-oil',\n",
       " 'wheat',\n",
       " 'wpi',\n",
       " 'yen',\n",
       " 'zinc']"
      ]
     },
     "execution_count": 60,
     "metadata": {},
     "output_type": "execute_result"
    }
   ],
   "source": [
    "nltk.corpus.reuters.categories()"
   ]
  },
  {
   "cell_type": "code",
   "execution_count": 59,
   "metadata": {},
   "outputs": [
    {
     "data": {
      "text/plain": [
       "15"
      ]
     },
     "execution_count": 59,
     "metadata": {},
     "output_type": "execute_result"
    }
   ],
   "source": [
    "len(nltk.corpus.brown.categories())"
   ]
  }
 ],
 "metadata": {
  "kernelspec": {
   "display_name": "Python 3",
   "language": "python",
   "name": "python3"
  },
  "language_info": {
   "codemirror_mode": {
    "name": "ipython",
    "version": 3
   },
   "file_extension": ".py",
   "mimetype": "text/x-python",
   "name": "python",
   "nbconvert_exporter": "python",
   "pygments_lexer": "ipython3",
   "version": "3.8.5"
  }
 },
 "nbformat": 4,
 "nbformat_minor": 4
}
