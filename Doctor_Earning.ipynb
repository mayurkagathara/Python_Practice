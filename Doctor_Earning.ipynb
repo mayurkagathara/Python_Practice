{
  "nbformat": 4,
  "nbformat_minor": 0,
  "metadata": {
    "colab": {
      "name": "Doctor_Earning.ipynb",
      "provenance": [],
      "collapsed_sections": [],
      "authorship_tag": "ABX9TyO02U+r4F0dRmUA8YoZ0i8b",
      "include_colab_link": true
    },
    "kernelspec": {
      "name": "python3",
      "display_name": "Python 3"
    }
  },
  "cells": [
    {
      "cell_type": "markdown",
      "metadata": {
        "id": "view-in-github",
        "colab_type": "text"
      },
      "source": [
        "<a href=\"https://colab.research.google.com/github/mayurkagathara/Python_Practice/blob/main/Doctor_Earning.ipynb\" target=\"_parent\"><img src=\"https://colab.research.google.com/assets/colab-badge.svg\" alt=\"Open In Colab\"/></a>"
      ]
    },
    {
      "cell_type": "markdown",
      "metadata": {
        "id": "7_aNQnNi2-be"
      },
      "source": [
        "Doctor's consultation fees are dependent on patient age,\n",
        "\n",
        "```  \n",
        "age<=17 then fees = 200  \n",
        "17<age<40 then fees = 400  \n",
        "age>=40 then fees = 300\n",
        "```\n",
        "\n",
        "Write a code to calculate earning in a day. Array of patient's age is given as input.\n",
        "\n",
        "NOTE:  \n",
        "```\n",
        "0<AGE<=120  \n",
        "no. of patient <= 20\n",
        "Enter age value (press ENTER without value to stop)\n",
        "```\n",
        "Input:\n",
        "```\n",
        "20\n",
        "30\n",
        "40\n",
        "50\n",
        "2\n",
        "3\n",
        "14\n",
        "```\n",
        "Output:  \n",
        "```\n",
        "Total income 2000 INR\n",
        "```"
      ]
    },
    {
      "cell_type": "code",
      "metadata": {
        "id": "gaQqZZxt4dah"
      },
      "source": [
        "def fees(age):\n",
        "  if (age<=17):\n",
        "    return 200\n",
        "  elif (age>17 and age<40):\n",
        "    return 400\n",
        "  else: #age is >40\n",
        "    return 300"
      ],
      "execution_count": 10,
      "outputs": []
    },
    {
      "cell_type": "code",
      "metadata": {
        "colab": {
          "base_uri": "https://localhost:8080/"
        },
        "id": "boye_I3O5j6b",
        "outputId": "81fbe9d4-4e3e-4b91-a1c1-2fb483305a8d"
      },
      "source": [
        "patient = []\n",
        "patient_fees = []\n",
        "while True:\n",
        "  try:\n",
        "    age_string = input()\n",
        "    \n",
        "    if age_string == '':\n",
        "      break\n",
        "    age = int(age_string)\n",
        "    if (age <= 0 or age > 120):\n",
        "      print('invalid age')\n",
        "      break\n",
        "    else:\n",
        "      patient.append(age)\n",
        "      patient_fees.append(fees(age))\n",
        "  except:\n",
        "    print('Problem in input. Please try again')\n",
        "    break"
      ],
      "execution_count": 11,
      "outputs": [
        {
          "output_type": "stream",
          "text": [
            "20\n",
            "30\n",
            "40\n",
            "50\n",
            "2\n",
            "3\n",
            "14\n",
            "\n"
          ],
          "name": "stdout"
        }
      ]
    },
    {
      "cell_type": "code",
      "metadata": {
        "colab": {
          "base_uri": "https://localhost:8080/"
        },
        "id": "2ZM1LNtE7Fz1",
        "outputId": "1e77f1fa-636a-4ce9-85bb-ddeaf966d282"
      },
      "source": [
        "print(patient)\n",
        "print(patient_fees)\n",
        "print(f'Total income {sum(patient_fees)} INR')"
      ],
      "execution_count": 13,
      "outputs": [
        {
          "output_type": "stream",
          "text": [
            "[20, 30, 40, 50, 2, 3, 14]\n",
            "[400, 400, 300, 300, 200, 200, 200]\n",
            "Total income 2000 INR\n"
          ],
          "name": "stdout"
        }
      ]
    },
    {
      "cell_type": "code",
      "metadata": {
        "colab": {
          "base_uri": "https://localhost:8080/"
        },
        "id": "-KJnNsgf7o3V",
        "outputId": "0f10d141-ac96-43d3-87ee-375ddd086075"
      },
      "source": [
        "# More fancier way\n",
        "income = sum([fees(pat) for pat in patient])\n",
        "print(income)"
      ],
      "execution_count": 14,
      "outputs": [
        {
          "output_type": "stream",
          "text": [
            "2000\n"
          ],
          "name": "stdout"
        }
      ]
    }
  ]
}