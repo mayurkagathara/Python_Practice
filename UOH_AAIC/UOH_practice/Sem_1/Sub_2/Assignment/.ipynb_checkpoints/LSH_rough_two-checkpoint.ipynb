{
 "cells": [
  {
   "cell_type": "markdown",
   "metadata": {
    "id": "CID_27ISaRpJ"
   },
   "source": [
    "# Implement LSH from scratch\n",
    "\n",
    "In this assignment, you will implement LSH from scratch and predict the labels of the test data. You will then verify the correctness of the your implementation using a \"grader\" function/cell (provided by us) which will match your implmentation.\n",
    "\n",
    "The grader fucntion would help you validate the correctness of your code. \n",
    "\n",
    "Please submit the final Colab notebook in the classroom ONLY after you have verified your code using the grader function/cell.\n",
    "\n",
    "\n",
    "**NOTE: DO NOT change the \"grader\" functions or code snippets written by us.Please add your code in the suggested locations.**\n",
    "\n",
    "Ethics Code:\n",
    "1. You are welcome to read up online resources to implement the code. \n",
    "2. You can also discuss with your classmates on the implmentation over Slack.\n",
    "3. But, the code you wirte and submit should be yours ONLY. Your code will be compared against other stduents' code and online code snippets to check for plagiarism. If your code is found to be plagiarised, you will be awarded zero-marks for all assignments, which have a 10% wieghtage in the final marks for this course."
   ]
  },
  {
   "cell_type": "markdown",
   "metadata": {
    "id": "mR49rnr6ibOX"
   },
   "source": [
    "## Reading the data from csv file"
   ]
  },
  {
   "cell_type": "code",
   "execution_count": null,
   "metadata": {
    "colab": {
     "base_uri": "https://localhost:8080/"
    },
    "id": "gXNLRg93cPJN",
    "outputId": "9fecdc22-13b7-4076-c47e-777fa851095d"
   },
   "outputs": [
    {
     "name": "stdout",
     "output_type": "stream",
     "text": [
      "Mounted at /gdrive\n",
      "/gdrive\n"
     ]
    }
   ],
   "source": [
    "# Code to mount google drive in case you are loading the data from your google drive\n",
    "from google.colab import drive\n",
    "drive.mount('/gdrive')\n",
    "%cd /gdrive"
   ]
  },
  {
   "cell_type": "code",
   "execution_count": 1,
   "metadata": {
    "colab": {
     "base_uri": "https://localhost:8080/",
     "height": 406
    },
    "id": "oA1hSk2odHUy",
    "outputId": "eb1b01f3-8429-4549-acb7-bf27624d4f19"
   },
   "outputs": [
    {
     "name": "stderr",
     "output_type": "stream",
     "text": [
      "/usr/lib/python3.6/importlib/_bootstrap.py:219: RuntimeWarning: numpy.ufunc size changed, may indicate binary incompatibility. Expected 192 from C header, got 216 from PyObject\n",
      "  return f(*args, **kwds)\n"
     ]
    },
    {
     "data": {
      "text/html": [
       "<div>\n",
       "<style scoped>\n",
       "    .dataframe tbody tr th:only-of-type {\n",
       "        vertical-align: middle;\n",
       "    }\n",
       "\n",
       "    .dataframe tbody tr th {\n",
       "        vertical-align: top;\n",
       "    }\n",
       "\n",
       "    .dataframe thead th {\n",
       "        text-align: right;\n",
       "    }\n",
       "</style>\n",
       "<table border=\"1\" class=\"dataframe\">\n",
       "  <thead>\n",
       "    <tr style=\"text-align: right;\">\n",
       "      <th></th>\n",
       "      <th>category</th>\n",
       "      <th>text</th>\n",
       "    </tr>\n",
       "  </thead>\n",
       "  <tbody>\n",
       "    <tr>\n",
       "      <th>0</th>\n",
       "      <td>tech</td>\n",
       "      <td>tv future in the hands of viewers with home th...</td>\n",
       "    </tr>\n",
       "    <tr>\n",
       "      <th>1</th>\n",
       "      <td>business</td>\n",
       "      <td>worldcom boss  left books alone  former worldc...</td>\n",
       "    </tr>\n",
       "    <tr>\n",
       "      <th>2</th>\n",
       "      <td>sport</td>\n",
       "      <td>tigers wary of farrell  gamble  leicester say ...</td>\n",
       "    </tr>\n",
       "    <tr>\n",
       "      <th>3</th>\n",
       "      <td>sport</td>\n",
       "      <td>yeading face newcastle in fa cup premiership s...</td>\n",
       "    </tr>\n",
       "    <tr>\n",
       "      <th>4</th>\n",
       "      <td>entertainment</td>\n",
       "      <td>ocean s twelve raids box office ocean s twelve...</td>\n",
       "    </tr>\n",
       "    <tr>\n",
       "      <th>...</th>\n",
       "      <td>...</td>\n",
       "      <td>...</td>\n",
       "    </tr>\n",
       "    <tr>\n",
       "      <th>2220</th>\n",
       "      <td>NaN</td>\n",
       "      <td>cars pull down us retail figures us retail sal...</td>\n",
       "    </tr>\n",
       "    <tr>\n",
       "      <th>2221</th>\n",
       "      <td>NaN</td>\n",
       "      <td>kilroy unveils immigration policy ex-chatshow ...</td>\n",
       "    </tr>\n",
       "    <tr>\n",
       "      <th>2222</th>\n",
       "      <td>NaN</td>\n",
       "      <td>rem announce new glasgow concert us band rem h...</td>\n",
       "    </tr>\n",
       "    <tr>\n",
       "      <th>2223</th>\n",
       "      <td>NaN</td>\n",
       "      <td>how political squabbles snowball it s become c...</td>\n",
       "    </tr>\n",
       "    <tr>\n",
       "      <th>2224</th>\n",
       "      <td>NaN</td>\n",
       "      <td>souness delight at euro progress boss graeme s...</td>\n",
       "    </tr>\n",
       "  </tbody>\n",
       "</table>\n",
       "<p>2225 rows × 2 columns</p>\n",
       "</div>"
      ],
      "text/plain": [
       "           category                                               text\n",
       "0              tech  tv future in the hands of viewers with home th...\n",
       "1          business  worldcom boss  left books alone  former worldc...\n",
       "2             sport  tigers wary of farrell  gamble  leicester say ...\n",
       "3             sport  yeading face newcastle in fa cup premiership s...\n",
       "4     entertainment  ocean s twelve raids box office ocean s twelve...\n",
       "...             ...                                                ...\n",
       "2220            NaN  cars pull down us retail figures us retail sal...\n",
       "2221            NaN  kilroy unveils immigration policy ex-chatshow ...\n",
       "2222            NaN  rem announce new glasgow concert us band rem h...\n",
       "2223            NaN  how political squabbles snowball it s become c...\n",
       "2224            NaN  souness delight at euro progress boss graeme s...\n",
       "\n",
       "[2225 rows x 2 columns]"
      ]
     },
     "execution_count": 1,
     "metadata": {},
     "output_type": "execute_result"
    }
   ],
   "source": [
    "# Loading data from csv file\n",
    "import pandas as pd\n",
    "data_path = './lsh_assignment_data.csv'\n",
    "\n",
    "df = pd.read_csv(data_path)\n",
    "df"
   ]
  },
  {
   "cell_type": "code",
   "execution_count": 2,
   "metadata": {
    "colab": {
     "base_uri": "https://localhost:8080/"
    },
    "id": "cKHb7v5edUiU",
    "outputId": "34e01c2f-3c20-4f4e-a63a-ae3d25ae8577"
   },
   "outputs": [
    {
     "data": {
      "text/plain": [
       "sport            509\n",
       "business         508\n",
       "politics         415\n",
       "tech             399\n",
       "entertainment    384\n",
       "Name: category, dtype: int64"
      ]
     },
     "execution_count": 2,
     "metadata": {},
     "output_type": "execute_result"
    }
   ],
   "source": [
    "# Data Overiview\n",
    "df['category'].value_counts()"
   ]
  },
  {
   "cell_type": "markdown",
   "metadata": {
    "id": "Mcpy_Nrnig9V"
   },
   "source": [
    "### Creating Train and Test Datasets\n",
    "\n",
    "Note that the labels for test data will not be present in the dataset and hence they are mentioned as NaN."
   ]
  },
  {
   "cell_type": "code",
   "execution_count": 3,
   "metadata": {
    "id": "ncAK-oHFeKbS"
   },
   "outputs": [],
   "source": [
    "# The last 10 rows in the csv file are query points, so loading them into test data.\n",
    "# And loading the reamining points to train_data for which labels are given.\n",
    "\n",
    "train_data = df.iloc[:-10,:]\n",
    "test_data = df.iloc[-10:,:]"
   ]
  },
  {
   "cell_type": "code",
   "execution_count": 4,
   "metadata": {
    "colab": {
     "base_uri": "https://localhost:8080/",
     "height": 406
    },
    "id": "bs7uYx-1fh66",
    "outputId": "7d7c4db7-d78c-47e1-e9b2-67e965592a04"
   },
   "outputs": [
    {
     "data": {
      "text/html": [
       "<div>\n",
       "<style scoped>\n",
       "    .dataframe tbody tr th:only-of-type {\n",
       "        vertical-align: middle;\n",
       "    }\n",
       "\n",
       "    .dataframe tbody tr th {\n",
       "        vertical-align: top;\n",
       "    }\n",
       "\n",
       "    .dataframe thead th {\n",
       "        text-align: right;\n",
       "    }\n",
       "</style>\n",
       "<table border=\"1\" class=\"dataframe\">\n",
       "  <thead>\n",
       "    <tr style=\"text-align: right;\">\n",
       "      <th></th>\n",
       "      <th>category</th>\n",
       "      <th>text</th>\n",
       "    </tr>\n",
       "  </thead>\n",
       "  <tbody>\n",
       "    <tr>\n",
       "      <th>0</th>\n",
       "      <td>tech</td>\n",
       "      <td>tv future in the hands of viewers with home th...</td>\n",
       "    </tr>\n",
       "    <tr>\n",
       "      <th>1</th>\n",
       "      <td>business</td>\n",
       "      <td>worldcom boss  left books alone  former worldc...</td>\n",
       "    </tr>\n",
       "    <tr>\n",
       "      <th>2</th>\n",
       "      <td>sport</td>\n",
       "      <td>tigers wary of farrell  gamble  leicester say ...</td>\n",
       "    </tr>\n",
       "    <tr>\n",
       "      <th>3</th>\n",
       "      <td>sport</td>\n",
       "      <td>yeading face newcastle in fa cup premiership s...</td>\n",
       "    </tr>\n",
       "    <tr>\n",
       "      <th>4</th>\n",
       "      <td>entertainment</td>\n",
       "      <td>ocean s twelve raids box office ocean s twelve...</td>\n",
       "    </tr>\n",
       "    <tr>\n",
       "      <th>...</th>\n",
       "      <td>...</td>\n",
       "      <td>...</td>\n",
       "    </tr>\n",
       "    <tr>\n",
       "      <th>2210</th>\n",
       "      <td>politics</td>\n",
       "      <td>teens  know little  of politics teenagers ques...</td>\n",
       "    </tr>\n",
       "    <tr>\n",
       "      <th>2211</th>\n",
       "      <td>entertainment</td>\n",
       "      <td>lopez misses uk charity premiere jennifer lope...</td>\n",
       "    </tr>\n",
       "    <tr>\n",
       "      <th>2212</th>\n",
       "      <td>business</td>\n",
       "      <td>christmas shoppers flock to tills shops all ov...</td>\n",
       "    </tr>\n",
       "    <tr>\n",
       "      <th>2213</th>\n",
       "      <td>tech</td>\n",
       "      <td>progress on new internet domains by early 2005...</td>\n",
       "    </tr>\n",
       "    <tr>\n",
       "      <th>2214</th>\n",
       "      <td>business</td>\n",
       "      <td>bush budget seeks deep cutbacks president bush...</td>\n",
       "    </tr>\n",
       "  </tbody>\n",
       "</table>\n",
       "<p>2215 rows × 2 columns</p>\n",
       "</div>"
      ],
      "text/plain": [
       "           category                                               text\n",
       "0              tech  tv future in the hands of viewers with home th...\n",
       "1          business  worldcom boss  left books alone  former worldc...\n",
       "2             sport  tigers wary of farrell  gamble  leicester say ...\n",
       "3             sport  yeading face newcastle in fa cup premiership s...\n",
       "4     entertainment  ocean s twelve raids box office ocean s twelve...\n",
       "...             ...                                                ...\n",
       "2210       politics  teens  know little  of politics teenagers ques...\n",
       "2211  entertainment  lopez misses uk charity premiere jennifer lope...\n",
       "2212       business  christmas shoppers flock to tills shops all ov...\n",
       "2213           tech  progress on new internet domains by early 2005...\n",
       "2214       business  bush budget seeks deep cutbacks president bush...\n",
       "\n",
       "[2215 rows x 2 columns]"
      ]
     },
     "execution_count": 4,
     "metadata": {},
     "output_type": "execute_result"
    }
   ],
   "source": [
    "# For train_data here the labels are in the column named \"category\".\n",
    "train_data"
   ]
  },
  {
   "cell_type": "code",
   "execution_count": 5,
   "metadata": {
    "colab": {
     "base_uri": "https://localhost:8080/",
     "height": 347
    },
    "id": "fc-SORtAfgqI",
    "outputId": "9b33b745-acc0-490c-c2dd-6f73c253664e"
   },
   "outputs": [
    {
     "data": {
      "text/html": [
       "<div>\n",
       "<style scoped>\n",
       "    .dataframe tbody tr th:only-of-type {\n",
       "        vertical-align: middle;\n",
       "    }\n",
       "\n",
       "    .dataframe tbody tr th {\n",
       "        vertical-align: top;\n",
       "    }\n",
       "\n",
       "    .dataframe thead th {\n",
       "        text-align: right;\n",
       "    }\n",
       "</style>\n",
       "<table border=\"1\" class=\"dataframe\">\n",
       "  <thead>\n",
       "    <tr style=\"text-align: right;\">\n",
       "      <th></th>\n",
       "      <th>category</th>\n",
       "      <th>text</th>\n",
       "    </tr>\n",
       "  </thead>\n",
       "  <tbody>\n",
       "    <tr>\n",
       "      <th>2215</th>\n",
       "      <td>NaN</td>\n",
       "      <td>junk e-mails on relentless rise spam traffic i...</td>\n",
       "    </tr>\n",
       "    <tr>\n",
       "      <th>2216</th>\n",
       "      <td>NaN</td>\n",
       "      <td>top stars join us tsunami tv show brad pitt  r...</td>\n",
       "    </tr>\n",
       "    <tr>\n",
       "      <th>2217</th>\n",
       "      <td>NaN</td>\n",
       "      <td>rings of steel combat net attacks gambling is ...</td>\n",
       "    </tr>\n",
       "    <tr>\n",
       "      <th>2218</th>\n",
       "      <td>NaN</td>\n",
       "      <td>davies favours gloucester future wales hooker ...</td>\n",
       "    </tr>\n",
       "    <tr>\n",
       "      <th>2219</th>\n",
       "      <td>NaN</td>\n",
       "      <td>beijingers fume over parking fees choking traf...</td>\n",
       "    </tr>\n",
       "    <tr>\n",
       "      <th>2220</th>\n",
       "      <td>NaN</td>\n",
       "      <td>cars pull down us retail figures us retail sal...</td>\n",
       "    </tr>\n",
       "    <tr>\n",
       "      <th>2221</th>\n",
       "      <td>NaN</td>\n",
       "      <td>kilroy unveils immigration policy ex-chatshow ...</td>\n",
       "    </tr>\n",
       "    <tr>\n",
       "      <th>2222</th>\n",
       "      <td>NaN</td>\n",
       "      <td>rem announce new glasgow concert us band rem h...</td>\n",
       "    </tr>\n",
       "    <tr>\n",
       "      <th>2223</th>\n",
       "      <td>NaN</td>\n",
       "      <td>how political squabbles snowball it s become c...</td>\n",
       "    </tr>\n",
       "    <tr>\n",
       "      <th>2224</th>\n",
       "      <td>NaN</td>\n",
       "      <td>souness delight at euro progress boss graeme s...</td>\n",
       "    </tr>\n",
       "  </tbody>\n",
       "</table>\n",
       "</div>"
      ],
      "text/plain": [
       "     category                                               text\n",
       "2215      NaN  junk e-mails on relentless rise spam traffic i...\n",
       "2216      NaN  top stars join us tsunami tv show brad pitt  r...\n",
       "2217      NaN  rings of steel combat net attacks gambling is ...\n",
       "2218      NaN  davies favours gloucester future wales hooker ...\n",
       "2219      NaN  beijingers fume over parking fees choking traf...\n",
       "2220      NaN  cars pull down us retail figures us retail sal...\n",
       "2221      NaN  kilroy unveils immigration policy ex-chatshow ...\n",
       "2222      NaN  rem announce new glasgow concert us band rem h...\n",
       "2223      NaN  how political squabbles snowball it s become c...\n",
       "2224      NaN  souness delight at euro progress boss graeme s..."
      ]
     },
     "execution_count": 5,
     "metadata": {},
     "output_type": "execute_result"
    }
   ],
   "source": [
    "test_data"
   ]
  },
  {
   "cell_type": "markdown",
   "metadata": {
    "id": "U1jeyM0emKOw"
   },
   "source": [
    "## Custom Implementation"
   ]
  },
  {
   "cell_type": "markdown",
   "metadata": {
    "id": "AU6mt5wq3Oyg"
   },
   "source": [
    "### Instructions:\n",
    "\n",
    "  1. Read in the train_data.\n",
    "  2. Vectorize train_data using sklearns built in tfidf vectorizer.\n",
    "  3. Ignore unigrams and make use of both **bigrams & trigrams** and also limit the **max features** to **4000** and **minimum document frequency** to **10**.\n",
    "  4. After the tfidf vectors are generated as mentioned above, next task is to generate random hyperplanes.\n",
    "  5. Generate **5 random hyperplanes**. And generate the hyperplanes using a random normal distribution with **mean zero and variance 1**. \n",
    "  6. We have set the **numpy random seed to zero**, please do not change it. And then you can make use of **np.random.normal** to generate the vectors for hyperplanes.\n",
    "  7. As mentioned in the course videos, compute the hash function and also the corresponding hash table for it.\n",
    "  8. Once the hash table is generated now take in each of the query points from the test data.\n",
    "  9. Vectorize those query points using the same tfidf vectorizer as mentioned above.\n",
    "  10. Now use the hash function on this query point and fetch all the similar data points from the hashtable.\n",
    "  11. Use cosine similarity to compute **11-Nearest Neighbours** from the list of data points obtained in the above step.\n",
    "  12. Take a majority vote among the 11-Nearest Neighbours and predict the class label for the query point in the test data.\n",
    "  13. **In case of a tie** in the obtained labels from nearest neighbours, you can pick a label after sorting all the labels **alphabetically**(A-Z), i.e. for example labels starting with A would get more preference than labels starting with Z.\n",
    "  14. Repeat steps 9 to 13 for all the points in the test data and then finally return a list with all the predicted labels.\n",
    "  15. Note that there are a total of 10 data points in the test data so the final list you return should be of length 10.\n",
    "  16. Also note that the cosine similarity function should be written from scratch, you should not directly make use of existing libraries.\n",
    "  17. Please use the formula of cosine similarity as explained in the course videos, you can make use of numpy or scipy to calculate dot or norm or transpose."
   ]
  },
  {
   "cell_type": "code",
   "execution_count": 6,
   "metadata": {},
   "outputs": [],
   "source": [
    "# train_data = np.random.normal(0,1,(10,2))\n",
    "# train_data_cat = np.random.randint(0,2,(10,1))"
   ]
  },
  {
   "cell_type": "code",
   "execution_count": 7,
   "metadata": {},
   "outputs": [
    {
     "data": {
      "text/plain": [
       "(array([[-0.97231305,  0.16373904],\n",
       "        [ 0.16633262, -1.96424356],\n",
       "        [ 1.56431298,  0.73497617],\n",
       "        [-0.97159411, -0.82408063],\n",
       "        [-0.89915791,  0.58020193],\n",
       "        [ 0.83816056, -0.81875401],\n",
       "        [-0.86226237, -1.09301577],\n",
       "        [ 2.2886741 ,  0.74032914],\n",
       "        [ 0.78292932,  0.17172631],\n",
       "        [-0.78703171, -0.1864927 ]]),\n",
       " array([[0],\n",
       "        [0],\n",
       "        [0],\n",
       "        [1],\n",
       "        [0],\n",
       "        [1],\n",
       "        [1],\n",
       "        [1],\n",
       "        [0],\n",
       "        [0]]))"
      ]
     },
     "execution_count": 7,
     "metadata": {},
     "output_type": "execute_result"
    }
   ],
   "source": [
    "# train_data, train_data_cat"
   ]
  },
  {
   "cell_type": "code",
   "execution_count": 6,
   "metadata": {
    "id": "YECivOCWfvGn"
   },
   "outputs": [
    {
     "name": "stderr",
     "output_type": "stream",
     "text": [
      "/usr/lib/python3.6/importlib/_bootstrap.py:219: RuntimeWarning: numpy.ufunc size changed, may indicate binary incompatibility. Expected 192 from C header, got 216 from PyObject\n",
      "  return f(*args, **kwds)\n",
      "/usr/lib/python3.6/importlib/_bootstrap.py:219: RuntimeWarning: numpy.ufunc size changed, may indicate binary incompatibility. Expected 192 from C header, got 216 from PyObject\n",
      "  return f(*args, **kwds)\n"
     ]
    }
   ],
   "source": [
    "# Please implement this fucntion and write your code wherever asked. Do NOT change the code snippets provided by us.\n",
    "from sklearn.feature_extraction.text import TfidfVectorizer\n",
    "import numpy as np\n",
    "from numpy.linalg import norm\n",
    "\n",
    "def predictLabels (test_data):\n",
    "  \"\"\"\n",
    "  Given the test_data, return the labels for all the rows in the test data.\n",
    "  Follow the step by step instructions mentioned above.\n",
    "  \"\"\"\n",
    "\n",
    "  np.random.seed(0)\n",
    "\n",
    "  ##############################################################\n",
    "  ####  Write YOUR CODE BELOW  as per the above instructions ###\n",
    "  ##############################################################\n",
    "  \n",
    "  Xtrain, Ytrain = train_data['text'].copy(), train_data['category'].copy()\n",
    "  #   print(Xtrain)\n",
    "  tfidf_vectorizer = TfidfVectorizer(ngram_range=(2,3),max_features=4000, min_df=10)\n",
    "  X = tfidf_vectorizer.fit_transform(Xtrain)\n",
    "  # print(X[:10])\n",
    "  print('X.shape:  ',X.shape)  \n",
    "  np.random.seed(0)\n",
    "  hyperplanes = np.random.normal(0,1,(5, X.shape[1]))\n",
    "  print('hyperplanes:  ',hyperplanes)\n",
    "  \n",
    "  def hash_key(x_vector):\n",
    "  #   print(x_vector.shape)\n",
    "    key = tuple()\n",
    "    key_array = x_vector.dot(hyperplanes.T)\n",
    "  #   print(key_array.shape)\n",
    "    key_array = key_array.tolist()\n",
    "  #   print(type(key_array),len(key_array))\n",
    "    key = tuple(map(lambda x: (0,1)[x>=0], key_array[0]))\n",
    "    return key\n",
    "  \n",
    "  hash_table = dict()\n",
    "\n",
    "  idx = 0\n",
    "  for point in X:\n",
    "    key = hash_key(point)\n",
    "    if key not in hash_table:\n",
    "      hash_table[key] = list()\n",
    "    hash_table[key].append(idx)\n",
    "    idx += 1  \n",
    "    \n",
    "#   Quick check for count of X texts\n",
    "# b = hash_table.values()\n",
    "# print(sum([len(x) for x in list(b)]))   #this must be 2215 X.shape[0]\n",
    "  \n",
    "  Xtest, Ytest = test_data['text'].copy(), test_data['category'].copy()\n",
    "  tfidf_vectorizer_test = TfidfVectorizer(ngram_range=(2,3),max_features=4000)\n",
    "  Xq = tfidf_vectorizer_test.fit_transform(Xtest)\n",
    "  print('Xq.shape:  ',Xq.shape)\n",
    "\n",
    "  Xq_neighbors = dict()\n",
    "  \n",
    "  def cosine_similar(Qp,neighbors,k=11):\n",
    "  #   print(Qp, Qp.shape, type(Qp))\n",
    "    cos_sim = []\n",
    "    Qp_L2_norm = np.linalg.norm(Qp.toarray(),2)\n",
    "    for neighbor_idx in neighbors:\n",
    "      neighbor = X[neighbor_idx]\n",
    "      cosine = Qp.dot(neighbor.T)/(Qp_L2_norm * np.linalg.norm(neighbor.toarray(),2))\n",
    "      cos_sim.append(cosine.toarray().item())\n",
    "    neighbors = np.array(neighbors)\n",
    "    return neighbors[np.argsort(cos_sim)[:-12:-1]]\n",
    "\n",
    "  idx = 0\n",
    "  for query_point in Xq:\n",
    "    key = hash_key(query_point)\n",
    "    neighbors = hash_table[key]\n",
    "    nearest_11_neighbors = cosine_similar(query_point,neighbors,k=11)\n",
    "    Xq_neighbors[idx] = nearest_11_neighbors\n",
    "    idx += 1\n",
    "    \n",
    "  print('Xq_neighbors: ',Xq_neighbors)\n",
    "\n",
    "  Xq_labels = []\n",
    "  for idx, neighbors in Xq_neighbors.items():\n",
    "    label_count = dict()\n",
    "    max_count = 0 \n",
    "    label_majority = ''\n",
    "    for neighbor in neighbors:\n",
    "      label = Ytrain[neighbor]\n",
    "      label_count[label] = label_count.get(label,0)+1\n",
    "      if label_count[label]>max_count:\n",
    "        max_count = label_count[label]\n",
    "        label_majority = label\n",
    "      if label_count[label]==max_count:\n",
    "        if label[0]<label_majority[0]:\n",
    "          max_count = label_count[label]\n",
    "          label_majority = label\n",
    "    Xq_labels.append(label_majority)\n",
    "    print(Xq_labels)\n",
    "    return np.array(Xq_labels)"
   ]
  },
  {
   "cell_type": "code",
   "execution_count": 33,
   "metadata": {},
   "outputs": [
    {
     "data": {
      "text/plain": [
       "KNeighborsClassifier(n_neighbors=11)"
      ]
     },
     "execution_count": 33,
     "metadata": {},
     "output_type": "execute_result"
    }
   ],
   "source": [
    "y = Ytrain\n",
    "from sklearn.neighbors import KNeighborsClassifier\n",
    "neigh = KNeighborsClassifier(n_neighbors=11)\n",
    "neigh.fit(X, y)\n",
    "# print(neigh.predict([[1.1]]))\n",
    "# print(neigh.predict_proba([[0.9]]))"
   ]
  },
  {
   "cell_type": "code",
   "execution_count": 40,
   "metadata": {},
   "outputs": [
    {
     "data": {
      "text/plain": [
       "<1x4000 sparse matrix of type '<class 'numpy.float64'>'\n",
       "\twith 261 stored elements in Compressed Sparse Row format>"
      ]
     },
     "execution_count": 40,
     "metadata": {},
     "output_type": "execute_result"
    }
   ],
   "source": [
    "Xq[0]"
   ]
  },
  {
   "cell_type": "code",
   "execution_count": 46,
   "metadata": {},
   "outputs": [],
   "source": [
    "lib_ans = [neigh.predict(xq).item() for xq in Xq]"
   ]
  },
  {
   "cell_type": "code",
   "execution_count": 43,
   "metadata": {},
   "outputs": [
    {
     "name": "stdout",
     "output_type": "stream",
     "text": [
      "['tech']\n"
     ]
    }
   ],
   "source": [
    "print(neigh.predict(Xq[1]))"
   ]
  },
  {
   "cell_type": "code",
   "execution_count": 8,
   "metadata": {},
   "outputs": [
    {
     "name": "stdout",
     "output_type": "stream",
     "text": [
      "X.shape:   (2215, 4000)\n",
      "hyperplanes:   [[ 1.76405235  0.40015721  0.97873798 ... -0.03057244  1.57708821\n",
      "  -0.8128021 ]\n",
      " [ 0.61334917  1.84369998  0.27109098 ... -0.20273458 -0.25786648\n",
      "   0.07081452]\n",
      " [ 0.99784476  0.26008072  0.92506562 ... -1.9974298  -0.03192091\n",
      "   0.22396576]\n",
      " [ 0.94550839  0.42292354 -1.17568    ...  1.41938754  0.74710667\n",
      "  -0.10630249]\n",
      " [-1.96265255 -0.83403203  1.99383675 ... -0.05725925 -1.05893126\n",
      "  -0.32652844]]\n",
      "Xq.shape:   (10, 4000)\n",
      "Xq_neighbors:  {0: array([ 149,  702, 2129, 1780, 1120,  164,  252, 1983, 1944, 1711,  374]), 1: array([2043, 1547,  854, 1932, 1344, 1990,  483, 2068,  281,  644,  971]), 2: array([1043, 1941, 1226,  971,  391,  865, 1344, 1525,  803, 1318,  450]), 3: array([ 356,  605,  471, 1650,  983,  739,  406, 1189,  930,  718, 1337]), 4: array([ 845,  208, 1299,  896, 1904,  181,  639, 1424, 1974, 1062, 2163]), 5: array([   0, 1864, 1550, 1266, 1185, 1383,  412,  573,  574, 2032,  139]), 6: array([1143, 1080,  422, 2048, 1750,  260, 1134,  918, 1150,  285,  929]), 7: array([ 214, 1742, 1732,  902, 1558,  609, 1875, 1563,  155, 1211, 2183]), 8: array([2136,  389, 1371,  228, 1508, 1275,  393, 1880,  793, 1176,  890]), 9: array([ 963, 2022,  405,  809,  315,  468,  780, 1175, 1461,  973, 1113])}\n"
     ]
    }
   ],
   "source": [
    "np.random.seed(0)\n",
    "\n",
    "##############################################################\n",
    "####  Write YOUR CODE BELOW  as per the above instructions ###\n",
    "##############################################################\n",
    "\n",
    "Xtrain, Ytrain = train_data['text'].copy(), train_data['category'].copy()\n",
    "#   print(Xtrain)\n",
    "tfidf_vectorizer = TfidfVectorizer(ngram_range=(2,3),max_features=4000, min_df=10)\n",
    "X = tfidf_vectorizer.fit_transform(Xtrain)\n",
    "# print(X[:10])\n",
    "print('X.shape:  ',X.shape)  \n",
    "np.random.seed(0)\n",
    "hyperplanes = np.random.normal(0,1,(5, X.shape[1]))\n",
    "print('hyperplanes:  ',hyperplanes)\n",
    "\n",
    "def hash_key(x_vector):\n",
    "#   print(x_vector.shape)\n",
    "  key = tuple()\n",
    "  key_array = x_vector.dot(hyperplanes.T)\n",
    "#   print(key_array.shape)\n",
    "  key_array = key_array.tolist()\n",
    "#   print(type(key_array),len(key_array))\n",
    "  key = tuple(map(lambda x: (0,1)[x>=0], key_array[0]))\n",
    "  return key\n",
    "\n",
    "hash_table = dict()\n",
    "\n",
    "idx = 0\n",
    "for point in X:\n",
    "  key = hash_key(point)\n",
    "  if key not in hash_table:\n",
    "    hash_table[key] = list()\n",
    "  hash_table[key].append(idx)\n",
    "  idx += 1  \n",
    "\n",
    "#   Quick check for count of X texts\n",
    "# b = hash_table.values()\n",
    "# print(sum([len(x) for x in list(b)]))   #this must be 2215 X.shape[0]\n",
    "\n",
    "Xtest, Ytest = test_data['text'].copy(), test_data['category'].copy()\n",
    "tfidf_vectorizer_test = TfidfVectorizer(ngram_range=(2,3),max_features=4000)\n",
    "Xq = tfidf_vectorizer_test.fit_transform(Xtest)\n",
    "print('Xq.shape:  ',Xq.shape)\n",
    "\n",
    "Xq_neighbors = dict()\n",
    "\n",
    "def cosine_similar(Qp,neighbors,k=11):\n",
    "#   print(Qp, Qp.shape, type(Qp))\n",
    "  cos_sim = []\n",
    "  Qp_L2_norm = np.linalg.norm(Qp.toarray(),2)\n",
    "  for neighbor_idx in neighbors:\n",
    "    neighbor = X[neighbor_idx]\n",
    "    cosine = Qp.dot(neighbor.T)/(Qp_L2_norm * np.linalg.norm(neighbor.toarray(),2))\n",
    "    cos_sim.append(cosine.toarray().item())\n",
    "  neighbors = np.array(neighbors)\n",
    "  return neighbors[np.argsort(cos_sim)[:-k-1:-1]]\n",
    "\n",
    "idx = 0\n",
    "for query_point in Xq:\n",
    "  key = hash_key(query_point)\n",
    "  neighbors = hash_table[key]\n",
    "  nearest_11_neighbors = cosine_similar(query_point,neighbors,k=11)\n",
    "  Xq_neighbors[idx] = nearest_11_neighbors\n",
    "  idx += 1\n",
    "\n",
    "print('Xq_neighbors: ',Xq_neighbors)"
   ]
  },
  {
   "cell_type": "code",
   "execution_count": 32,
   "metadata": {},
   "outputs": [
    {
     "data": {
      "text/plain": [
       "['business',\n",
       " 'entertainment',\n",
       " 'entertainment',\n",
       " 'entertainment',\n",
       " 'politics',\n",
       " 'politics',\n",
       " 'politics',\n",
       " 'politics',\n",
       " 'sport',\n",
       " 'sport',\n",
       " 'tech']"
      ]
     },
     "execution_count": 32,
     "metadata": {},
     "output_type": "execute_result"
    }
   ],
   "source": [
    "Qp = Xq[0]\n",
    "key = hash_key(Qp)\n",
    "neighbors = hash_table[key]\n",
    "cos_sim = []\n",
    "Qp_L2_norm = np.linalg.norm(Qp.toarray(),2)\n",
    "# print(Qp_L2_norm)\n",
    "for neighbor_idx in neighbors:\n",
    "  neighbor = X[neighbor_idx]\n",
    "  nbr_norm = np.linalg.norm(neighbor.toarray(),2)\n",
    "#   print(nbr_norm)\n",
    "  cosine = neighbor.dot(Qp.T)\n",
    "  cos_sim.append(cosine.toarray().item())\n",
    "neighbors = np.array(neighbors)\n",
    "n_array = neighbors[np.argsort(cos_sim)[:-12:-1]]\n",
    "sorted(Ytrain[n_array])"
   ]
  },
  {
   "cell_type": "code",
   "execution_count": 15,
   "metadata": {},
   "outputs": [
    {
     "name": "stdout",
     "output_type": "stream",
     "text": [
      "['business', 'entertainment', 'entertainment', 'entertainment', 'politics', 'politics', 'politics', 'politics', 'sport', 'sport', 'tech']\n",
      "['business', 'business', 'entertainment', 'politics', 'sport', 'sport', 'tech', 'tech', 'tech', 'tech', 'tech']\n",
      "['business', 'entertainment', 'politics', 'politics', 'sport', 'sport', 'tech', 'tech', 'tech', 'tech', 'tech']\n",
      "['business', 'entertainment', 'politics', 'politics', 'politics', 'sport', 'sport', 'tech', 'tech', 'tech', 'tech']\n",
      "['business', 'business', 'business', 'business', 'business', 'entertainment', 'sport', 'tech', 'tech', 'tech', 'tech']\n",
      "['business', 'politics', 'politics', 'politics', 'politics', 'tech', 'tech', 'tech', 'tech', 'tech', 'tech']\n",
      "['business', 'entertainment', 'politics', 'politics', 'politics', 'sport', 'sport', 'tech', 'tech', 'tech', 'tech']\n",
      "['business', 'business', 'entertainment', 'entertainment', 'sport', 'sport', 'sport', 'tech', 'tech', 'tech', 'tech']\n",
      "['business', 'business', 'politics', 'politics', 'politics', 'politics', 'sport', 'sport', 'tech', 'tech', 'tech']\n",
      "['business', 'business', 'business', 'entertainment', 'entertainment', 'politics', 'sport', 'sport', 'sport', 'tech', 'tech']\n"
     ]
    }
   ],
   "source": [
    "for xq in Xq_neighbors:\n",
    "  print(sorted(Ytrain[Xq_neighbors[xq]]))"
   ]
  },
  {
   "cell_type": "code",
   "execution_count": 9,
   "metadata": {},
   "outputs": [
    {
     "name": "stdout",
     "output_type": "stream",
     "text": [
      "politics\n",
      "['politics']\n",
      "tech\n",
      "['politics', 'tech']\n",
      "tech\n",
      "['politics', 'tech', 'tech']\n",
      "tech\n",
      "['politics', 'tech', 'tech', 'tech']\n",
      "business\n",
      "['politics', 'tech', 'tech', 'tech', 'business']\n",
      "tech\n",
      "['politics', 'tech', 'tech', 'tech', 'business', 'tech']\n",
      "tech\n",
      "['politics', 'tech', 'tech', 'tech', 'business', 'tech', 'tech']\n",
      "tech\n",
      "['politics', 'tech', 'tech', 'tech', 'business', 'tech', 'tech', 'tech']\n",
      "politics\n",
      "['politics', 'tech', 'tech', 'tech', 'business', 'tech', 'tech', 'tech', 'politics']\n",
      "business\n",
      "['politics', 'tech', 'tech', 'tech', 'business', 'tech', 'tech', 'tech', 'politics', 'business']\n"
     ]
    }
   ],
   "source": [
    "Xq_labels = []\n",
    "for idx, neighbors in Xq_neighbors.items():\n",
    "  label_count = dict()\n",
    "  max_count = 0 \n",
    "  label_majority = ''\n",
    "  for neighbor in neighbors:\n",
    "    label = Ytrain[neighbor]\n",
    "    label_count[label] = label_count.get(label,0)+1\n",
    "    if label_count[label]>max_count:\n",
    "      max_count = label_count[label]\n",
    "      label_majority = label\n",
    "    if label_count[label]==max_count:\n",
    "      if label[0]<label_majority[0]:\n",
    "        max_count = label_count[label]\n",
    "        label_majority = label\n",
    "  print(label_majority)\n",
    "  Xq_labels.append(label_majority)\n",
    "  print(Xq_labels)"
   ]
  },
  {
   "cell_type": "code",
   "execution_count": null,
   "metadata": {},
   "outputs": [],
   "source": []
  },
  {
   "cell_type": "code",
   "execution_count": null,
   "metadata": {},
   "outputs": [],
   "source": []
  },
  {
   "cell_type": "code",
   "execution_count": null,
   "metadata": {},
   "outputs": [],
   "source": []
  },
  {
   "cell_type": "code",
   "execution_count": 12,
   "metadata": {
    "scrolled": true
   },
   "outputs": [],
   "source": [
    "Xtrain, Ytrain = train_data, train_data_cat\n",
    "  #   print(Xtrain)\n",
    "# tfidf_vectorizer = TfidfVectorizer(ngram_range=(2,3),max_features=4000, min_df=10)\n",
    "# X = tfidf_vectorizer.fit_transform(Xtrain)\n",
    "# print(X[:10])\n",
    "#   print(X.shape)  \n",
    "X = Xtrain"
   ]
  },
  {
   "cell_type": "code",
   "execution_count": 89,
   "metadata": {},
   "outputs": [
    {
     "name": "stdout",
     "output_type": "stream",
     "text": [
      "[[1.76405235 0.40015721]\n",
      " [0.97873798 2.2408932 ]]\n"
     ]
    }
   ],
   "source": [
    "np.random.seed(0)\n",
    "hyperplanes = np.random.normal(0,1,(2,2))\n",
    "print(hyperplanes)"
   ]
  },
  {
   "cell_type": "code",
   "execution_count": 128,
   "metadata": {},
   "outputs": [],
   "source": [
    "def hash_key(x_vector):\n",
    "#   print(x_vector.shape, x_vector)\n",
    "#   key = tuple()\n",
    "  key_array = x_vector.dot(hyperplanes.T)\n",
    "#   print(key_array.shape)\n",
    "  key_array = key_array.tolist()\n",
    "#   print(type(key_array),len(key_array))\n",
    "  key = tuple(map(lambda x: (0,1)[x>=0], key_array))\n",
    "  return key"
   ]
  },
  {
   "cell_type": "code",
   "execution_count": 129,
   "metadata": {},
   "outputs": [],
   "source": [
    "hash_table = dict()\n",
    "\n",
    "idx = 0\n",
    "for point in X:\n",
    "  key = hash_key(point)\n",
    "  if key not in hash_table:\n",
    "    hash_table[key] = list()\n",
    "  hash_table[key].append(idx)\n",
    "  idx += 1 "
   ]
  },
  {
   "cell_type": "code",
   "execution_count": 130,
   "metadata": {},
   "outputs": [
    {
     "data": {
      "text/plain": [
       "{(0, 0): [0, 1, 3, 6, 9], (1, 1): [2, 7, 8], (0, 1): [4], (1, 0): [5]}"
      ]
     },
     "execution_count": 130,
     "metadata": {},
     "output_type": "execute_result"
    }
   ],
   "source": [
    "hash_table"
   ]
  },
  {
   "cell_type": "code",
   "execution_count": 131,
   "metadata": {},
   "outputs": [
    {
     "name": "stdout",
     "output_type": "stream",
     "text": [
      "10\n"
     ]
    }
   ],
   "source": [
    "b = hash_table.values()\n",
    "print(sum([len(x) for x in list(b)]))   #this must be 2215 X.shape[0]"
   ]
  },
  {
   "cell_type": "code",
   "execution_count": 132,
   "metadata": {},
   "outputs": [],
   "source": [
    "import matplotlib.pyplot as plt\n",
    "import seaborn as sns"
   ]
  },
  {
   "cell_type": "code",
   "execution_count": 133,
   "metadata": {},
   "outputs": [
    {
     "name": "stderr",
     "output_type": "stream",
     "text": [
      "/home/mayur/.local/lib/python3.6/site-packages/seaborn/_decorators.py:43: FutureWarning: Pass the following variables as keyword args: x, y. From version 0.12, the only valid positional argument will be `data`, and passing other arguments without an explicit keyword will result in an error or misinterpretation.\n",
      "  FutureWarning\n"
     ]
    },
    {
     "data": {
      "text/plain": [
       "[<matplotlib.lines.Line2D at 0x7f0dd5c9f748>]"
      ]
     },
     "execution_count": 133,
     "metadata": {},
     "output_type": "execute_result"
    },
    {
     "data": {
      "image/png": "[encoded data removed]",
      "text/plain": [
       "<Figure size 432x288 with 1 Axes>"
      ]
     },
     "metadata": {
      "needs_background": "light"
     },
     "output_type": "display_data"
    }
   ],
   "source": [
    "sns.scatterplot(train_data.T[0],train_data.T[1], hue=train_data_cat.T[0])\n",
    "axes = plt.gca()\n",
    "x_vals = np.array(axes.get_xlim())\n",
    "y_vals1 = -hyperplanes[0][0]/hyperplanes[0][1] * x_vals\n",
    "y_vals2 = -hyperplanes[1][0]/hyperplanes[1][1] * x_vals\n",
    "plt.plot(x_vals, y_vals1, '--')\n",
    "plt.plot(x_vals, y_vals2, '--')"
   ]
  },
  {
   "cell_type": "code",
   "execution_count": 135,
   "metadata": {},
   "outputs": [
    {
     "name": "stderr",
     "output_type": "stream",
     "text": [
      "/home/mayur/.local/lib/python3.6/site-packages/seaborn/_decorators.py:43: FutureWarning: Pass the following variables as keyword args: x, y. From version 0.12, the only valid positional argument will be `data`, and passing other arguments without an explicit keyword will result in an error or misinterpretation.\n",
      "  FutureWarning\n",
      "/home/mayur/.local/lib/python3.6/site-packages/seaborn/_decorators.py:43: FutureWarning: Pass the following variables as keyword args: x, y. From version 0.12, the only valid positional argument will be `data`, and passing other arguments without an explicit keyword will result in an error or misinterpretation.\n",
      "  FutureWarning\n"
     ]
    },
    {
     "data": {
      "text/plain": [
       "[<matplotlib.lines.Line2D at 0x7f0dd5ba5e10>]"
      ]
     },
     "execution_count": 135,
     "metadata": {},
     "output_type": "execute_result"
    },
    {
     "data": {
      "image/png": "[encoded data removed]",
      "text/plain": [
       "<Figure size 432x288 with 1 Axes>"
      ]
     },
     "metadata": {
      "needs_background": "light"
     },
     "output_type": "display_data"
    }
   ],
   "source": [
    "test_data = np.array([[-0.9,1],[0.2,-2],[-1,-1]])\n",
    "test_data_cat = np.array([[0],[0],[1]])\n",
    "\n",
    "sns.scatterplot(test_data.T[0],test_data.T[1], hue=test_data_cat.T[0],marker=\"+\")\n",
    "sns.scatterplot(train_data.T[0],train_data.T[1], hue=train_data_cat.T[0])\n",
    "axes = plt.gca()\n",
    "x_vals = np.array(axes.get_xlim())\n",
    "y_vals1 = -hyperplanes[0][0]/hyperplanes[0][1] * x_vals\n",
    "y_vals2 = -hyperplanes[1][0]/hyperplanes[1][1] * x_vals\n",
    "plt.plot(x_vals, y_vals1, '--')\n",
    "plt.plot(x_vals, y_vals2, '--')"
   ]
  },
  {
   "cell_type": "code",
   "execution_count": 136,
   "metadata": {},
   "outputs": [
    {
     "name": "stdout",
     "output_type": "stream",
     "text": [
      "(3, 2)\n"
     ]
    }
   ],
   "source": [
    "Xtest, Ytest = test_data, test_data_cat\n",
    "# tfidf_vectorizer_test = TfidfVectorizer(ngram_range=(2,3),max_features=4000)\n",
    "# Xq = tfidf_vectorizer_test.fit_transform(Xtest)\n",
    "Xq = Xtest\n",
    "print(Xq.shape)\n",
    "Xq_neighbors = dict()  "
   ]
  },
  {
   "cell_type": "code",
   "execution_count": 141,
   "metadata": {},
   "outputs": [],
   "source": [
    "query_point = Xq[0]"
   ]
  },
  {
   "cell_type": "code",
   "execution_count": 142,
   "metadata": {},
   "outputs": [
    {
     "name": "stdout",
     "output_type": "stream",
     "text": [
      "[4]\n",
      "[0, 1, 3, 6, 9]\n",
      "[0, 1, 3, 6, 9]\n"
     ]
    }
   ],
   "source": [
    "for xq in Xq:\n",
    "  query_point = xq\n",
    "  key = hash_key(query_point)\n",
    "  # print(key)\n",
    "  neighbors = hash_table[key]\n",
    "  print(neighbors)"
   ]
  },
  {
   "cell_type": "code",
   "execution_count": 143,
   "metadata": {},
   "outputs": [],
   "source": [
    "# sorted(Ytrain[neighbors].tolist())"
   ]
  },
  {
   "cell_type": "code",
   "execution_count": 149,
   "metadata": {},
   "outputs": [
    {
     "data": {
      "text/plain": [
       "array([3, 6])"
      ]
     },
     "execution_count": 149,
     "metadata": {},
     "output_type": "execute_result"
    }
   ],
   "source": [
    "cos_sim = []\n",
    "Qp = query_point\n",
    "Qp_L2_norm = np.linalg.norm(Qp,2)\n",
    "for neighbor_idx in neighbors:\n",
    "  neighbor = X[neighbor_idx]\n",
    "  cosine = Qp.dot(neighbor.T)/(Qp_L2_norm * np.linalg.norm(neighbor,2))\n",
    "  cos_sim.append(cosine.item())\n",
    "neighbors = np.array(neighbors)\n",
    "neighbors[np.argsort(cos_sim)[:-3:-1]]"
   ]
  },
  {
   "cell_type": "code",
   "execution_count": 147,
   "metadata": {},
   "outputs": [
    {
     "data": {
      "text/plain": [
       "array([0, 1, 3, 6, 9])"
      ]
     },
     "execution_count": 147,
     "metadata": {},
     "output_type": "execute_result"
    }
   ],
   "source": [
    "neighbors"
   ]
  },
  {
   "cell_type": "code",
   "execution_count": 72,
   "metadata": {},
   "outputs": [
    {
     "data": {
      "text/plain": [
       "1074    politics\n",
       "407     business\n",
       "1043        tech\n",
       "2157       sport\n",
       "1226       sport\n",
       "1553    politics\n",
       "941         tech\n",
       "668     business\n",
       "837     business\n",
       "749        sport\n",
       "Name: category, dtype: object"
      ]
     },
     "execution_count": 72,
     "metadata": {},
     "output_type": "execute_result"
    }
   ],
   "source": [
    "Ytrain[neighbors[np.argsort(cos_sim)[:-11:-1]]]"
   ]
  },
  {
   "cell_type": "code",
   "execution_count": 1,
   "metadata": {},
   "outputs": [],
   "source": [
    "from sklearn.feature_extraction.text import TfidfVectorizer\n",
    "import numpy as np\n",
    "from numpy.linalg import norm"
   ]
  },
  {
   "cell_type": "code",
   "execution_count": 3,
   "metadata": {},
   "outputs": [
    {
     "name": "stdout",
     "output_type": "stream",
     "text": [
      "0.0\n"
     ]
    }
   ],
   "source": [
    "a = np.array([1,0])\n",
    "b = np.array([0,1])\n",
    "cosine = a.dot(b.T) / (np.linalg.norm(a,2) * np.linalg.norm(b,2))\n",
    "print(cosine)"
   ]
  },
  {
   "cell_type": "code",
   "execution_count": 47,
   "metadata": {},
   "outputs": [],
   "source": [
    "# Y_custom = np.array(Xq_labels)\n",
    "Y_custom = lib_ans"
   ]
  },
  {
   "cell_type": "code",
   "execution_count": 48,
   "metadata": {},
   "outputs": [
    {
     "name": "stdout",
     "output_type": "stream",
     "text": [
      "####### Failed ####### Accuracy Achieved =  20 %\n",
      "\n",
      "Y_grader = \n",
      "\n",
      " ['tech' 'entertainment' 'tech' 'sport' 'business' 'business' 'politics'\n",
      " 'entertainment' 'politics' 'sport']\n",
      "\n",
      " **************************************************\n",
      "\n",
      "Y_custom = \n",
      "\n",
      " ['sport', 'tech', 'sport', 'politics', 'tech', 'business', 'politics', 'tech', 'tech', 'politics']\n"
     ]
    }
   ],
   "source": [
    "Y_grader = np.array(['tech', 'entertainment', 'tech', 'sport', 'business', 'business', 'politics', 'entertainment', 'politics', 'sport'])\n",
    "\n",
    "# Calculating accuracy by comparing Y_grader and Y_custom\n",
    "accuracy = np.sum(Y_grader==Y_custom) * 10\n",
    "\n",
    "if accuracy >= 80:\n",
    "  print(\"******** Success ********\",\"Accuracy Achieved = \", accuracy,'%')\n",
    "else:\n",
    "  print(\"####### Failed #######\",\"Accuracy Achieved = \", accuracy,'%')\n",
    "  print(\"\\nY_grader = \\n\\n\", Y_grader)\n",
    "  print(\"\\n\",\"*\"*50)\n",
    "  print(\"\\nY_custom = \\n\\n\", Y_custom)"
   ]
  },
  {
   "cell_type": "code",
   "execution_count": null,
   "metadata": {},
   "outputs": [],
   "source": []
  },
  {
   "cell_type": "markdown",
   "metadata": {
    "id": "rhnngvQkrnBB"
   },
   "source": [
    "## Grader Cell\n",
    "\n",
    "Please execute the following Grader cell to verify the correctness of your above implementation. This cell will print \"Success\" if your implmentation of the predictLabels() is correct, else, it will print \"Failed\". Make sure you get a \"Success\" before you submit the code in the classroom."
   ]
  },
  {
   "cell_type": "code",
   "execution_count": 7,
   "metadata": {
    "id": "GX1sji2XrtmX"
   },
   "outputs": [
    {
     "name": "stdout",
     "output_type": "stream",
     "text": [
      "X.shape:   (2215, 4000)\n",
      "hyperplanes:   [[ 1.76405235  0.40015721  0.97873798 ... -0.03057244  1.57708821\n",
      "  -0.8128021 ]\n",
      " [ 0.61334917  1.84369998  0.27109098 ... -0.20273458 -0.25786648\n",
      "   0.07081452]\n",
      " [ 0.99784476  0.26008072  0.92506562 ... -1.9974298  -0.03192091\n",
      "   0.22396576]\n",
      " [ 0.94550839  0.42292354 -1.17568    ...  1.41938754  0.74710667\n",
      "  -0.10630249]\n",
      " [-1.96265255 -0.83403203  1.99383675 ... -0.05725925 -1.05893126\n",
      "  -0.32652844]]\n",
      "Xq.shape:   (10, 4000)\n",
      "Xq_neighbors:  {0: array([ 149,  702, 2129, 1780, 1120,  164,  252, 1983, 1944, 1711,  374]), 1: array([2043, 1547,  854, 1932, 1344, 1990,  483, 2068,  281,  644,  971]), 2: array([1043, 1941, 1226,  971,  391,  865, 1344, 1525,  803, 1318,  450]), 3: array([ 356,  605,  471, 1650,  983,  739,  406, 1189,  930,  718, 1337]), 4: array([ 845,  208, 1299,  896, 1904,  181,  639, 1424, 1974, 1062, 2163]), 5: array([   0, 1864, 1550, 1266, 1185, 1383,  412,  573,  574, 2032,  139]), 6: array([1143, 1080,  422, 2048, 1750,  260, 1134,  918, 1150,  285,  929]), 7: array([ 214, 1742, 1732,  902, 1558,  609, 1875, 1563,  155, 1211, 2183]), 8: array([2136,  389, 1371,  228, 1508, 1275,  393, 1880,  793, 1176,  890]), 9: array([ 963, 2022,  405,  809,  315,  468,  780, 1175, 1461,  973, 1113])}\n",
      "['politics']\n",
      "####### Failed ####### Accuracy Achieved =  20 %\n",
      "\n",
      "Y_grader = \n",
      "\n",
      " ['tech' 'entertainment' 'tech' 'sport' 'business' 'business' 'politics'\n",
      " 'entertainment' 'politics' 'sport']\n",
      "\n",
      " **************************************************\n",
      "\n",
      "Y_custom = \n",
      "\n",
      " ['politics']\n"
     ]
    }
   ],
   "source": [
    "###########################################\n",
    "## GRADER CELL: Do NOT Change this.\n",
    "# This cell will print \"Success\" if your implmentation of the predictLabels() is correct and the accuracy obtained is above 80%.\n",
    "# Else, it will print \"Failed\"\n",
    "###########################################\n",
    "import numpy as np\n",
    "\n",
    "# Predict the labels using the predictLabels() function\n",
    "Y_custom = np.array(predictLabels(test_data))\n",
    "\n",
    "# Reference grader array - DO NOT MODIFY IT\n",
    "Y_grader = np.array(['tech', 'entertainment', 'tech', 'sport', 'business', 'business', 'politics', 'entertainment', 'politics', 'sport'])\n",
    "\n",
    "# Calculating accuracy by comparing Y_grader and Y_custom\n",
    "accuracy = np.sum(Y_grader==Y_custom) * 10\n",
    "\n",
    "if accuracy >= 80:\n",
    "  print(\"******** Success ********\",\"Accuracy Achieved = \", accuracy,'%')\n",
    "else:\n",
    "  print(\"####### Failed #######\",\"Accuracy Achieved = \", accuracy,'%')\n",
    "  print(\"\\nY_grader = \\n\\n\", Y_grader)\n",
    "  print(\"\\n\",\"*\"*50)\n",
    "  print(\"\\nY_custom = \\n\\n\", Y_custom)\n"
   ]
  }
 ],
 "metadata": {
  "colab": {
   "collapsed_sections": [],
   "name": "LSH from Scratch Assignment.ipynb",
   "provenance": []
  },
  "kernelspec": {
   "display_name": "Python 3",
   "language": "python",
   "name": "python3"
  },
  "language_info": {
   "codemirror_mode": {
    "name": "ipython",
    "version": 3
   },
   "file_extension": ".py",
   "mimetype": "text/x-python",
   "name": "python",
   "nbconvert_exporter": "python",
   "pygments_lexer": "ipython3",
   "version": "3.6.9"
  }
 },
 "nbformat": 4,
 "nbformat_minor": 1
}
