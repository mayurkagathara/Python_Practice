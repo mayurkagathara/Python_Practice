{
  "nbformat": 4,
  "nbformat_minor": 0,
  "metadata": {
    "colab": {
      "name": "LSH from Scratch Assignment.ipynb",
      "provenance": [],
      "collapsed_sections": []
    },
    "kernelspec": {
      "display_name": "Python 3",
      "language": "python",
      "name": "python3"
    },
    "language_info": {
      "codemirror_mode": {
        "name": "ipython",
        "version": 3
      },
      "file_extension": ".py",
      "mimetype": "text/x-python",
      "name": "python",
      "nbconvert_exporter": "python",
      "pygments_lexer": "ipython3",
      "version": "3.6.9"
    }
  },
  "cells": [
    {
      "cell_type": "markdown",
      "metadata": {
        "id": "CID_27ISaRpJ"
      },
      "source": [
        "# Implement LSH from scratch\n",
        "\n",
        "In this assignment, you will implement LSH from scratch and predict the labels of the test data. You will then verify the correctness of the your implementation using a \"grader\" function/cell (provided by us) which will match your implmentation.\n",
        "\n",
        "The grader fucntion would help you validate the correctness of your code. \n",
        "\n",
        "Please submit the final Colab notebook in the classroom ONLY after you have verified your code using the grader function/cell.\n",
        "\n",
        "\n",
        "**NOTE: DO NOT change the \"grader\" functions or code snippets written by us.Please add your code in the suggested locations.**\n",
        "\n",
        "Ethics Code:\n",
        "1. You are welcome to read up online resources to implement the code. \n",
        "2. You can also discuss with your classmates on the implmentation over Slack.\n",
        "3. But, the code you wirte and submit should be yours ONLY. Your code will be compared against other stduents' code and online code snippets to check for plagiarism. If your code is found to be plagiarised, you will be awarded zero-marks for all assignments, which have a 10% wieghtage in the final marks for this course."
      ]
    },
    {
      "cell_type": "markdown",
      "metadata": {
        "id": "mR49rnr6ibOX"
      },
      "source": [
        "## Reading the data from csv file"
      ]
    },
    {
      "cell_type": "code",
      "metadata": {
        "id": "gXNLRg93cPJN"
      },
      "source": [
        "# Code to mount google drive in case you are loading the data from your google drive\n",
        "from google.colab import drive\n",
        "drive.mount('/gdrive')\n",
        "%cd /gdrive"
      ],
      "execution_count": null,
      "outputs": []
    },
    {
      "cell_type": "code",
      "metadata": {
        "colab": {
          "base_uri": "https://localhost:8080/",
          "height": 419
        },
        "id": "oA1hSk2odHUy",
        "outputId": "67a200d6-1192-4674-efc3-2e14e4f2c005"
      },
      "source": [
        "# Loading data from csv file\n",
        "import pandas as pd\n",
        "data_path = '/content/sample_data/lsh_assignment_data.csv'\n",
        "\n",
        "df = pd.read_csv(data_path)\n",
        "df"
      ],
      "execution_count": 1,
      "outputs": [
        {
          "output_type": "execute_result",
          "data": {
            "text/html": [
              "<div>\n",
              "<style scoped>\n",
              "    .dataframe tbody tr th:only-of-type {\n",
              "        vertical-align: middle;\n",
              "    }\n",
              "\n",
              "    .dataframe tbody tr th {\n",
              "        vertical-align: top;\n",
              "    }\n",
              "\n",
              "    .dataframe thead th {\n",
              "        text-align: right;\n",
              "    }\n",
              "</style>\n",
              "<table border=\"1\" class=\"dataframe\">\n",
              "  <thead>\n",
              "    <tr style=\"text-align: right;\">\n",
              "      <th></th>\n",
              "      <th>category</th>\n",
              "      <th>text</th>\n",
              "    </tr>\n",
              "  </thead>\n",
              "  <tbody>\n",
              "    <tr>\n",
              "      <th>0</th>\n",
              "      <td>tech</td>\n",
              "      <td>tv future in the hands of viewers with home th...</td>\n",
              "    </tr>\n",
              "    <tr>\n",
              "      <th>1</th>\n",
              "      <td>business</td>\n",
              "      <td>worldcom boss  left books alone  former worldc...</td>\n",
              "    </tr>\n",
              "    <tr>\n",
              "      <th>2</th>\n",
              "      <td>sport</td>\n",
              "      <td>tigers wary of farrell  gamble  leicester say ...</td>\n",
              "    </tr>\n",
              "    <tr>\n",
              "      <th>3</th>\n",
              "      <td>sport</td>\n",
              "      <td>yeading face newcastle in fa cup premiership s...</td>\n",
              "    </tr>\n",
              "    <tr>\n",
              "      <th>4</th>\n",
              "      <td>entertainment</td>\n",
              "      <td>ocean s twelve raids box office ocean s twelve...</td>\n",
              "    </tr>\n",
              "    <tr>\n",
              "      <th>...</th>\n",
              "      <td>...</td>\n",
              "      <td>...</td>\n",
              "    </tr>\n",
              "    <tr>\n",
              "      <th>2220</th>\n",
              "      <td>NaN</td>\n",
              "      <td>cars pull down us retail figures us retail sal...</td>\n",
              "    </tr>\n",
              "    <tr>\n",
              "      <th>2221</th>\n",
              "      <td>NaN</td>\n",
              "      <td>kilroy unveils immigration policy ex-chatshow ...</td>\n",
              "    </tr>\n",
              "    <tr>\n",
              "      <th>2222</th>\n",
              "      <td>NaN</td>\n",
              "      <td>rem announce new glasgow concert us band rem h...</td>\n",
              "    </tr>\n",
              "    <tr>\n",
              "      <th>2223</th>\n",
              "      <td>NaN</td>\n",
              "      <td>how political squabbles snowball it s become c...</td>\n",
              "    </tr>\n",
              "    <tr>\n",
              "      <th>2224</th>\n",
              "      <td>NaN</td>\n",
              "      <td>souness delight at euro progress boss graeme s...</td>\n",
              "    </tr>\n",
              "  </tbody>\n",
              "</table>\n",
              "<p>2225 rows × 2 columns</p>\n",
              "</div>"
            ],
            "text/plain": [
              "           category                                               text\n",
              "0              tech  tv future in the hands of viewers with home th...\n",
              "1          business  worldcom boss  left books alone  former worldc...\n",
              "2             sport  tigers wary of farrell  gamble  leicester say ...\n",
              "3             sport  yeading face newcastle in fa cup premiership s...\n",
              "4     entertainment  ocean s twelve raids box office ocean s twelve...\n",
              "...             ...                                                ...\n",
              "2220            NaN  cars pull down us retail figures us retail sal...\n",
              "2221            NaN  kilroy unveils immigration policy ex-chatshow ...\n",
              "2222            NaN  rem announce new glasgow concert us band rem h...\n",
              "2223            NaN  how political squabbles snowball it s become c...\n",
              "2224            NaN  souness delight at euro progress boss graeme s...\n",
              "\n",
              "[2225 rows x 2 columns]"
            ]
          },
          "metadata": {
            "tags": []
          },
          "execution_count": 1
        }
      ]
    },
    {
      "cell_type": "code",
      "metadata": {
        "colab": {
          "base_uri": "https://localhost:8080/"
        },
        "id": "cKHb7v5edUiU",
        "outputId": "8143a53f-d589-4409-aba0-11f6f94b0028"
      },
      "source": [
        "# Data Overiview\n",
        "df['category'].value_counts()"
      ],
      "execution_count": 2,
      "outputs": [
        {
          "output_type": "execute_result",
          "data": {
            "text/plain": [
              "sport            509\n",
              "business         508\n",
              "politics         415\n",
              "tech             399\n",
              "entertainment    384\n",
              "Name: category, dtype: int64"
            ]
          },
          "metadata": {
            "tags": []
          },
          "execution_count": 2
        }
      ]
    },
    {
      "cell_type": "markdown",
      "metadata": {
        "id": "Mcpy_Nrnig9V"
      },
      "source": [
        "### Creating Train and Test Datasets\n",
        "\n",
        "Note that the labels for test data will not be present in the dataset and hence they are mentioned as NaN."
      ]
    },
    {
      "cell_type": "code",
      "metadata": {
        "id": "ncAK-oHFeKbS"
      },
      "source": [
        "# The last 10 rows in the csv file are query points, so loading them into test data.\n",
        "# And loading the reamining points to train_data for which labels are given.\n",
        "\n",
        "train_data = df.iloc[:-10,:]\n",
        "test_data = df.iloc[-10:,:]"
      ],
      "execution_count": 3,
      "outputs": []
    },
    {
      "cell_type": "code",
      "metadata": {
        "colab": {
          "base_uri": "https://localhost:8080/",
          "height": 419
        },
        "id": "bs7uYx-1fh66",
        "outputId": "0c8eee5c-777a-45c2-f558-b57ef184a1ca"
      },
      "source": [
        "# For train_data here the labels are in the column named \"category\".\n",
        "train_data"
      ],
      "execution_count": 4,
      "outputs": [
        {
          "output_type": "execute_result",
          "data": {
            "text/html": [
              "<div>\n",
              "<style scoped>\n",
              "    .dataframe tbody tr th:only-of-type {\n",
              "        vertical-align: middle;\n",
              "    }\n",
              "\n",
              "    .dataframe tbody tr th {\n",
              "        vertical-align: top;\n",
              "    }\n",
              "\n",
              "    .dataframe thead th {\n",
              "        text-align: right;\n",
              "    }\n",
              "</style>\n",
              "<table border=\"1\" class=\"dataframe\">\n",
              "  <thead>\n",
              "    <tr style=\"text-align: right;\">\n",
              "      <th></th>\n",
              "      <th>category</th>\n",
              "      <th>text</th>\n",
              "    </tr>\n",
              "  </thead>\n",
              "  <tbody>\n",
              "    <tr>\n",
              "      <th>0</th>\n",
              "      <td>tech</td>\n",
              "      <td>tv future in the hands of viewers with home th...</td>\n",
              "    </tr>\n",
              "    <tr>\n",
              "      <th>1</th>\n",
              "      <td>business</td>\n",
              "      <td>worldcom boss  left books alone  former worldc...</td>\n",
              "    </tr>\n",
              "    <tr>\n",
              "      <th>2</th>\n",
              "      <td>sport</td>\n",
              "      <td>tigers wary of farrell  gamble  leicester say ...</td>\n",
              "    </tr>\n",
              "    <tr>\n",
              "      <th>3</th>\n",
              "      <td>sport</td>\n",
              "      <td>yeading face newcastle in fa cup premiership s...</td>\n",
              "    </tr>\n",
              "    <tr>\n",
              "      <th>4</th>\n",
              "      <td>entertainment</td>\n",
              "      <td>ocean s twelve raids box office ocean s twelve...</td>\n",
              "    </tr>\n",
              "    <tr>\n",
              "      <th>...</th>\n",
              "      <td>...</td>\n",
              "      <td>...</td>\n",
              "    </tr>\n",
              "    <tr>\n",
              "      <th>2210</th>\n",
              "      <td>politics</td>\n",
              "      <td>teens  know little  of politics teenagers ques...</td>\n",
              "    </tr>\n",
              "    <tr>\n",
              "      <th>2211</th>\n",
              "      <td>entertainment</td>\n",
              "      <td>lopez misses uk charity premiere jennifer lope...</td>\n",
              "    </tr>\n",
              "    <tr>\n",
              "      <th>2212</th>\n",
              "      <td>business</td>\n",
              "      <td>christmas shoppers flock to tills shops all ov...</td>\n",
              "    </tr>\n",
              "    <tr>\n",
              "      <th>2213</th>\n",
              "      <td>tech</td>\n",
              "      <td>progress on new internet domains by early 2005...</td>\n",
              "    </tr>\n",
              "    <tr>\n",
              "      <th>2214</th>\n",
              "      <td>business</td>\n",
              "      <td>bush budget seeks deep cutbacks president bush...</td>\n",
              "    </tr>\n",
              "  </tbody>\n",
              "</table>\n",
              "<p>2215 rows × 2 columns</p>\n",
              "</div>"
            ],
            "text/plain": [
              "           category                                               text\n",
              "0              tech  tv future in the hands of viewers with home th...\n",
              "1          business  worldcom boss  left books alone  former worldc...\n",
              "2             sport  tigers wary of farrell  gamble  leicester say ...\n",
              "3             sport  yeading face newcastle in fa cup premiership s...\n",
              "4     entertainment  ocean s twelve raids box office ocean s twelve...\n",
              "...             ...                                                ...\n",
              "2210       politics  teens  know little  of politics teenagers ques...\n",
              "2211  entertainment  lopez misses uk charity premiere jennifer lope...\n",
              "2212       business  christmas shoppers flock to tills shops all ov...\n",
              "2213           tech  progress on new internet domains by early 2005...\n",
              "2214       business  bush budget seeks deep cutbacks president bush...\n",
              "\n",
              "[2215 rows x 2 columns]"
            ]
          },
          "metadata": {
            "tags": []
          },
          "execution_count": 4
        }
      ]
    },
    {
      "cell_type": "code",
      "metadata": {
        "colab": {
          "base_uri": "https://localhost:8080/",
          "height": 359
        },
        "id": "fc-SORtAfgqI",
        "outputId": "26c8eb26-8e14-4e33-922a-1561e293cf0f"
      },
      "source": [
        "test_data"
      ],
      "execution_count": 5,
      "outputs": [
        {
          "output_type": "execute_result",
          "data": {
            "text/html": [
              "<div>\n",
              "<style scoped>\n",
              "    .dataframe tbody tr th:only-of-type {\n",
              "        vertical-align: middle;\n",
              "    }\n",
              "\n",
              "    .dataframe tbody tr th {\n",
              "        vertical-align: top;\n",
              "    }\n",
              "\n",
              "    .dataframe thead th {\n",
              "        text-align: right;\n",
              "    }\n",
              "</style>\n",
              "<table border=\"1\" class=\"dataframe\">\n",
              "  <thead>\n",
              "    <tr style=\"text-align: right;\">\n",
              "      <th></th>\n",
              "      <th>category</th>\n",
              "      <th>text</th>\n",
              "    </tr>\n",
              "  </thead>\n",
              "  <tbody>\n",
              "    <tr>\n",
              "      <th>2215</th>\n",
              "      <td>NaN</td>\n",
              "      <td>junk e-mails on relentless rise spam traffic i...</td>\n",
              "    </tr>\n",
              "    <tr>\n",
              "      <th>2216</th>\n",
              "      <td>NaN</td>\n",
              "      <td>top stars join us tsunami tv show brad pitt  r...</td>\n",
              "    </tr>\n",
              "    <tr>\n",
              "      <th>2217</th>\n",
              "      <td>NaN</td>\n",
              "      <td>rings of steel combat net attacks gambling is ...</td>\n",
              "    </tr>\n",
              "    <tr>\n",
              "      <th>2218</th>\n",
              "      <td>NaN</td>\n",
              "      <td>davies favours gloucester future wales hooker ...</td>\n",
              "    </tr>\n",
              "    <tr>\n",
              "      <th>2219</th>\n",
              "      <td>NaN</td>\n",
              "      <td>beijingers fume over parking fees choking traf...</td>\n",
              "    </tr>\n",
              "    <tr>\n",
              "      <th>2220</th>\n",
              "      <td>NaN</td>\n",
              "      <td>cars pull down us retail figures us retail sal...</td>\n",
              "    </tr>\n",
              "    <tr>\n",
              "      <th>2221</th>\n",
              "      <td>NaN</td>\n",
              "      <td>kilroy unveils immigration policy ex-chatshow ...</td>\n",
              "    </tr>\n",
              "    <tr>\n",
              "      <th>2222</th>\n",
              "      <td>NaN</td>\n",
              "      <td>rem announce new glasgow concert us band rem h...</td>\n",
              "    </tr>\n",
              "    <tr>\n",
              "      <th>2223</th>\n",
              "      <td>NaN</td>\n",
              "      <td>how political squabbles snowball it s become c...</td>\n",
              "    </tr>\n",
              "    <tr>\n",
              "      <th>2224</th>\n",
              "      <td>NaN</td>\n",
              "      <td>souness delight at euro progress boss graeme s...</td>\n",
              "    </tr>\n",
              "  </tbody>\n",
              "</table>\n",
              "</div>"
            ],
            "text/plain": [
              "     category                                               text\n",
              "2215      NaN  junk e-mails on relentless rise spam traffic i...\n",
              "2216      NaN  top stars join us tsunami tv show brad pitt  r...\n",
              "2217      NaN  rings of steel combat net attacks gambling is ...\n",
              "2218      NaN  davies favours gloucester future wales hooker ...\n",
              "2219      NaN  beijingers fume over parking fees choking traf...\n",
              "2220      NaN  cars pull down us retail figures us retail sal...\n",
              "2221      NaN  kilroy unveils immigration policy ex-chatshow ...\n",
              "2222      NaN  rem announce new glasgow concert us band rem h...\n",
              "2223      NaN  how political squabbles snowball it s become c...\n",
              "2224      NaN  souness delight at euro progress boss graeme s..."
            ]
          },
          "metadata": {
            "tags": []
          },
          "execution_count": 5
        }
      ]
    },
    {
      "cell_type": "markdown",
      "metadata": {
        "id": "U1jeyM0emKOw"
      },
      "source": [
        "## Custom Implementation"
      ]
    },
    {
      "cell_type": "markdown",
      "metadata": {
        "id": "AU6mt5wq3Oyg"
      },
      "source": [
        "### Instructions:\n",
        "\n",
        "  1. Read in the train_data.\n",
        "  2. Vectorize train_data using sklearns built in tfidf vectorizer.\n",
        "  3. Ignore unigrams and make use of both **bigrams & trigrams** and also limit the **max features** to **4000** and **minimum document frequency** to **10**.\n",
        "  4. After the tfidf vectors are generated as mentioned above, next task is to generate random hyperplanes.\n",
        "  5. Generate **5 random hyperplanes**. And generate the hyperplanes using a random normal distribution with **mean zero and variance 1**. \n",
        "  6. We have set the **numpy random seed to zero**, please do not change it. And then you can make use of **np.random.normal** to generate the vectors for hyperplanes.\n",
        "  7. As mentioned in the course videos, compute the hash function and also the corresponding hash table for it.\n",
        "  8. Once the hash table is generated now take in each of the query points from the test data.\n",
        "  9. Vectorize those query points using the same tfidf vectorizer as mentioned above.\n",
        "  10. Now use the hash function on this query point and fetch all the similar data points from the hashtable.\n",
        "  11. Use cosine similarity to compute **11-Nearest Neighbours** from the list of data points obtained in the above step.\n",
        "  12. Take a majority vote among the 11-Nearest Neighbours and predict the class label for the query point in the test data.\n",
        "  13. **In case of a tie** in the obtained labels from nearest neighbours, you can pick a label after sorting all the labels **alphabetically**(A-Z), i.e. for example labels starting with A would get more preference than labels starting with Z.\n",
        "  14. Repeat steps 9 to 13 for all the points in the test data and then finally return a list with all the predicted labels.\n",
        "  15. Note that there are a total of 10 data points in the test data so the final list you return should be of length 10.\n",
        "  16. Also note that the cosine similarity function should be written from scratch, you should not directly make use of existing libraries.\n",
        "  17. Please use the formula of cosine similarity as explained in the course videos, you can make use of numpy or scipy to calculate dot or norm or transpose."
      ]
    },
    {
      "cell_type": "code",
      "metadata": {
        "id": "YECivOCWfvGn"
      },
      "source": [
        "# Please implement this fucntion and write your code wherever asked. Do NOT change the code snippets provided by us.\n",
        "from sklearn.feature_extraction.text import TfidfVectorizer\n",
        "import numpy as np\n",
        "from numpy.linalg import norm\n",
        "\n",
        "def predictLabels (test_data):\n",
        "  \"\"\"\n",
        "  Given the test_data, return the labels for all the rows in the test data.\n",
        "  Follow the step by step instructions mentioned above.\n",
        "  \"\"\"\n",
        "\n",
        "  np.random.seed(0)\n",
        "\n",
        "  ##############################################################\n",
        "  ####  Write YOUR CODE BELOW  as per the above instructions ###\n",
        "  ##############################################################\n",
        "  \n",
        "#   1. Read in the train_data.\n",
        "  Xtrain, Ytrain = train_data['text'].copy(), train_data['category'].copy()\n",
        "  #   print(Xtrain)\n",
        "  \n",
        "#   2. Vectorize train_data using sklearns built in tfidf vectorizer.\n",
        "#   3. Ignore unigrams and make use of both **bigrams & trigrams** and \n",
        "# also limit the **max features** to **4000** and **minimum document frequency** to **10**.\n",
        "  tfidf_vectorizer = TfidfVectorizer(ngram_range=(2,3),max_features=4000, min_df=10)\n",
        "  tfidf_vectorizer_fitted_model = tfidf_vectorizer.fit(Xtrain)\n",
        "  X = tfidf_vectorizer_fitted_model.transform(Xtrain)\n",
        "  # print(X[:10])\n",
        "  # print('X.shape:  ',X.shape)  \n",
        "  \n",
        "#   After the tfidf vectors are generated as mentioned above, next task is to generate random hyperplanes.\n",
        "#   5. Generate **5 random hyperplanes**. And generate the hyperplanes using a random normal distribution \n",
        "#      with **mean zero and variance 1**. \n",
        "#   6. We have set the **numpy random seed to zero**, please do not change it. \n",
        "#     And then you can make use of **np.random.normal** to generate the vectors for hyperplanes.\n",
        "  np.random.seed(0)\n",
        "  hyperplanes = np.random.normal(0,1,(5, X.shape[1]))\n",
        "  # print('hyperplanes:  ',hyperplanes)\n",
        "  \n",
        "#   7. As mentioned in the course videos, compute the hash function and also the corresponding hash table for it.\n",
        "  def hash_key(x_vector):\n",
        "    \"\"\"\n",
        "    takes x_vector and return hash_key\n",
        "    hash_key is of dimension (1, number of hyperplanes)\n",
        "    \"\"\"\n",
        "  #   print(x_vector.shape)\n",
        "    key = tuple()\n",
        "#     By doing dot product we get array of key.\n",
        "#     If point is on positive half it key value is positive\n",
        "#     If point is on negative half it key value is negative\n",
        "    key_array = x_vector.dot(hyperplanes.T)\n",
        "  #   print(key_array.shape)\n",
        "    key_array = key_array.tolist()\n",
        "    \n",
        "#     print(type(key_array),len(key_array))\n",
        "#     if value in key_array is positive add 1, if negative then 0 in key\n",
        "    key = tuple(map(lambda x: (0,1)[x>0], key_array[0]))\n",
        "    return key\n",
        "  \n",
        "  hash_table = dict()\n",
        "\n",
        "  idx = 0\n",
        "#   Let's generate hash_table usinng hash_key function\n",
        "  for point in X:\n",
        "    key = hash_key(point)\n",
        "    if key not in hash_table:\n",
        "      hash_table[key] = list()\n",
        "    hash_table[key].append(idx)\n",
        "    idx += 1  \n",
        "    \n",
        "#   Quick check for count of X texts\n",
        "# b = hash_table.values()\n",
        "# print(sum([len(x) for x in list(b)]))   #this must be 2215 X.shape[0]\n",
        "  \n",
        "#   8. Once the hash table is generated now take in each of the query points from the test data.\n",
        "#   9. Vectorize those query points using the same tfidf vectorizer as mentioned above.\n",
        "  Xtest, Ytest = test_data['text'].copy(), test_data['category'].copy()\n",
        "  #we can't use min_df=10, it will prune whole data\n",
        "\n",
        "  # tfidf_vectorizer_test = TfidfVectorizer(ngram_range=(2,3),max_features=4000)  \n",
        "  # Xq = tfidf_vectorizer_test.fit_transform(Xtest)\n",
        "\n",
        "  Xq = tfidf_vectorizer_fitted_model.transform(Xtest)\n",
        "  \n",
        "  # print('Xq.shape:  ',Xq.shape)\n",
        "\n",
        "  Xq_neighbors = dict()\n",
        "  \n",
        "  def cosine_similar(Qp,neighbors,k=11):\n",
        "  #   print(Qp, Qp.shape, type(Qp))\n",
        "    cos_sim = []\n",
        "    Qp_L2_norm = np.linalg.norm(Qp.toarray(),2)\n",
        "    for neighbor_idx in neighbors:\n",
        "      neighbor = X[neighbor_idx]\n",
        "      cosine = Qp.dot(neighbor.T)/(Qp_L2_norm * np.linalg.norm(neighbor.toarray(),2))\n",
        "#     OR we can use below formula because tfidf vectors are unit vectors\n",
        "#     cosine = Qp.dot(neighbor.T)\n",
        "      cos_sim.append(cosine.toarray().item())\n",
        "    neighbors = np.array(neighbors)\n",
        "    return neighbors[np.argsort(cos_sim)[:-(k+1):-1]]\n",
        "\n",
        "#   10. Now use the hash function on this query point and fetch all the similar data points from the hashtable.\n",
        "#   11. Use cosine similarity to compute **11-Nearest Neighbours** from the list of data points obtained in the above step.\n",
        "  idx = 0\n",
        "  for query_point in Xq:\n",
        "    key = hash_key(query_point)\n",
        "#   For every query points let's take all the neighbors from hash_table\n",
        "    neighbors = hash_table[key]\n",
        "#   get 11 nearest neighbors based on cosine similarity\n",
        "    nearest_11_neighbors = cosine_similar(query_point,neighbors,k=11)\n",
        "    Xq_neighbors[idx] = nearest_11_neighbors\n",
        "    idx += 1\n",
        "    \n",
        "#   print neigbours indexs\n",
        "  # print('Xq_neighbors: ',Xq_neighbors)\n",
        "#   print neighbors labels\n",
        "  # print('Xq_neighbors_cat: ',{key:list(Ytrain[Xq_neighbors[key]]) for key in Xq_neighbors})\n",
        "\n",
        "#   12. Take a majority vote among the 11-Nearest Neighbours and \n",
        "#       predict the class label for the query point in the test data.\n",
        "#   13. **In case of a tie** in the obtained labels from nearest neighbours, \n",
        "#       you can pick a label after sorting all the labels **alphabetically**(A-Z), \n",
        "#       i.e. for example labels starting with A would get more preference than labels starting with Z.\n",
        "  Xq_labels = []\n",
        "  for idx, neighbors in Xq_neighbors.items():\n",
        "    label_count = dict()\n",
        "    max_count = 0 \n",
        "    label_majority = ''\n",
        "    for neighbor in neighbors:\n",
        "      label = Ytrain[neighbor]\n",
        "      label_count[label] = label_count.get(label,0)+1\n",
        "      if label_count[label]>max_count:      #if label count is greater than max_count\n",
        "        max_count = label_count[label]\n",
        "        label_majority = label\n",
        "      if label_count[label]==max_count:\n",
        "        if label[0]<label_majority[0]:      #in case of tie take the first letter 'a'<'b'<'c'...\n",
        "          max_count = label_count[label]\n",
        "          label_majority = label\n",
        "    Xq_labels.append(label_majority)\n",
        "#     print(Xq_labels)\n",
        "    \n",
        "  return np.array(Xq_labels)"
      ],
      "execution_count": 19,
      "outputs": []
    },
    {
      "cell_type": "markdown",
      "metadata": {
        "id": "rhnngvQkrnBB"
      },
      "source": [
        "## Grader Cell\n",
        "\n",
        "Please execute the following Grader cell to verify the correctness of your above implementation. This cell will print \"Success\" if your implmentation of the predictLabels() is correct, else, it will print \"Failed\". Make sure you get a \"Success\" before you submit the code in the classroom."
      ]
    },
    {
      "cell_type": "code",
      "metadata": {
        "id": "GX1sji2XrtmX",
        "colab": {
          "base_uri": "https://localhost:8080/"
        },
        "outputId": "b946e98a-748c-4911-b5e6-b5614bab1cc6"
      },
      "source": [
        "###########################################\n",
        "## GRADER CELL: Do NOT Change this.\n",
        "# This cell will print \"Success\" if your implmentation of the predictLabels() is correct and the accuracy obtained is above 80%.\n",
        "# Else, it will print \"Failed\"\n",
        "###########################################\n",
        "import numpy as np\n",
        "\n",
        "# Predict the labels using the predictLabels() function\n",
        "Y_custom = np.array(predictLabels(test_data))\n",
        "\n",
        "# Reference grader array - DO NOT MODIFY IT\n",
        "Y_grader = np.array(['tech', 'entertainment', 'tech', 'sport', 'business', 'business', 'politics', 'entertainment', 'politics', 'sport'])\n",
        "\n",
        "# Calculating accuracy by comparing Y_grader and Y_custom\n",
        "accuracy = np.sum(Y_grader==Y_custom) * 10\n",
        "\n",
        "if accuracy >= 80:\n",
        "  print(\"******** Success ********\",\"Accuracy Achieved = \", accuracy,'%')\n",
        "else:\n",
        "  print(\"####### Failed #######\",\"Accuracy Achieved = \", accuracy,'%')\n",
        "  print(\"\\nY_grader = \\n\\n\", Y_grader)\n",
        "  print(\"\\n\",\"*\"*50)\n",
        "  print(\"\\nY_custom = \\n\\n\", Y_custom)\n"
      ],
      "execution_count": 20,
      "outputs": [
        {
          "output_type": "stream",
          "text": [
            "******** Success ******** Accuracy Achieved =  90 %\n"
          ],
          "name": "stdout"
        }
      ]
    },
    {
      "cell_type": "code",
      "metadata": {
        "id": "rGvdBm_WL7TP"
      },
      "source": [
        ""
      ],
      "execution_count": 14,
      "outputs": []
    }
  ]
}