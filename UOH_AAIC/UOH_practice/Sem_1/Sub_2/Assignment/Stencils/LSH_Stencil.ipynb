{
  "nbformat": 4,
  "nbformat_minor": 0,
  "metadata": {
    "colab": {
      "name": "LSH from Scratch Assignment.ipynb",
      "provenance": [],
      "collapsed_sections": []
    },
    "kernelspec": {
      "name": "python3",
      "display_name": "Python 3.6.9 64-bit"
    },
    "language_info": {
      "codemirror_mode": {
        "name": "ipython",
        "version": 3
      },
      "file_extension": ".py",
      "mimetype": "text/x-python",
      "name": "python",
      "nbconvert_exporter": "python",
      "pygments_lexer": "ipython3",
      "version": "3.6.9"
    },
    "interpreter": {
      "hash": "31f2aee4e71d21fbe5cf8b01ff0e069b9275f58929596ceb00d14d90e3e16cd6"
    }
  },
  "cells": [
    {
      "cell_type": "markdown",
      "metadata": {
        "id": "CID_27ISaRpJ"
      },
      "source": [
        "# Stencil for LSH assignment\n",
        "\n",
        "This is a stencil for LSH assignment to help you understand the flow and code along.\n",
        "\n",
        "If you like my work show some love by endorsing/reccomending me on Linkedin in python/datascience/management. [mayur-kagathara](https://www.linkedin.com/in/mayur-kagathara/)\n"
      ]
    },
    {
      "cell_type": "markdown",
      "metadata": {
        "id": "mR49rnr6ibOX"
      },
      "source": [
        "## Reading the data from csv file"
      ]
    },
    {
      "cell_type": "code",
      "metadata": {
        "colab": {
          "base_uri": "https://localhost:8080/",
          "height": 419
        },
        "id": "oA1hSk2odHUy",
        "outputId": "67a200d6-1192-4674-efc3-2e14e4f2c005"
      },
      "source": [
        "# Loading data from csv file\n",
        "import pandas as pd\n",
        "data_path = '/home/mayur/git/Pythonpractice/Python_Practice/UOH_AAIC/UOH_practice/Sem_1/Sub_2/Assignment/lsh_assignment_data.csv'\n",
        "\n",
        "df = pd.read_csv(data_path)\n",
        "df"
      ],
      "execution_count": 1,
      "outputs": [
        {
          "output_type": "execute_result",
          "data": {
            "text/plain": [
              "           category                                               text\n",
              "0              tech  tv future in the hands of viewers with home th...\n",
              "1          business  worldcom boss  left books alone  former worldc...\n",
              "2             sport  tigers wary of farrell  gamble  leicester say ...\n",
              "3             sport  yeading face newcastle in fa cup premiership s...\n",
              "4     entertainment  ocean s twelve raids box office ocean s twelve...\n",
              "...             ...                                                ...\n",
              "2220            NaN  cars pull down us retail figures us retail sal...\n",
              "2221            NaN  kilroy unveils immigration policy ex-chatshow ...\n",
              "2222            NaN  rem announce new glasgow concert us band rem h...\n",
              "2223            NaN  how political squabbles snowball it s become c...\n",
              "2224            NaN  souness delight at euro progress boss graeme s...\n",
              "\n",
              "[2225 rows x 2 columns]"
            ],
            "text/html": "<div>\n<style scoped>\n    .dataframe tbody tr th:only-of-type {\n        vertical-align: middle;\n    }\n\n    .dataframe tbody tr th {\n        vertical-align: top;\n    }\n\n    .dataframe thead th {\n        text-align: right;\n    }\n</style>\n<table border=\"1\" class=\"dataframe\">\n  <thead>\n    <tr style=\"text-align: right;\">\n      <th></th>\n      <th>category</th>\n      <th>text</th>\n    </tr>\n  </thead>\n  <tbody>\n    <tr>\n      <th>0</th>\n      <td>tech</td>\n      <td>tv future in the hands of viewers with home th...</td>\n    </tr>\n    <tr>\n      <th>1</th>\n      <td>business</td>\n      <td>worldcom boss  left books alone  former worldc...</td>\n    </tr>\n    <tr>\n      <th>2</th>\n      <td>sport</td>\n      <td>tigers wary of farrell  gamble  leicester say ...</td>\n    </tr>\n    <tr>\n      <th>3</th>\n      <td>sport</td>\n      <td>yeading face newcastle in fa cup premiership s...</td>\n    </tr>\n    <tr>\n      <th>4</th>\n      <td>entertainment</td>\n      <td>ocean s twelve raids box office ocean s twelve...</td>\n    </tr>\n    <tr>\n      <th>...</th>\n      <td>...</td>\n      <td>...</td>\n    </tr>\n    <tr>\n      <th>2220</th>\n      <td>NaN</td>\n      <td>cars pull down us retail figures us retail sal...</td>\n    </tr>\n    <tr>\n      <th>2221</th>\n      <td>NaN</td>\n      <td>kilroy unveils immigration policy ex-chatshow ...</td>\n    </tr>\n    <tr>\n      <th>2222</th>\n      <td>NaN</td>\n      <td>rem announce new glasgow concert us band rem h...</td>\n    </tr>\n    <tr>\n      <th>2223</th>\n      <td>NaN</td>\n      <td>how political squabbles snowball it s become c...</td>\n    </tr>\n    <tr>\n      <th>2224</th>\n      <td>NaN</td>\n      <td>souness delight at euro progress boss graeme s...</td>\n    </tr>\n  </tbody>\n</table>\n<p>2225 rows × 2 columns</p>\n</div>"
          },
          "metadata": {},
          "execution_count": 1
        }
      ]
    },
    {
      "cell_type": "code",
      "metadata": {
        "colab": {
          "base_uri": "https://localhost:8080/"
        },
        "id": "cKHb7v5edUiU",
        "outputId": "8143a53f-d589-4409-aba0-11f6f94b0028"
      },
      "source": [
        "# Data Overiview\n",
        "df['category'].value_counts()"
      ],
      "execution_count": 2,
      "outputs": [
        {
          "output_type": "execute_result",
          "data": {
            "text/plain": [
              "sport            509\n",
              "business         508\n",
              "politics         415\n",
              "tech             399\n",
              "entertainment    384\n",
              "Name: category, dtype: int64"
            ]
          },
          "metadata": {},
          "execution_count": 2
        }
      ]
    },
    {
      "cell_type": "markdown",
      "metadata": {
        "id": "Mcpy_Nrnig9V"
      },
      "source": [
        "### Creating Train and Test Datasets\n",
        "\n",
        "Note that the labels for test data will not be present in the dataset and hence they are mentioned as NaN."
      ]
    },
    {
      "cell_type": "code",
      "metadata": {
        "id": "ncAK-oHFeKbS"
      },
      "source": [
        "# The last 10 rows in the csv file are query points, so loading them into test data.\n",
        "# And loading the reamining points to train_data for which labels are given.\n",
        "\n",
        "train_data = df.iloc[:-10,:]\n",
        "test_data = df.iloc[-10:,:]"
      ],
      "execution_count": 3,
      "outputs": []
    },
    {
      "cell_type": "code",
      "metadata": {
        "colab": {
          "base_uri": "https://localhost:8080/",
          "height": 419
        },
        "id": "bs7uYx-1fh66",
        "outputId": "0c8eee5c-777a-45c2-f558-b57ef184a1ca"
      },
      "source": [
        "# For train_data here the labels are in the column named \"category\".\n",
        "train_data"
      ],
      "execution_count": 4,
      "outputs": [
        {
          "output_type": "execute_result",
          "data": {
            "text/plain": [
              "           category                                               text\n",
              "0              tech  tv future in the hands of viewers with home th...\n",
              "1          business  worldcom boss  left books alone  former worldc...\n",
              "2             sport  tigers wary of farrell  gamble  leicester say ...\n",
              "3             sport  yeading face newcastle in fa cup premiership s...\n",
              "4     entertainment  ocean s twelve raids box office ocean s twelve...\n",
              "...             ...                                                ...\n",
              "2210       politics  teens  know little  of politics teenagers ques...\n",
              "2211  entertainment  lopez misses uk charity premiere jennifer lope...\n",
              "2212       business  christmas shoppers flock to tills shops all ov...\n",
              "2213           tech  progress on new internet domains by early 2005...\n",
              "2214       business  bush budget seeks deep cutbacks president bush...\n",
              "\n",
              "[2215 rows x 2 columns]"
            ],
            "text/html": "<div>\n<style scoped>\n    .dataframe tbody tr th:only-of-type {\n        vertical-align: middle;\n    }\n\n    .dataframe tbody tr th {\n        vertical-align: top;\n    }\n\n    .dataframe thead th {\n        text-align: right;\n    }\n</style>\n<table border=\"1\" class=\"dataframe\">\n  <thead>\n    <tr style=\"text-align: right;\">\n      <th></th>\n      <th>category</th>\n      <th>text</th>\n    </tr>\n  </thead>\n  <tbody>\n    <tr>\n      <th>0</th>\n      <td>tech</td>\n      <td>tv future in the hands of viewers with home th...</td>\n    </tr>\n    <tr>\n      <th>1</th>\n      <td>business</td>\n      <td>worldcom boss  left books alone  former worldc...</td>\n    </tr>\n    <tr>\n      <th>2</th>\n      <td>sport</td>\n      <td>tigers wary of farrell  gamble  leicester say ...</td>\n    </tr>\n    <tr>\n      <th>3</th>\n      <td>sport</td>\n      <td>yeading face newcastle in fa cup premiership s...</td>\n    </tr>\n    <tr>\n      <th>4</th>\n      <td>entertainment</td>\n      <td>ocean s twelve raids box office ocean s twelve...</td>\n    </tr>\n    <tr>\n      <th>...</th>\n      <td>...</td>\n      <td>...</td>\n    </tr>\n    <tr>\n      <th>2210</th>\n      <td>politics</td>\n      <td>teens  know little  of politics teenagers ques...</td>\n    </tr>\n    <tr>\n      <th>2211</th>\n      <td>entertainment</td>\n      <td>lopez misses uk charity premiere jennifer lope...</td>\n    </tr>\n    <tr>\n      <th>2212</th>\n      <td>business</td>\n      <td>christmas shoppers flock to tills shops all ov...</td>\n    </tr>\n    <tr>\n      <th>2213</th>\n      <td>tech</td>\n      <td>progress on new internet domains by early 2005...</td>\n    </tr>\n    <tr>\n      <th>2214</th>\n      <td>business</td>\n      <td>bush budget seeks deep cutbacks president bush...</td>\n    </tr>\n  </tbody>\n</table>\n<p>2215 rows × 2 columns</p>\n</div>"
          },
          "metadata": {},
          "execution_count": 4
        }
      ]
    },
    {
      "cell_type": "code",
      "metadata": {
        "colab": {
          "base_uri": "https://localhost:8080/",
          "height": 359
        },
        "id": "fc-SORtAfgqI",
        "outputId": "26c8eb26-8e14-4e33-922a-1561e293cf0f"
      },
      "source": [
        "test_data"
      ],
      "execution_count": 5,
      "outputs": [
        {
          "output_type": "execute_result",
          "data": {
            "text/plain": [
              "     category                                               text\n",
              "2215      NaN  junk e-mails on relentless rise spam traffic i...\n",
              "2216      NaN  top stars join us tsunami tv show brad pitt  r...\n",
              "2217      NaN  rings of steel combat net attacks gambling is ...\n",
              "2218      NaN  davies favours gloucester future wales hooker ...\n",
              "2219      NaN  beijingers fume over parking fees choking traf...\n",
              "2220      NaN  cars pull down us retail figures us retail sal...\n",
              "2221      NaN  kilroy unveils immigration policy ex-chatshow ...\n",
              "2222      NaN  rem announce new glasgow concert us band rem h...\n",
              "2223      NaN  how political squabbles snowball it s become c...\n",
              "2224      NaN  souness delight at euro progress boss graeme s..."
            ],
            "text/html": "<div>\n<style scoped>\n    .dataframe tbody tr th:only-of-type {\n        vertical-align: middle;\n    }\n\n    .dataframe tbody tr th {\n        vertical-align: top;\n    }\n\n    .dataframe thead th {\n        text-align: right;\n    }\n</style>\n<table border=\"1\" class=\"dataframe\">\n  <thead>\n    <tr style=\"text-align: right;\">\n      <th></th>\n      <th>category</th>\n      <th>text</th>\n    </tr>\n  </thead>\n  <tbody>\n    <tr>\n      <th>2215</th>\n      <td>NaN</td>\n      <td>junk e-mails on relentless rise spam traffic i...</td>\n    </tr>\n    <tr>\n      <th>2216</th>\n      <td>NaN</td>\n      <td>top stars join us tsunami tv show brad pitt  r...</td>\n    </tr>\n    <tr>\n      <th>2217</th>\n      <td>NaN</td>\n      <td>rings of steel combat net attacks gambling is ...</td>\n    </tr>\n    <tr>\n      <th>2218</th>\n      <td>NaN</td>\n      <td>davies favours gloucester future wales hooker ...</td>\n    </tr>\n    <tr>\n      <th>2219</th>\n      <td>NaN</td>\n      <td>beijingers fume over parking fees choking traf...</td>\n    </tr>\n    <tr>\n      <th>2220</th>\n      <td>NaN</td>\n      <td>cars pull down us retail figures us retail sal...</td>\n    </tr>\n    <tr>\n      <th>2221</th>\n      <td>NaN</td>\n      <td>kilroy unveils immigration policy ex-chatshow ...</td>\n    </tr>\n    <tr>\n      <th>2222</th>\n      <td>NaN</td>\n      <td>rem announce new glasgow concert us band rem h...</td>\n    </tr>\n    <tr>\n      <th>2223</th>\n      <td>NaN</td>\n      <td>how political squabbles snowball it s become c...</td>\n    </tr>\n    <tr>\n      <th>2224</th>\n      <td>NaN</td>\n      <td>souness delight at euro progress boss graeme s...</td>\n    </tr>\n  </tbody>\n</table>\n</div>"
          },
          "metadata": {},
          "execution_count": 5
        }
      ]
    },
    {
      "cell_type": "markdown",
      "metadata": {
        "id": "U1jeyM0emKOw"
      },
      "source": [
        "## Custom Implementation"
      ]
    },
    {
      "cell_type": "code",
      "execution_count": 6,
      "metadata": {},
      "outputs": [
        {
          "output_type": "stream",
          "name": "stdout",
          "text": [
            "2215\n"
          ]
        }
      ],
      "source": [
        "#   1. Read in the train_data.\n",
        "Xtrain, Ytrain = train_data['text'].copy(), train_data['category'].copy()\n",
        "# print(Xtrain)\n",
        "print(len(Xtrain))"
      ]
    },
    {
      "cell_type": "code",
      "execution_count": 7,
      "metadata": {},
      "outputs": [
        {
          "output_type": "display_data",
          "data": {
            "text/plain": "<IPython.core.display.Javascript object>",
            "application/javascript": "\n        if (window._pyforest_update_imports_cell) { window._pyforest_update_imports_cell('from sklearn.feature_extraction.text import TfidfVectorizer'); }\n    "
          },
          "metadata": {}
        },
        {
          "output_type": "stream",
          "name": "stdout",
          "text": [
            "X.shape:   (2215, 4000)\n"
          ]
        }
      ],
      "source": [
        "#   2. Vectorize train_data using sklearns built in tfidf vectorizer.\n",
        "#   3. Ignore unigrams and make use of both **bigrams & trigrams** and \n",
        "# also limit the **max features** to **4000** and **minimum document frequency** to **10**.\n",
        "\n",
        "tfidf_vectorizer = # initialize vectorizer with ngram_range = (2,3) and max_features=4000 and min_df=10\n",
        "tfidf_vectorizer_fitted_model = # fit the vectorizer on Xtrain\n",
        "X =  #transform the Xtrain data using fitted model\n",
        "print('X.shape:  ',X.shape)\n",
        "\n",
        "# OUTPUT -  \n",
        "# X.shape:   (2215, 4000)"
      ]
    },
    {
      "cell_type": "code",
      "execution_count": 8,
      "metadata": {},
      "outputs": [
        {
          "output_type": "display_data",
          "data": {
            "text/plain": "<IPython.core.display.Javascript object>",
            "application/javascript": "\n        if (window._pyforest_update_imports_cell) { window._pyforest_update_imports_cell('from sklearn.feature_extraction.text import TfidfVectorizer\\nimport numpy as np'); }\n    "
          },
          "metadata": {}
        },
        {
          "output_type": "display_data",
          "data": {
            "text/plain": "<IPython.core.display.Javascript object>",
            "application/javascript": "\n        if (window._pyforest_update_imports_cell) { window._pyforest_update_imports_cell('from sklearn.feature_extraction.text import TfidfVectorizer\\nimport numpy as np'); }\n    "
          },
          "metadata": {}
        },
        {
          "output_type": "display_data",
          "data": {
            "text/plain": "<IPython.core.display.Javascript object>",
            "application/javascript": "\n        if (window._pyforest_update_imports_cell) { window._pyforest_update_imports_cell('from sklearn.feature_extraction.text import TfidfVectorizer\\nimport numpy as np'); }\n    "
          },
          "metadata": {}
        },
        {
          "output_type": "display_data",
          "data": {
            "text/plain": "<IPython.core.display.Javascript object>",
            "application/javascript": "\n        if (window._pyforest_update_imports_cell) { window._pyforest_update_imports_cell('from sklearn.feature_extraction.text import TfidfVectorizer\\nimport numpy as np'); }\n    "
          },
          "metadata": {}
        },
        {
          "output_type": "display_data",
          "data": {
            "text/plain": "<IPython.core.display.Javascript object>",
            "application/javascript": "\n        if (window._pyforest_update_imports_cell) { window._pyforest_update_imports_cell('from sklearn.feature_extraction.text import TfidfVectorizer\\nimport numpy as np'); }\n    "
          },
          "metadata": {}
        },
        {
          "output_type": "display_data",
          "data": {
            "text/plain": "<IPython.core.display.Javascript object>",
            "application/javascript": "\n        if (window._pyforest_update_imports_cell) { window._pyforest_update_imports_cell('from sklearn.feature_extraction.text import TfidfVectorizer\\nimport numpy as np'); }\n    "
          },
          "metadata": {}
        },
        {
          "output_type": "display_data",
          "data": {
            "text/plain": "<IPython.core.display.Javascript object>",
            "application/javascript": "\n        if (window._pyforest_update_imports_cell) { window._pyforest_update_imports_cell('from sklearn.feature_extraction.text import TfidfVectorizer\\nimport numpy as np'); }\n    "
          },
          "metadata": {}
        },
        {
          "output_type": "stream",
          "name": "stdout",
          "text": [
            "hyperplanes:   [[ 1.76405235  0.40015721  0.97873798 ... -0.03057244  1.57708821\n  -0.8128021 ]\n [ 0.61334917  1.84369998  0.27109098 ... -0.20273458 -0.25786648\n   0.07081452]\n [ 0.99784476  0.26008072  0.92506562 ... -1.9974298  -0.03192091\n   0.22396576]\n [ 0.94550839  0.42292354 -1.17568    ...  1.41938754  0.74710667\n  -0.10630249]\n [-1.96265255 -0.83403203  1.99383675 ... -0.05725925 -1.05893126\n  -0.32652844]]\n"
          ]
        }
      ],
      "source": [
        "import numpy as np\n",
        "#   After the tfidf vectors are generated as mentioned above, next task is to generate random hyperplanes.\n",
        "#   5. Generate **5 random hyperplanes**. And generate the hyperplanes using a random normal distribution \n",
        "#      with **mean zero and variance 1**. \n",
        "#   6. We have set the **numpy random seed to zero**, please do not change it. \n",
        "#     And then you can make use of **np.random.normal** to generate the vectors for hyperplanes.\n",
        "np.random.seed(0)\n",
        "\n",
        "hyperplanes = # Empty Array\n",
        "for _ in range(5):\n",
        "\n",
        "    hyperplane =  #generate hyperplane with normal distribution (0,1) of shape X.shape[1]\n",
        "    hyperplanes.append(hyperplane)\n",
        "\n",
        "hyperplanes = np.array(hyperplanes)\n",
        "print('hyperplanes:  ',hyperplanes)\n",
        "\n",
        "# OUTPUT - \n",
        "# hyperplanes:   [[ 1.76405235  0.40015721  0.97873798 ... -0.03057244  1.57708821\n",
        "#   -0.8128021 ]\n",
        "#  [ 0.61334917  1.84369998  0.27109098 ... -0.20273458 -0.25786648\n",
        "#    0.07081452]\n",
        "#  [ 0.99784476  0.26008072  0.92506562 ... -1.9974298  -0.03192091\n",
        "#    0.22396576]\n",
        "#  [ 0.94550839  0.42292354 -1.17568    ...  1.41938754  0.74710667\n",
        "#   -0.10630249]\n",
        "#  [-1.96265255 -0.83403203  1.99383675 ... -0.05725925 -1.05893126\n",
        "#   -0.32652844]]"
      ]
    },
    {
      "cell_type": "code",
      "execution_count": 9,
      "metadata": {},
      "outputs": [],
      "source": [
        "#   7. As mentioned in the course videos, compute the hash function and also the corresponding hash table for it.\n",
        "def key_generator(x_vector):\n",
        "    # print(x_vector.shape)\n",
        "    #     By doing dot product we get array of key.\n",
        "    #     If point is on positive half it key value is positive\n",
        "    #     If point is on negative half it key value is negative\n",
        "\n",
        "    dot_product_key_array = #Dot product between x_vector and hyperplanes.T\n",
        "    # print(dot_product_key_array.shape)\n",
        "    # dot_product_key_array is sparse matrix, So converting into the list\n",
        "\n",
        "    dot_product_key_array = dot_product_key_array.tolist() # Convert sparse list to normal list\n",
        "\n",
        "    key_list = []\n",
        "    for val in dot_product_key_array[0]:\n",
        "    #     if value in dot_product_key_array is positive add 1, if negative then 0 in key\n",
        "        if val>0:\n",
        "            key_list.append(1)\n",
        "        else:\n",
        "            key_list.append(0)\n",
        "\n",
        "    key = tuple(key_list)\n",
        "    return key"
      ]
    },
    {
      "cell_type": "code",
      "execution_count": 10,
      "metadata": {
        "tags": []
      },
      "outputs": [
        {
          "output_type": "stream",
          "name": "stdout",
          "text": [
            "{(0, 0, 0, 0, 0): [], (0, 0, 0, 0, 1): [], (0, 0, 0, 1, 0): [], (0, 0, 0, 1, 1): [], (0, 0, 1, 0, 0): [], (0, 0, 1, 0, 1): [], (0, 0, 1, 1, 0): [], (0, 0, 1, 1, 1): [], (0, 1, 0, 0, 0): [], (0, 1, 0, 0, 1): [], (0, 1, 0, 1, 0): [], (0, 1, 0, 1, 1): [], (0, 1, 1, 0, 0): [], (0, 1, 1, 0, 1): [], (0, 1, 1, 1, 0): [], (0, 1, 1, 1, 1): [], (1, 0, 0, 0, 0): [], (1, 0, 0, 0, 1): [], (1, 0, 0, 1, 0): [], (1, 0, 0, 1, 1): [], (1, 0, 1, 0, 0): [], (1, 0, 1, 0, 1): [], (1, 0, 1, 1, 0): [], (1, 0, 1, 1, 1): [], (1, 1, 0, 0, 0): [], (1, 1, 0, 0, 1): [], (1, 1, 0, 1, 0): [], (1, 1, 0, 1, 1): [], (1, 1, 1, 0, 0): [], (1, 1, 1, 0, 1): [], (1, 1, 1, 1, 0): [], (1, 1, 1, 1, 1): []}\n"
          ]
        }
      ],
      "source": [
        "#let's create Hash_Table now\n",
        "#empty dictionary hash_table with keys\n",
        "import itertools\n",
        "from itertools import product\n",
        "keys = list(product([0,1], repeat=5))\n",
        "hash_table = {k:[] for k in keys}\n",
        "\n",
        "print(hash_table)\n",
        "# OUTPUT - \n",
        "# {(0, 0, 0, 0, 0): [], (0, 0, 0, 0, 1): [], (0, 0, 0, 1, 0): [], (0, 0, 0, 1, 1): [], (0, 0, 1, 0, 0): [], (0, 0, 1, 0, 1): [], (0, 0, 1, 1, 0): [], (0, 0, 1, 1, 1): [], (0, 1, 0, 0, 0): [], (0, 1, 0, 0, 1): [], (0, 1, 0, 1, 0): [], (0, 1, 0, 1, 1): [], (0, 1, 1, 0, 0): [], (0, 1, 1, 0, 1): [], (0, 1, 1, 1, 0): [], (0, 1, 1, 1, 1): [], (1, 0, 0, 0, 0): [], (1, 0, 0, 0, 1): [], (1, 0, 0, 1, 0): [], (1, 0, 0, 1, 1): [], (1, 0, 1, 0, 0): [], (1, 0, 1, 0, 1): [], (1, 0, 1, 1, 0): [], (1, 0, 1, 1, 1): [], (1, 1, 0, 0, 0): [], (1, 1, 0, 0, 1): [], (1, 1, 0, 1, 0): [], (1, 1, 0, 1, 1): [], (1, 1, 1, 0, 0): [], (1, 1, 1, 0, 1): [], (1, 1, 1, 1, 0): [], (1, 1, 1, 1, 1): []}\n",
        "\n",
        "\n",
        "index_of_sentence = 0\n",
        "#   Let's generate hash_table usinng key_generator function\n",
        "for point in X:\n",
        "    key = #call function key_generator on point and get key\n",
        "    hash_table[key].append(index_of_sentence)\n",
        "    index_of_sentence += 1"
      ]
    },
    {
      "cell_type": "code",
      "execution_count": 11,
      "metadata": {},
      "outputs": [
        {
          "output_type": "stream",
          "name": "stdout",
          "text": [
            "Xq.shape:   (10, 4000)\n"
          ]
        }
      ],
      "source": [
        "#   8. Once the hash table is generated now take in each of the query points from the test data.\n",
        "#   9. Vectorize those query points using the same tfidf vectorizer as mentioned above.\n",
        "Xtest, Ytest = test_data['text'].copy(), test_data['category'].copy()\n",
        "\n",
        "# Query points saved in Xq array\n",
        "Xq = # use only transform on Xtest using tfidf_vectorizer_fitted_model\n",
        "print('Xq.shape:  ',Xq.shape)\n",
        "\n",
        "# OUTPUT - Xq.shape:   (10, 4000)"
      ]
    },
    {
      "cell_type": "code",
      "execution_count": 1,
      "metadata": {},
      "outputs": [
        {
          "output_type": "error",
          "ename": "NameError",
          "evalue": "name 'Xq' is not defined",
          "traceback": [
            "\u001b[0;31m---------------------------------------------------------------------------\u001b[0m",
            "\u001b[0;31mNameError\u001b[0m                                 Traceback (most recent call last)",
            "\u001b[0;32m<ipython-input-1-75cb6471ff3d>\u001b[0m in \u001b[0;36m<module>\u001b[0;34m\u001b[0m\n\u001b[1;32m     21\u001b[0m \u001b[0;31m# #return labels\u001b[0m\u001b[0;34m\u001b[0m\u001b[0;34m\u001b[0m\u001b[0;34m\u001b[0m\u001b[0m\n\u001b[1;32m     22\u001b[0m \u001b[0mlabels\u001b[0m \u001b[0;34m=\u001b[0m \u001b[0;34m[\u001b[0m\u001b[0;34m]\u001b[0m\u001b[0;34m\u001b[0m\u001b[0;34m\u001b[0m\u001b[0m\n\u001b[0;32m---> 23\u001b[0;31m \u001b[0;32mfor\u001b[0m \u001b[0mquery_point\u001b[0m \u001b[0;32min\u001b[0m \u001b[0mXq\u001b[0m\u001b[0;34m:\u001b[0m\u001b[0;34m\u001b[0m\u001b[0;34m\u001b[0m\u001b[0m\n\u001b[0m\u001b[1;32m     24\u001b[0m     \u001b[0mquery_point_key\u001b[0m \u001b[0;34m=\u001b[0m \u001b[0mkey_generator\u001b[0m\u001b[0;34m(\u001b[0m\u001b[0mquery_point\u001b[0m\u001b[0;34m)\u001b[0m\u001b[0;34m\u001b[0m\u001b[0;34m\u001b[0m\u001b[0m\n\u001b[1;32m     25\u001b[0m     \u001b[0mall_neighbors_in_region\u001b[0m \u001b[0;34m=\u001b[0m \u001b[0mhash_table\u001b[0m\u001b[0;34m[\u001b[0m\u001b[0mquery_point_key\u001b[0m\u001b[0;34m]\u001b[0m\u001b[0;34m\u001b[0m\u001b[0;34m\u001b[0m\u001b[0m\n",
            "\u001b[0;31mNameError\u001b[0m: name 'Xq' is not defined"
          ]
        }
      ],
      "source": [
        "# let's get 11 nearest neighbors and take majority vote.\n",
        "# in case of tie choose the top label after sorting alphabatically\n",
        "\n",
        "labels = []\n",
        "for query_point in Xq:\n",
        "    query_point_key = #get key of query_point using key_generator\n",
        "    all_neighbors_in_region = #get all neighbors from hash table using query_point_key from hash_table\n",
        "    all_neighbors_in_region = np.array(all_neighbors_in_region)\n",
        "\n",
        "    cosine_sim = []\n",
        "    for neighbor in all_neighbors_in_region:\n",
        "        cossim = #calculate cosine similarity using dot product between X[neighbor] and query_point.T\n",
        "        cossim = cossim.todense().item()\n",
        "        cosine_sim.append(cossim)\n",
        "\n",
        "    nearest_11_neighbors = all_neighbors_in_region[np.argsort(cosine_sim)[::-1][:11]]\n",
        "    top_11_labels = list(Ytrain[nearest_11_neighbors])\n",
        "    top_label = max(sorted(top_11_labels), key = top_11_labels.count)\n",
        "    labels.append(top_label)\n",
        "\n",
        "#return labels"
      ]
    },
    {
      "source": [
        "## Now compile everything in below function."
      ],
      "cell_type": "markdown",
      "metadata": {}
    },
    {
      "cell_type": "code",
      "execution_count": 13,
      "metadata": {},
      "outputs": [],
      "source": [
        "# Please implement this fucntion and write your code wherever asked. Do NOT change the code snippets provided by us.\n",
        "from sklearn.feature_extraction.text import TfidfVectorizer\n",
        "import numpy as np\n",
        "\n",
        "def predictLabels (test_data):\n",
        "  \"\"\"\n",
        "  Given the test_data, return the labels for all the rows in the test data.\n",
        "  Follow the step by step instructions mentioned above.\n",
        "  \"\"\"\n",
        "\n",
        "  np.random.seed(0)\n",
        "\n",
        "  ##############################################################\n",
        "  ####  Write YOUR CODE BELOW  as per the above instructions ###\n",
        "  ##############################################################\n",
        "  "
      ]
    },
    {
      "cell_type": "markdown",
      "metadata": {
        "id": "AU6mt5wq3Oyg"
      },
      "source": [
        "### Instructions:\n",
        "\n",
        "  1. Read in the train_data.\n",
        "  2. Vectorize train_data using sklearns built in tfidf vectorizer.\n",
        "  3. Ignore unigrams and make use of both **bigrams & trigrams** and also limit the **max features** to **4000** and **minimum document frequency** to **10**.\n",
        "  4. After the tfidf vectors are generated as mentioned above, next task is to generate random hyperplanes.\n",
        "  5. Generate **5 random hyperplanes**. And generate the hyperplanes using a random normal distribution with **mean zero and variance 1**. \n",
        "  6. We have set the **numpy random seed to zero**, please do not change it. And then you can make use of **np.random.normal** to generate the vectors for hyperplanes.\n",
        "  7. As mentioned in the course videos, compute the hash function and also the corresponding hash table for it.\n",
        "  8. Once the hash table is generated now take in each of the query points from the test data.\n",
        "  9. Vectorize those query points using the same tfidf vectorizer as mentioned above.\n",
        "  10. Now use the hash function on this query point and fetch all the similar data points from the hashtable.\n",
        "  11. Use cosine similarity to compute **11-Nearest Neighbours** from the list of data points obtained in the above step.\n",
        "  12. Take a majority vote among the 11-Nearest Neighbours and predict the class label for the query point in the test data.\n",
        "  13. **In case of a tie** in the obtained labels from nearest neighbours, you can pick a label after sorting all the labels **alphabetically**(A-Z), i.e. for example labels starting with A would get more preference than labels starting with Z.\n",
        "  14. Repeat steps 9 to 13 for all the points in the test data and then finally return a list with all the predicted labels.\n",
        "  15. Note that there are a total of 10 data points in the test data so the final list you return should be of length 10.\n",
        "  16. Also note that the cosine similarity function should be written from scratch, you should not directly make use of existing libraries.\n",
        "  17. Please use the formula of cosine similarity as explained in the course videos, you can make use of numpy or scipy to calculate dot or norm or transpose."
      ]
    },
    {
      "cell_type": "markdown",
      "metadata": {
        "id": "rhnngvQkrnBB"
      },
      "source": [
        "## Grader Cell\n",
        "\n",
        "Please execute the following Grader cell to verify the correctness of your above implementation. This cell will print \"Success\" if your implmentation of the predictLabels() is correct, else, it will print \"Failed\". Make sure you get a \"Success\" before you submit the code in the classroom."
      ]
    },
    {
      "cell_type": "code",
      "metadata": {
        "id": "GX1sji2XrtmX",
        "colab": {
          "base_uri": "https://localhost:8080/"
        },
        "outputId": "b946e98a-748c-4911-b5e6-b5614bab1cc6"
      },
      "source": [
        "###########################################\n",
        "## GRADER CELL: Do NOT Change this.\n",
        "# This cell will print \"Success\" if your implmentation of the predictLabels() is correct and the accuracy obtained is above 80%.\n",
        "# Else, it will print \"Failed\"\n",
        "###########################################\n",
        "import numpy as np\n",
        "\n",
        "# Predict the labels using the predictLabels() function\n",
        "# Y_custom = np.array(predictLabels(test_data))\n",
        "\n",
        "# Reference grader array - DO NOT MODIFY IT\n",
        "Y_grader = np.array(['tech', 'entertainment', 'tech', 'sport', 'business', 'business', 'politics', 'entertainment', 'politics', 'sport'])\n",
        "\n",
        "# Calculating accuracy by comparing Y_grader and Y_custom\n",
        "accuracy = np.sum(Y_grader==Y_custom) * 10\n",
        "\n",
        "if accuracy >= 80:\n",
        "  print(\"******** Success ********\",\"Accuracy Achieved = \", accuracy,'%')\n",
        "else:\n",
        "  print(\"####### Failed #######\",\"Accuracy Achieved = \", accuracy,'%')\n",
        "  print(\"\\nY_grader = \\n\\n\", Y_grader)\n",
        "  print(\"\\n\",\"*\"*50)\n",
        "  print(\"\\nY_custom = \\n\\n\", Y_custom)\n"
      ],
      "execution_count": 18,
      "outputs": [
        {
          "output_type": "error",
          "ename": "ValueError",
          "evalue": "shape mismatch: objects cannot be broadcast to a single shape",
          "traceback": [
            "\u001b[0;31m---------------------------------------------------------------------------\u001b[0m",
            "\u001b[0;31mValueError\u001b[0m                                Traceback (most recent call last)",
            "\u001b[0;32m<ipython-input-18-ccd2475cd0a7>\u001b[0m in \u001b[0;36m<module>\u001b[0;34m\u001b[0m\n\u001b[1;32m     14\u001b[0m \u001b[0;34m\u001b[0m\u001b[0m\n\u001b[1;32m     15\u001b[0m \u001b[0;31m# Calculating accuracy by comparing Y_grader and Y_custom\u001b[0m\u001b[0;34m\u001b[0m\u001b[0;34m\u001b[0m\u001b[0;34m\u001b[0m\u001b[0m\n\u001b[0;32m---> 16\u001b[0;31m \u001b[0maccuracy\u001b[0m \u001b[0;34m=\u001b[0m \u001b[0mnp\u001b[0m\u001b[0;34m.\u001b[0m\u001b[0msum\u001b[0m\u001b[0;34m(\u001b[0m\u001b[0mY_grader\u001b[0m\u001b[0;34m==\u001b[0m\u001b[0mY_custom\u001b[0m\u001b[0;34m)\u001b[0m \u001b[0;34m*\u001b[0m \u001b[0;36m10\u001b[0m\u001b[0;34m\u001b[0m\u001b[0;34m\u001b[0m\u001b[0m\n\u001b[0m\u001b[1;32m     17\u001b[0m \u001b[0;34m\u001b[0m\u001b[0m\n\u001b[1;32m     18\u001b[0m \u001b[0;32mif\u001b[0m \u001b[0maccuracy\u001b[0m \u001b[0;34m>=\u001b[0m \u001b[0;36m80\u001b[0m\u001b[0;34m:\u001b[0m\u001b[0;34m\u001b[0m\u001b[0;34m\u001b[0m\u001b[0m\n",
            "\u001b[0;31mValueError\u001b[0m: shape mismatch: objects cannot be broadcast to a single shape"
          ]
        }
      ]
    },
    {
      "cell_type": "code",
      "metadata": {
        "id": "rGvdBm_WL7TP"
      },
      "source": [],
      "execution_count": 14,
      "outputs": []
    }
  ]
}