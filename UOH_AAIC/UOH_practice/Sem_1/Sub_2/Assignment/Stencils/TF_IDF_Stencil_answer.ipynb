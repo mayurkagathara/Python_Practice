{
  "nbformat": 4,
  "nbformat_minor": 0,
  "metadata": {
    "colab": {
      "name": "TF-IDF from Scratch Assignment.ipynb",
      "provenance": [],
      "collapsed_sections": []
    },
    "kernelspec": {
      "name": "python3",
      "display_name": "Python 3.6.9 64-bit"
    },
    "language_info": {
      "name": "python",
      "version": "3.6.9"
    },
    "interpreter": {
      "hash": "31f2aee4e71d21fbe5cf8b01ff0e069b9275f58929596ceb00d14d90e3e16cd6"
    }
  },
  "cells": [
    {
      "cell_type": "markdown",
      "metadata": {
        "id": "GsnogjXUQu1K"
      },
      "source": [
        "# NOTE:\n",
        "\n",
        "This is a stencil for TFIDF assignment to help you understand the flow and code along.\n",
        "\n",
        "If you like my work show some love by endorsing/reccomending me on Linkedin in python/datascience/management. [mayur-kagathara](https://www.linkedin.com/in/mayur-kagathara/)"
      ]
    },
    {
      "cell_type": "code",
      "metadata": {
        "id": "ZxSRJ4KT3OMw"
      },
      "source": [
        "# Corpus to be used for this assignment\n",
        "import numpy as np\n",
        "corpus = [\n",
        "     'this is the first document mostly',\n",
        "     'this document is the second document',\n",
        "     'and this is the third one',\n",
        "     'is this the first document here',\n",
        "]"
      ],
      "execution_count": 2,
      "outputs": []
    },
    {
      "cell_type": "code",
      "execution_count": 9,
      "metadata": {},
      "outputs": [
        {
          "output_type": "stream",
          "name": "stdout",
          "text": [
            "['here', 'is', 'third', 'the', 'one', 'first', 'second', 'this', 'document', 'mostly', 'and']\n"
          ]
        }
      ],
      "source": [
        "#create set of words in corpus\n",
        "#1. create empty set sow as set()\n",
        "sow=set()\n",
        "\n",
        "#for all sentence in corpus add word into sow. Two for loops can be used to get word out of corpus\n",
        "#1. first for loop to get sent\n",
        "#2. second for loop to get words from sent.split()\n",
        "for sent in corpus:\n",
        "    for word in sent.split():\n",
        "        sow.add(word)\n",
        "\n",
        "#save sow in list sow sow=list(sow)\n",
        "sow=list(sow)\n",
        "print(sow)\n",
        "# OUTPUT - ['here', 'is', 'third', 'the', 'one', 'first', 'second', 'this', 'document', 'mostly', 'and']"
      ]
    },
    {
      "cell_type": "code",
      "execution_count": 13,
      "metadata": {},
      "outputs": [
        {
          "output_type": "stream",
          "name": "stdout",
          "text": [
            "{'here': 1, 'is': 4, 'third': 1, 'the': 4, 'one': 1, 'first': 2, 'second': 1, 'this': 4, 'document': 3, 'mostly': 1, 'and': 1}\n"
          ]
        }
      ],
      "source": [
        "#for each word in SOW count the number of sentences containing the word\n",
        "#for example, count for document is 3\n",
        "\n",
        "#create empty idf_count_dict using sow list\n",
        "idf_count_dict = dict.fromkeys(sow,0)\n",
        "#use for loop to get word out of sow\n",
        "#use nested for loop to get sent out of corpus.\n",
        "#Check if word is inside sentence, if yes than increase the count by 1.\n",
        "# add this count in dictionary idf_count_dict\n",
        "for word in sow:\n",
        "    count = 0\n",
        "    for sent in corpus:\n",
        "        if word in sent:\n",
        "            count += 1\n",
        "    idf_count_dict[word] = count\n",
        "\n",
        "print(idf_count_dict)\n",
        "#OUTPUT - {'here': 1, 'is': 4, 'third': 1, 'the': 4, 'one': 1, 'first': 2, 'second': 1, 'this': 4, 'document': 3, 'mostly': 1, 'and': 1}"
      ]
    },
    {
      "cell_type": "code",
      "execution_count": 17,
      "metadata": {},
      "outputs": [
        {
          "output_type": "stream",
          "name": "stdout",
          "text": [
            "{'here': 1.3862943611198906, 'is': 0.0, 'third': 1.3862943611198906, 'the': 0.0, 'one': 1.3862943611198906, 'first': 0.6931471805599453, 'second': 1.3862943611198906, 'this': 0.0, 'document': 0.28768207245178085, 'mostly': 1.3862943611198906, 'and': 1.3862943611198906}\n"
          ]
        }
      ],
      "source": [
        "# Calculate IDF value using idf_count_dict\n",
        "idf_dic = dict.fromkeys(sow,0)\n",
        "\n",
        "# Loop through key (word) and value (count) in idf_count_dict\n",
        "# calculate IDF_Value and update it into idf_dic\n",
        "\n",
        "for word,count in idf_count_dict.items():\n",
        "    idf_val = np.log(4/count)\n",
        "    idf_dic[word] = idf_val\n",
        "\n",
        "print(idf_dic)\n",
        "#OUTPUT - {'here': 1.3862943611198906, 'is': 0.0, 'third': 1.3862943611198906, 'the': 0.0, 'one': 1.3862943611198906, 'first': 0.6931471805599453, 'second': 1.3862943611198906, 'this': 0.0, 'document': 0.28768207245178085, 'mostly': 1.3862943611198906, 'and': 1.3862943611198906}"
      ]
    },
    {
      "cell_type": "code",
      "execution_count": 20,
      "metadata": {},
      "outputs": [
        {
          "output_type": "stream",
          "name": "stdout",
          "text": [
            "[[0.   0.   0.   0.12 0.05 0.23]\n [0.   0.1  0.   0.   0.23 0.1 ]\n [0.23 0.   0.   0.   0.23 0.23]\n [0.   0.   0.   0.12 0.05 0.23]]\n"
          ]
        }
      ],
      "source": [
        "#declare empty list TFIDF\n",
        "TFIDF = []\n",
        "\n",
        "for sent in corpus:\n",
        "    total_words = len(sent.split())\n",
        "    tfidf_temp_list = []\n",
        "    for word in sent.split():\n",
        "        word_count = sent.count(word)\n",
        "        tf = word_count/total_words\n",
        "        tfidf_val = tf * idf_dic[word]\n",
        "        tfidf_temp_list.append(round(tfidf_val,2))\n",
        "    TFIDF.append(tfidf_temp_list)\n",
        "\n",
        "TFIDF = np.array(TFIDF)\n",
        "print(TFIDF)\n",
        "# OUTPUT - \n",
        "# [[0.   0.   0.   0.12 0.05 0.23]\n",
        "#  [0.   0.1  0.   0.   0.23 0.1 ]\n",
        "#  [0.23 0.   0.   0.   0.23 0.23]\n",
        "#  [0.   0.   0.   0.12 0.05 0.23]]"
      ]
    },
    {
      "source": [
        "## Now your task is to compile everything in below function"
      ],
      "cell_type": "markdown",
      "metadata": {}
    },
    {
      "cell_type": "code",
      "metadata": {
        "id": "aYoKXNsU3nhO"
      },
      "source": [
        "def computeTFIDF (corpus):\n",
        "  ##############################################################\n",
        "  ####   YOUR CODE BELOW  as per the above instructions #######\n",
        "  ##############################################################"
      ],
      "execution_count": 61,
      "outputs": []
    },
    {
      "cell_type": "markdown",
      "metadata": {
        "id": "cZ_hmMn92bEe"
      },
      "source": [
        "# Grader Cell\n",
        "Please execute the following Grader cell to verify the correctness of your above implementation. This cell will print \"Success\" if your implmentation of the computeTFIDF() is correct, else, it will print \"Failed\". Make sure you get a \"Success\" before you submit the code in the classroom."
      ]
    },
    {
      "cell_type": "code",
      "metadata": {
        "id": "ZUYmXFjfu53i",
        "outputId": "d1f6b00c-a762-45c1-93dd-48b8d1019f79",
        "colab": {
          "base_uri": "https://localhost:8080/"
        }
      },
      "source": [
        "###########################################\n",
        "## GRADER CELL: Do NOT Change this.\n",
        "# This cell will print \"Success\" if your implmentation of the computeTFIDF() is correct.\n",
        "# Else, it will print \"Failed\"\n",
        "###########################################\n",
        "import numpy as np\n",
        "\n",
        "# compute TF-IDF using the computeTFIDF() function\n",
        "X_custom = computeTFIDF(corpus)\n",
        "\n",
        "# Reference grader array - DO NOT MODIFY IT\n",
        "X_grader = np.array(\n",
        "    [[0, 0, 0, 0.12, 0.05, 0.23],\n",
        "     [0, 0.1, 0, 0, 0.23, 0.1],\n",
        "     [0.23, 0, 0, 0, 0.23, 0.23],\n",
        "     [0, 0, 0, 0.12, 0.05, 0.23]]\n",
        "     )\n",
        "\n",
        "# compare X_grader and X_custom\n",
        "comparison = ( X_grader == X_custom )\n",
        "isEqual = comparison.all()\n",
        "\n",
        "if isEqual:\n",
        "  print(\"******** Success ********\")\n",
        "else:\n",
        "  print(\"####### Failed #######\")\n",
        "  print(\"\\nX_grader = \\n\\n\", X_grader)\n",
        "  print(\"\\n\",\"*\"*50)\n",
        "  print(\"\\nX_custom = \\n\\n\", X_custom)\n"
      ],
      "execution_count": 62,
      "outputs": [
        {
          "output_type": "stream",
          "text": [
            "******** Success ********\n"
          ],
          "name": "stdout"
        }
      ]
    },
    {
      "cell_type": "code",
      "metadata": {
        "id": "8KnzKuIYeAEJ"
      },
      "source": [],
      "execution_count": null,
      "outputs": []
    }
  ]
}