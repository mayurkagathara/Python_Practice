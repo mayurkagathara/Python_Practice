{
 "metadata": {
  "language_info": {
   "codemirror_mode": {
    "name": "ipython",
    "version": 3
   },
   "file_extension": ".py",
   "mimetype": "text/x-python",
   "name": "python",
   "nbconvert_exporter": "python",
   "pygments_lexer": "ipython3",
   "version": "3.6.9"
  },
  "orig_nbformat": 2,
  "kernelspec": {
   "name": "python3",
   "display_name": "Python 3.6.9 64-bit",
   "metadata": {
    "interpreter": {
     "hash": "31f2aee4e71d21fbe5cf8b01ff0e069b9275f58929596ceb00d14d90e3e16cd6"
    }
   }
  }
 },
 "nbformat": 4,
 "nbformat_minor": 2,
 "cells": [
  {
   "source": [
    "## climb the steps\n",
    "You can climb the steps either 1 or 2 at a time. Find the number of ways you can climb n steps.  \n",
    "**this is fibbonacci number problem**"
   ],
   "cell_type": "markdown",
   "metadata": {}
  },
  {
   "source": [
    "#### Iterative way"
   ],
   "cell_type": "markdown",
   "metadata": {}
  },
  {
   "cell_type": "code",
   "execution_count": 4,
   "metadata": {},
   "outputs": [
    {
     "output_type": "stream",
     "name": "stdout",
     "text": [
      "Number of ways 89\n"
     ]
    }
   ],
   "source": [
    "steps = 10\n",
    "\n",
    "sl_digit = 0\n",
    "l_digit = 1\n",
    "\n",
    "for i in range(1,steps+1):\n",
    "    current_fibo = sl_digit+l_digit\n",
    "    sl_digit = l_digit\n",
    "    l_digit = current_fibo\n",
    "\n",
    "print(\"Number of ways\", current_fibo)"
   ]
  },
  {
   "source": [
    "#### recursion method\n",
    "We will make recursive calls to find the last and second last answer."
   ],
   "cell_type": "markdown",
   "metadata": {}
  },
  {
   "cell_type": "code",
   "execution_count": 5,
   "metadata": {},
   "outputs": [
    {
     "output_type": "stream",
     "name": "stdout",
     "text": [
      "steps  10\nsteps  9\nsteps  8\nsteps  7\nsteps  6\nsteps  5\nsteps  4\nsteps  3\nsteps  2\nsteps  1\nsteps  2\nsteps  3\nsteps  2\nsteps  1\nsteps  4\nsteps  3\nsteps  2\nsteps  1\nsteps  2\nsteps  5\nsteps  4\nsteps  3\nsteps  2\nsteps  1\nsteps  2\nsteps  3\nsteps  2\nsteps  1\nsteps  6\nsteps  5\nsteps  4\nsteps  3\nsteps  2\nsteps  1\nsteps  2\nsteps  3\nsteps  2\nsteps  1\nsteps  4\nsteps  3\nsteps  2\nsteps  1\nsteps  2\nsteps  7\nsteps  6\nsteps  5\nsteps  4\nsteps  3\nsteps  2\nsteps  1\nsteps  2\nsteps  3\nsteps  2\nsteps  1\nsteps  4\nsteps  3\nsteps  2\nsteps  1\nsteps  2\nsteps  5\nsteps  4\nsteps  3\nsteps  2\nsteps  1\nsteps  2\nsteps  3\nsteps  2\nsteps  1\nsteps  8\nsteps  7\nsteps  6\nsteps  5\nsteps  4\nsteps  3\nsteps  2\nsteps  1\nsteps  2\nsteps  3\nsteps  2\nsteps  1\nsteps  4\nsteps  3\nsteps  2\nsteps  1\nsteps  2\nsteps  5\nsteps  4\nsteps  3\nsteps  2\nsteps  1\nsteps  2\nsteps  3\nsteps  2\nsteps  1\nsteps  6\nsteps  5\nsteps  4\nsteps  3\nsteps  2\nsteps  1\nsteps  2\nsteps  3\nsteps  2\nsteps  1\nsteps  4\nsteps  3\nsteps  2\nsteps  1\nsteps  2\nNumber of ways 89\n"
     ]
    }
   ],
   "source": [
    "def ways(steps):\n",
    "    print(\"steps \",steps)\n",
    "    if steps==1:\n",
    "        return 1\n",
    "    if steps==2:\n",
    "        return 2\n",
    "    return ways(steps-1) + ways(steps-2)\n",
    "\n",
    "# driver code\n",
    "ans = ways(10)\n",
    "print(\"Number of ways\", ans)"
   ]
  },
  {
   "source": [
    "### Dynamic programming\n",
    "**Memoization** to save the previous answers and find the answer using previously calculated answers."
   ],
   "cell_type": "markdown",
   "metadata": {}
  },
  {
   "cell_type": "code",
   "execution_count": 7,
   "metadata": {},
   "outputs": [
    {
     "output_type": "stream",
     "name": "stdout",
     "text": [
      "10\n9\n8\n7\n6\n5\n4\n3\nNumber of ways 89\n{1: 1, 2: 2, 3: 3, 4: 5, 5: 8, 6: 13, 7: 21, 8: 34, 9: 55, 10: 89}\n"
     ]
    }
   ],
   "source": [
    "answers_dict = {1:1,2:2}\n",
    "def ways_dyn(steps):\n",
    "    print(steps)\n",
    "    if steps==1:\n",
    "        return 1\n",
    "    if steps==2:\n",
    "        return 2\n",
    "\n",
    "    if answers_dict.get(steps-1, 0) > 0:\n",
    "        l_number = answers_dict.get(steps-1, 0)\n",
    "    else:\n",
    "        l_number = ways_dyn(steps-1)\n",
    "\n",
    "    if answers_dict.get(steps-2, 0) > 0:\n",
    "        sl_number = answers_dict.get(steps-2, 0)\n",
    "    else:\n",
    "        sl_number = ways_dyn(steps-2)\n",
    "    \n",
    "    ans = l_number+sl_number\n",
    "    answers_dict[steps] = ans\n",
    "\n",
    "    return ans\n",
    "\n",
    "n_of_ways = ways_dyn(10)\n",
    "print(\"Number of ways\", n_of_ways)\n",
    "print(answers_dict)"
   ]
  },
  {
   "source": [
    "##NOTE\n",
    "We made only 8 recursion calls to get the answer for 10 steps in using memoization. It is better then pure recursion.  \n",
    "**Time complexity**\n",
    "* Iterative method = O(n)\n",
    "* recursion method = O(n^2)\n",
    "* memoization method = O(n)"
   ],
   "cell_type": "markdown",
   "metadata": {}
  },
  {
   "cell_type": "code",
   "execution_count": null,
   "metadata": {},
   "outputs": [],
   "source": []
  }
 ]
}